{
 "cells": [
  {
   "attachments": {
    "image.png": {
     "image/png": "[encoded data removed]"
    }
   },
   "cell_type": "markdown",
   "id": "48c56688",
   "metadata": {},
   "source": [
    "![image.png](attachment:image.png)"
   ]
  },
  {
   "cell_type": "markdown",
   "id": "09105054",
   "metadata": {},
   "source": [
    "\n",
    "<h1><center> NOTEBOOK D'EXPLORATION \n",
    "   "
   ]
  },
  {
   "cell_type": "markdown",
   "id": "78c64784",
   "metadata": {},
   "source": [
    "Objectif : vous voulez tenter de prédire les émissions de CO2 et la consommation totale d’énergie de bâtiments non destinés à l’habitation."
   ]
  },
  {
   "cell_type": "code",
   "execution_count": 1,
   "id": "174f710c",
   "metadata": {},
   "outputs": [],
   "source": [
    "#import necessary libraries\n",
    "import pandas as pd\n",
    "import numpy as np\n",
    "import matplotlib.pyplot as plt\n",
    "import seaborn as sns\n",
    "import plotly.express as px"
   ]
  },
  {
   "cell_type": "code",
   "execution_count": 2,
   "id": "9e2b54fe",
   "metadata": {},
   "outputs": [],
   "source": [
    "#import file\n",
    "benchmark=pd.read_csv(\"2016_Building_Energy_Benchmarking.csv\")"
   ]
  },
  {
   "cell_type": "code",
   "execution_count": 3,
   "id": "f3c985bb",
   "metadata": {
    "scrolled": true
   },
   "outputs": [
    {
     "data": {
      "text/html": [
       "<div>\n",
       "<style scoped>\n",
       "    .dataframe tbody tr th:only-of-type {\n",
       "        vertical-align: middle;\n",
       "    }\n",
       "\n",
       "    .dataframe tbody tr th {\n",
       "        vertical-align: top;\n",
       "    }\n",
       "\n",
       "    .dataframe thead th {\n",
       "        text-align: right;\n",
       "    }\n",
       "</style>\n",
       "<table border=\"1\" class=\"dataframe\">\n",
       "  <thead>\n",
       "    <tr style=\"text-align: right;\">\n",
       "      <th></th>\n",
       "      <th>OSEBuildingID</th>\n",
       "      <th>DataYear</th>\n",
       "      <th>BuildingType</th>\n",
       "      <th>PrimaryPropertyType</th>\n",
       "      <th>PropertyName</th>\n",
       "      <th>Address</th>\n",
       "      <th>City</th>\n",
       "      <th>State</th>\n",
       "      <th>ZipCode</th>\n",
       "      <th>TaxParcelIdentificationNumber</th>\n",
       "      <th>...</th>\n",
       "      <th>Electricity(kWh)</th>\n",
       "      <th>Electricity(kBtu)</th>\n",
       "      <th>NaturalGas(therms)</th>\n",
       "      <th>NaturalGas(kBtu)</th>\n",
       "      <th>DefaultData</th>\n",
       "      <th>Comments</th>\n",
       "      <th>ComplianceStatus</th>\n",
       "      <th>Outlier</th>\n",
       "      <th>TotalGHGEmissions</th>\n",
       "      <th>GHGEmissionsIntensity</th>\n",
       "    </tr>\n",
       "  </thead>\n",
       "  <tbody>\n",
       "    <tr>\n",
       "      <th>0</th>\n",
       "      <td>1</td>\n",
       "      <td>2016</td>\n",
       "      <td>NonResidential</td>\n",
       "      <td>Hotel</td>\n",
       "      <td>Mayflower park hotel</td>\n",
       "      <td>405 Olive way</td>\n",
       "      <td>Seattle</td>\n",
       "      <td>WA</td>\n",
       "      <td>98101.0</td>\n",
       "      <td>0659000030</td>\n",
       "      <td>...</td>\n",
       "      <td>1.156514e+06</td>\n",
       "      <td>3946027.0</td>\n",
       "      <td>12764.52930</td>\n",
       "      <td>1276453.0</td>\n",
       "      <td>False</td>\n",
       "      <td>NaN</td>\n",
       "      <td>Compliant</td>\n",
       "      <td>NaN</td>\n",
       "      <td>249.98</td>\n",
       "      <td>2.83</td>\n",
       "    </tr>\n",
       "    <tr>\n",
       "      <th>1</th>\n",
       "      <td>2</td>\n",
       "      <td>2016</td>\n",
       "      <td>NonResidential</td>\n",
       "      <td>Hotel</td>\n",
       "      <td>Paramount Hotel</td>\n",
       "      <td>724 Pine street</td>\n",
       "      <td>Seattle</td>\n",
       "      <td>WA</td>\n",
       "      <td>98101.0</td>\n",
       "      <td>0659000220</td>\n",
       "      <td>...</td>\n",
       "      <td>9.504252e+05</td>\n",
       "      <td>3242851.0</td>\n",
       "      <td>51450.81641</td>\n",
       "      <td>5145082.0</td>\n",
       "      <td>False</td>\n",
       "      <td>NaN</td>\n",
       "      <td>Compliant</td>\n",
       "      <td>NaN</td>\n",
       "      <td>295.86</td>\n",
       "      <td>2.86</td>\n",
       "    </tr>\n",
       "    <tr>\n",
       "      <th>2</th>\n",
       "      <td>3</td>\n",
       "      <td>2016</td>\n",
       "      <td>NonResidential</td>\n",
       "      <td>Hotel</td>\n",
       "      <td>5673-The Westin Seattle</td>\n",
       "      <td>1900 5th Avenue</td>\n",
       "      <td>Seattle</td>\n",
       "      <td>WA</td>\n",
       "      <td>98101.0</td>\n",
       "      <td>0659000475</td>\n",
       "      <td>...</td>\n",
       "      <td>1.451544e+07</td>\n",
       "      <td>49526664.0</td>\n",
       "      <td>14938.00000</td>\n",
       "      <td>1493800.0</td>\n",
       "      <td>False</td>\n",
       "      <td>NaN</td>\n",
       "      <td>Compliant</td>\n",
       "      <td>NaN</td>\n",
       "      <td>2089.28</td>\n",
       "      <td>2.19</td>\n",
       "    </tr>\n",
       "    <tr>\n",
       "      <th>3</th>\n",
       "      <td>5</td>\n",
       "      <td>2016</td>\n",
       "      <td>NonResidential</td>\n",
       "      <td>Hotel</td>\n",
       "      <td>HOTEL MAX</td>\n",
       "      <td>620 STEWART ST</td>\n",
       "      <td>Seattle</td>\n",
       "      <td>WA</td>\n",
       "      <td>98101.0</td>\n",
       "      <td>0659000640</td>\n",
       "      <td>...</td>\n",
       "      <td>8.115253e+05</td>\n",
       "      <td>2768924.0</td>\n",
       "      <td>18112.13086</td>\n",
       "      <td>1811213.0</td>\n",
       "      <td>False</td>\n",
       "      <td>NaN</td>\n",
       "      <td>Compliant</td>\n",
       "      <td>NaN</td>\n",
       "      <td>286.43</td>\n",
       "      <td>4.67</td>\n",
       "    </tr>\n",
       "    <tr>\n",
       "      <th>4</th>\n",
       "      <td>8</td>\n",
       "      <td>2016</td>\n",
       "      <td>NonResidential</td>\n",
       "      <td>Hotel</td>\n",
       "      <td>WARWICK SEATTLE HOTEL (ID8)</td>\n",
       "      <td>401 LENORA ST</td>\n",
       "      <td>Seattle</td>\n",
       "      <td>WA</td>\n",
       "      <td>98121.0</td>\n",
       "      <td>0659000970</td>\n",
       "      <td>...</td>\n",
       "      <td>1.573449e+06</td>\n",
       "      <td>5368607.0</td>\n",
       "      <td>88039.98438</td>\n",
       "      <td>8803998.0</td>\n",
       "      <td>False</td>\n",
       "      <td>NaN</td>\n",
       "      <td>Compliant</td>\n",
       "      <td>NaN</td>\n",
       "      <td>505.01</td>\n",
       "      <td>2.88</td>\n",
       "    </tr>\n",
       "  </tbody>\n",
       "</table>\n",
       "<p>5 rows × 46 columns</p>\n",
       "</div>"
      ],
      "text/plain": [
       "   OSEBuildingID  DataYear    BuildingType PrimaryPropertyType  \\\n",
       "0              1      2016  NonResidential               Hotel   \n",
       "1              2      2016  NonResidential               Hotel   \n",
       "2              3      2016  NonResidential               Hotel   \n",
       "3              5      2016  NonResidential               Hotel   \n",
       "4              8      2016  NonResidential               Hotel   \n",
       "\n",
       "                  PropertyName          Address     City State  ZipCode  \\\n",
       "0         Mayflower park hotel    405 Olive way  Seattle    WA  98101.0   \n",
       "1              Paramount Hotel  724 Pine street  Seattle    WA  98101.0   \n",
       "2      5673-The Westin Seattle  1900 5th Avenue  Seattle    WA  98101.0   \n",
       "3                    HOTEL MAX   620 STEWART ST  Seattle    WA  98101.0   \n",
       "4  WARWICK SEATTLE HOTEL (ID8)    401 LENORA ST  Seattle    WA  98121.0   \n",
       "\n",
       "  TaxParcelIdentificationNumber  ...  Electricity(kWh) Electricity(kBtu)  \\\n",
       "0                    0659000030  ...      1.156514e+06         3946027.0   \n",
       "1                    0659000220  ...      9.504252e+05         3242851.0   \n",
       "2                    0659000475  ...      1.451544e+07        49526664.0   \n",
       "3                    0659000640  ...      8.115253e+05         2768924.0   \n",
       "4                    0659000970  ...      1.573449e+06         5368607.0   \n",
       "\n",
       "   NaturalGas(therms)  NaturalGas(kBtu)  DefaultData  Comments  \\\n",
       "0         12764.52930         1276453.0        False       NaN   \n",
       "1         51450.81641         5145082.0        False       NaN   \n",
       "2         14938.00000         1493800.0        False       NaN   \n",
       "3         18112.13086         1811213.0        False       NaN   \n",
       "4         88039.98438         8803998.0        False       NaN   \n",
       "\n",
       "   ComplianceStatus  Outlier  TotalGHGEmissions  GHGEmissionsIntensity  \n",
       "0         Compliant      NaN             249.98                   2.83  \n",
       "1         Compliant      NaN             295.86                   2.86  \n",
       "2         Compliant      NaN            2089.28                   2.19  \n",
       "3         Compliant      NaN             286.43                   4.67  \n",
       "4         Compliant      NaN             505.01                   2.88  \n",
       "\n",
       "[5 rows x 46 columns]"
      ]
     },
     "execution_count": 3,
     "metadata": {},
     "output_type": "execute_result"
    }
   ],
   "source": [
    "benchmark.head()"
   ]
  },
  {
   "cell_type": "code",
   "execution_count": 4,
   "id": "ff8fa40e",
   "metadata": {},
   "outputs": [
    {
     "name": "stdout",
     "output_type": "stream",
     "text": [
      "<class 'pandas.core.frame.DataFrame'>\n",
      "RangeIndex: 3376 entries, 0 to 3375\n",
      "Data columns (total 46 columns):\n",
      " #   Column                           Non-Null Count  Dtype  \n",
      "---  ------                           --------------  -----  \n",
      " 0   OSEBuildingID                    3376 non-null   int64  \n",
      " 1   DataYear                         3376 non-null   int64  \n",
      " 2   BuildingType                     3376 non-null   object \n",
      " 3   PrimaryPropertyType              3376 non-null   object \n",
      " 4   PropertyName                     3376 non-null   object \n",
      " 5   Address                          3376 non-null   object \n",
      " 6   City                             3376 non-null   object \n",
      " 7   State                            3376 non-null   object \n",
      " 8   ZipCode                          3360 non-null   float64\n",
      " 9   TaxParcelIdentificationNumber    3376 non-null   object \n",
      " 10  CouncilDistrictCode              3376 non-null   int64  \n",
      " 11  Neighborhood                     3376 non-null   object \n",
      " 12  Latitude                         3376 non-null   float64\n",
      " 13  Longitude                        3376 non-null   float64\n",
      " 14  YearBuilt                        3376 non-null   int64  \n",
      " 15  NumberofBuildings                3368 non-null   float64\n",
      " 16  NumberofFloors                   3376 non-null   int64  \n",
      " 17  PropertyGFATotal                 3376 non-null   int64  \n",
      " 18  PropertyGFAParking               3376 non-null   int64  \n",
      " 19  PropertyGFABuilding(s)           3376 non-null   int64  \n",
      " 20  ListOfAllPropertyUseTypes        3367 non-null   object \n",
      " 21  LargestPropertyUseType           3356 non-null   object \n",
      " 22  LargestPropertyUseTypeGFA        3356 non-null   float64\n",
      " 23  SecondLargestPropertyUseType     1679 non-null   object \n",
      " 24  SecondLargestPropertyUseTypeGFA  1679 non-null   float64\n",
      " 25  ThirdLargestPropertyUseType      596 non-null    object \n",
      " 26  ThirdLargestPropertyUseTypeGFA   596 non-null    float64\n",
      " 27  YearsENERGYSTARCertified         119 non-null    object \n",
      " 28  ENERGYSTARScore                  2533 non-null   float64\n",
      " 29  SiteEUI(kBtu/sf)                 3369 non-null   float64\n",
      " 30  SiteEUIWN(kBtu/sf)               3370 non-null   float64\n",
      " 31  SourceEUI(kBtu/sf)               3367 non-null   float64\n",
      " 32  SourceEUIWN(kBtu/sf)             3367 non-null   float64\n",
      " 33  SiteEnergyUse(kBtu)              3371 non-null   float64\n",
      " 34  SiteEnergyUseWN(kBtu)            3370 non-null   float64\n",
      " 35  SteamUse(kBtu)                   3367 non-null   float64\n",
      " 36  Electricity(kWh)                 3367 non-null   float64\n",
      " 37  Electricity(kBtu)                3367 non-null   float64\n",
      " 38  NaturalGas(therms)               3367 non-null   float64\n",
      " 39  NaturalGas(kBtu)                 3367 non-null   float64\n",
      " 40  DefaultData                      3376 non-null   bool   \n",
      " 41  Comments                         0 non-null      float64\n",
      " 42  ComplianceStatus                 3376 non-null   object \n",
      " 43  Outlier                          32 non-null     object \n",
      " 44  TotalGHGEmissions                3367 non-null   float64\n",
      " 45  GHGEmissionsIntensity            3367 non-null   float64\n",
      "dtypes: bool(1), float64(22), int64(8), object(15)\n",
      "memory usage: 1.2+ MB\n"
     ]
    }
   ],
   "source": [
    "benchmark.info()"
   ]
  },
  {
   "cell_type": "markdown",
   "id": "bd1a872e",
   "metadata": {},
   "source": [
    "Les colonnes ci dessous correspondent toutes à des mesures de l'énergie consommée des bâtiments. \n",
    "Nous allons utiliser pour les prévisions la colonne SiteEnergyUseWN(kBtu) qui correspond au montant annuel d'energie consommée par la propriété toutes sources d'énergies confondues ajustée des données météorologique.\n",
    "\n",
    "SiteEUI(kBtu/sf)                \n",
    "SiteEUIWN(kBtu/sf)              \n",
    "SourceEUI(kBtu/sf)              \n",
    "SourceEUIWN(kBtu/sf)             \n",
    "**SiteEnergyUse(kBtu)**              \n",
    "**SiteEnergyUseWN(kBtu)** \n",
    "\n",
    "Les colonnes ci dessous qui détaillent la consommation  par les sources d'énergie en différentes unités, nous allons garder uniquement celles en kBtu pour être cohérent avec la colonne SiteEnergyUse(kBtu) et calculer les proportion de chaque source d'énergie.\n",
    "\n",
    "**SteamUse(kBtu)**                   \n",
    "Electricity(kWh)                 \n",
    "**Electricity(kBtu)**                \n",
    "NaturalGas(therms)               \n",
    "**NaturalGas(kBtu)**           \n",
    "\n",
    "De même il y a deux colonnes relatives aux émissions de C02, nous allons uniquement garder la colonne TotalGHGEmissions.\n",
    "TotalGHGEmissions                \n",
    "GHGEmissionsIntensity     \n",
    "\n",
    "Les colonnes 'Comments','Outlier', 'YearsENERGYSTARCertified', 'DefaultData', 'ComplianceStatus' sont insuffisament renseignées et ne correspondent pas à notre objectif de se baser sur les données structurelles du bâtiment, nous n'allons pas les conserver. \n"
   ]
  },
  {
   "cell_type": "code",
   "execution_count": 5,
   "id": "43b18b1d",
   "metadata": {},
   "outputs": [
    {
     "data": {
      "text/plain": [
       "['GHGEmissionsIntensity',\n",
       " 'YearsENERGYSTARCertified',\n",
       " 'Electricity(kWh)',\n",
       " 'NaturalGas(therms)',\n",
       " 'SiteEUI(kBtu/sf)',\n",
       " 'SiteEUIWN(kBtu/sf)',\n",
       " 'SourceEUI(kBtu/sf)',\n",
       " 'SourceEUIWN(kBtu/sf)',\n",
       " 'DefaultData',\n",
       " 'Comments',\n",
       " 'ComplianceStatus',\n",
       " 'Outlier']"
      ]
     },
     "execution_count": 5,
     "metadata": {},
     "output_type": "execute_result"
    }
   ],
   "source": [
    "#liste des colonnes à supprimer\n",
    "col_todrop=(['GHGEmissionsIntensity', 'YearsENERGYSTARCertified','Electricity(kWh)', 'NaturalGas(therms)']\n",
    "            +list(benchmark.columns[29:33])\n",
    "            +list(benchmark.columns[40:44]))\n",
    "           \n",
    "col_todrop"
   ]
  },
  {
   "cell_type": "code",
   "execution_count": 6,
   "id": "449e1944",
   "metadata": {},
   "outputs": [],
   "source": [
    "#supression des colonnes \n",
    "benchmark.drop(labels=col_todrop, axis=1, inplace=True)"
   ]
  },
  {
   "cell_type": "markdown",
   "id": "6710a334",
   "metadata": {},
   "source": [
    "Notre objectif est de se concentrer sur les bâtiments non résidentiels, nous allons donc créer un data frame incluant uniquement ces bâtiments"
   ]
  },
  {
   "cell_type": "code",
   "execution_count": 7,
   "id": "03ba17cd",
   "metadata": {
    "scrolled": true
   },
   "outputs": [
    {
     "data": {
      "text/plain": [
       "NonResidential          1460\n",
       "Multifamily LR (1-4)    1018\n",
       "Multifamily MR (5-9)     580\n",
       "Multifamily HR (10+)     110\n",
       "SPS-District K-12         98\n",
       "Nonresidential COS        85\n",
       "Campus                    24\n",
       "Nonresidential WA          1\n",
       "Name: BuildingType, dtype: int64"
      ]
     },
     "execution_count": 7,
     "metadata": {},
     "output_type": "execute_result"
    }
   ],
   "source": [
    "benchmark['BuildingType'].value_counts()"
   ]
  },
  {
   "cell_type": "code",
   "execution_count": 8,
   "id": "afe4fa1e",
   "metadata": {},
   "outputs": [],
   "source": [
    "#data_frame contenant les bâtiments non-résidentiels\n",
    "benchmark_NR=benchmark.loc[benchmark['BuildingType'].isin(['NonResidential',\n",
    "                                                          'SPS-District K-12',\n",
    "                                                          'Nonresidential COS',\n",
    "                                                          'Campus',\n",
    "                                                          'Nonresidential WA']\n",
    "                                                         )]"
   ]
  },
  {
   "cell_type": "code",
   "execution_count": 9,
   "id": "f96aa118",
   "metadata": {
    "scrolled": false
   },
   "outputs": [
    {
     "name": "stdout",
     "output_type": "stream",
     "text": [
      "<class 'pandas.core.frame.DataFrame'>\n",
      "Int64Index: 1668 entries, 0 to 3375\n",
      "Data columns (total 34 columns):\n",
      " #   Column                           Non-Null Count  Dtype  \n",
      "---  ------                           --------------  -----  \n",
      " 0   OSEBuildingID                    1668 non-null   int64  \n",
      " 1   DataYear                         1668 non-null   int64  \n",
      " 2   BuildingType                     1668 non-null   object \n",
      " 3   PrimaryPropertyType              1668 non-null   object \n",
      " 4   PropertyName                     1668 non-null   object \n",
      " 5   Address                          1668 non-null   object \n",
      " 6   City                             1668 non-null   object \n",
      " 7   State                            1668 non-null   object \n",
      " 8   ZipCode                          1652 non-null   float64\n",
      " 9   TaxParcelIdentificationNumber    1668 non-null   object \n",
      " 10  CouncilDistrictCode              1668 non-null   int64  \n",
      " 11  Neighborhood                     1668 non-null   object \n",
      " 12  Latitude                         1668 non-null   float64\n",
      " 13  Longitude                        1668 non-null   float64\n",
      " 14  YearBuilt                        1668 non-null   int64  \n",
      " 15  NumberofBuildings                1666 non-null   float64\n",
      " 16  NumberofFloors                   1668 non-null   int64  \n",
      " 17  PropertyGFATotal                 1668 non-null   int64  \n",
      " 18  PropertyGFAParking               1668 non-null   int64  \n",
      " 19  PropertyGFABuilding(s)           1668 non-null   int64  \n",
      " 20  ListOfAllPropertyUseTypes        1666 non-null   object \n",
      " 21  LargestPropertyUseType           1662 non-null   object \n",
      " 22  LargestPropertyUseTypeGFA        1662 non-null   float64\n",
      " 23  SecondLargestPropertyUseType     855 non-null    object \n",
      " 24  SecondLargestPropertyUseTypeGFA  855 non-null    float64\n",
      " 25  ThirdLargestPropertyUseType      353 non-null    object \n",
      " 26  ThirdLargestPropertyUseTypeGFA   353 non-null    float64\n",
      " 27  ENERGYSTARScore                  1094 non-null   float64\n",
      " 28  SiteEnergyUse(kBtu)              1666 non-null   float64\n",
      " 29  SiteEnergyUseWN(kBtu)            1665 non-null   float64\n",
      " 30  SteamUse(kBtu)                   1666 non-null   float64\n",
      " 31  Electricity(kBtu)                1666 non-null   float64\n",
      " 32  NaturalGas(kBtu)                 1666 non-null   float64\n",
      " 33  TotalGHGEmissions                1666 non-null   float64\n",
      "dtypes: float64(14), int64(8), object(12)\n",
      "memory usage: 456.1+ KB\n"
     ]
    }
   ],
   "source": [
    "benchmark_NR.info()"
   ]
  },
  {
   "cell_type": "code",
   "execution_count": 10,
   "id": "71ccbbf3",
   "metadata": {},
   "outputs": [],
   "source": [
    "#gardons uniquement les lignes ou nous avons une estimation de la consommation d'énergie\n",
    "benchmark_NR=benchmark_NR.loc[benchmark_NR['SiteEnergyUseWN(kBtu)'].notnull()].reset_index(drop=True)"
   ]
  },
  {
   "cell_type": "markdown",
   "id": "a7533851",
   "metadata": {},
   "source": [
    "Nous allons utiliser les colonnes ci dessous pour estimer les proportion d'energie utilisée par source.\n",
    "\n",
    "SteamUse(kBtu)                                 \n",
    "Electricity(kBtu)                              \n",
    "NaturalGas(kBtu)   "
   ]
  },
  {
   "cell_type": "code",
   "execution_count": 11,
   "id": "89983d34",
   "metadata": {},
   "outputs": [
    {
     "data": {
      "text/html": [
       "<div>\n",
       "<style scoped>\n",
       "    .dataframe tbody tr th:only-of-type {\n",
       "        vertical-align: middle;\n",
       "    }\n",
       "\n",
       "    .dataframe tbody tr th {\n",
       "        vertical-align: top;\n",
       "    }\n",
       "\n",
       "    .dataframe thead th {\n",
       "        text-align: right;\n",
       "    }\n",
       "</style>\n",
       "<table border=\"1\" class=\"dataframe\">\n",
       "  <thead>\n",
       "    <tr style=\"text-align: right;\">\n",
       "      <th></th>\n",
       "      <th>SiteEnergyUse(kBtu)</th>\n",
       "      <th>SteamUse(kBtu)</th>\n",
       "      <th>Electricity(kBtu)</th>\n",
       "      <th>NaturalGas(kBtu)</th>\n",
       "    </tr>\n",
       "  </thead>\n",
       "  <tbody>\n",
       "    <tr>\n",
       "      <th>27</th>\n",
       "      <td>0.0</td>\n",
       "      <td>0.0</td>\n",
       "      <td>0.0</td>\n",
       "      <td>0.0</td>\n",
       "    </tr>\n",
       "    <tr>\n",
       "      <th>30</th>\n",
       "      <td>0.0</td>\n",
       "      <td>0.0</td>\n",
       "      <td>1496816.0</td>\n",
       "      <td>0.0</td>\n",
       "    </tr>\n",
       "    <tr>\n",
       "      <th>61</th>\n",
       "      <td>0.0</td>\n",
       "      <td>0.0</td>\n",
       "      <td>600813.0</td>\n",
       "      <td>0.0</td>\n",
       "    </tr>\n",
       "    <tr>\n",
       "      <th>80</th>\n",
       "      <td>0.0</td>\n",
       "      <td>0.0</td>\n",
       "      <td>1698176.0</td>\n",
       "      <td>0.0</td>\n",
       "    </tr>\n",
       "    <tr>\n",
       "      <th>84</th>\n",
       "      <td>0.0</td>\n",
       "      <td>0.0</td>\n",
       "      <td>2347138.0</td>\n",
       "      <td>0.0</td>\n",
       "    </tr>\n",
       "    <tr>\n",
       "      <th>94</th>\n",
       "      <td>0.0</td>\n",
       "      <td>0.0</td>\n",
       "      <td>2104286.0</td>\n",
       "      <td>0.0</td>\n",
       "    </tr>\n",
       "    <tr>\n",
       "      <th>132</th>\n",
       "      <td>0.0</td>\n",
       "      <td>0.0</td>\n",
       "      <td>0.0</td>\n",
       "      <td>4318917.0</td>\n",
       "    </tr>\n",
       "    <tr>\n",
       "      <th>138</th>\n",
       "      <td>0.0</td>\n",
       "      <td>0.0</td>\n",
       "      <td>0.0</td>\n",
       "      <td>3217877.0</td>\n",
       "    </tr>\n",
       "    <tr>\n",
       "      <th>151</th>\n",
       "      <td>0.0</td>\n",
       "      <td>0.0</td>\n",
       "      <td>0.0</td>\n",
       "      <td>0.0</td>\n",
       "    </tr>\n",
       "    <tr>\n",
       "      <th>298</th>\n",
       "      <td>0.0</td>\n",
       "      <td>0.0</td>\n",
       "      <td>0.0</td>\n",
       "      <td>0.0</td>\n",
       "    </tr>\n",
       "    <tr>\n",
       "      <th>602</th>\n",
       "      <td>0.0</td>\n",
       "      <td>0.0</td>\n",
       "      <td>1957268.0</td>\n",
       "      <td>0.0</td>\n",
       "    </tr>\n",
       "    <tr>\n",
       "      <th>618</th>\n",
       "      <td>0.0</td>\n",
       "      <td>0.0</td>\n",
       "      <td>1433596.0</td>\n",
       "      <td>0.0</td>\n",
       "    </tr>\n",
       "    <tr>\n",
       "      <th>665</th>\n",
       "      <td>0.0</td>\n",
       "      <td>0.0</td>\n",
       "      <td>0.0</td>\n",
       "      <td>0.0</td>\n",
       "    </tr>\n",
       "    <tr>\n",
       "      <th>940</th>\n",
       "      <td>0.0</td>\n",
       "      <td>0.0</td>\n",
       "      <td>0.0</td>\n",
       "      <td>0.0</td>\n",
       "    </tr>\n",
       "    <tr>\n",
       "      <th>1109</th>\n",
       "      <td>0.0</td>\n",
       "      <td>0.0</td>\n",
       "      <td>0.0</td>\n",
       "      <td>945537.0</td>\n",
       "    </tr>\n",
       "    <tr>\n",
       "      <th>1586</th>\n",
       "      <td>0.0</td>\n",
       "      <td>0.0</td>\n",
       "      <td>0.0</td>\n",
       "      <td>4993620.0</td>\n",
       "    </tr>\n",
       "  </tbody>\n",
       "</table>\n",
       "</div>"
      ],
      "text/plain": [
       "      SiteEnergyUse(kBtu)  SteamUse(kBtu)  Electricity(kBtu)  NaturalGas(kBtu)\n",
       "27                    0.0             0.0                0.0               0.0\n",
       "30                    0.0             0.0          1496816.0               0.0\n",
       "61                    0.0             0.0           600813.0               0.0\n",
       "80                    0.0             0.0          1698176.0               0.0\n",
       "84                    0.0             0.0          2347138.0               0.0\n",
       "94                    0.0             0.0          2104286.0               0.0\n",
       "132                   0.0             0.0                0.0         4318917.0\n",
       "138                   0.0             0.0                0.0         3217877.0\n",
       "151                   0.0             0.0                0.0               0.0\n",
       "298                   0.0             0.0                0.0               0.0\n",
       "602                   0.0             0.0          1957268.0               0.0\n",
       "618                   0.0             0.0          1433596.0               0.0\n",
       "665                   0.0             0.0                0.0               0.0\n",
       "940                   0.0             0.0                0.0               0.0\n",
       "1109                  0.0             0.0                0.0          945537.0\n",
       "1586                  0.0             0.0                0.0         4993620.0"
      ]
     },
     "execution_count": 11,
     "metadata": {},
     "output_type": "execute_result"
    }
   ],
   "source": [
    "benchmark_NR.loc[benchmark_NR['SiteEnergyUse(kBtu)']==0, ['SiteEnergyUse(kBtu)','SteamUse(kBtu)', 'Electricity(kBtu)','NaturalGas(kBtu)']]"
   ]
  },
  {
   "cell_type": "markdown",
   "id": "ce74f9ef",
   "metadata": {},
   "source": [
    "Il y a des valeurs à zéro sur la colonne SiteEnergyUse alors que les colonnes Electricity et NaturalGas sont parfois renseignées.\n",
    "Nous allons remplacer la colonne SiteEnergyUse par les valeurs Electricity et Natural Gas lorsqu'elles sont renseignées"
   ]
  },
  {
   "cell_type": "code",
   "execution_count": 12,
   "id": "3204e786",
   "metadata": {},
   "outputs": [],
   "source": [
    "benchmark_NR.loc[benchmark_NR['SiteEnergyUse(kBtu)']==0, 'SiteEnergyUse(kBtu)']=benchmark_NR.loc[benchmark_NR['SiteEnergyUse(kBtu)']==0,\n",
    "                                                                                                 ['Electricity(kBtu)','NaturalGas(kBtu)']].sum(axis=1)"
   ]
  },
  {
   "cell_type": "code",
   "execution_count": 13,
   "id": "9a3e63d4",
   "metadata": {},
   "outputs": [],
   "source": [
    "benchmark_NR.loc[:,'SteamUse(%)']=benchmark_NR.loc[:,'SteamUse(kBtu)']/benchmark_NR.loc[:,'SiteEnergyUse(kBtu)']*100"
   ]
  },
  {
   "cell_type": "code",
   "execution_count": 14,
   "id": "bf4cefa6",
   "metadata": {},
   "outputs": [],
   "source": [
    "benchmark_NR['Electricity(%)']=benchmark_NR['Electricity(kBtu)']/benchmark_NR['SiteEnergyUse(kBtu)']*100"
   ]
  },
  {
   "cell_type": "code",
   "execution_count": 15,
   "id": "308eda03",
   "metadata": {},
   "outputs": [],
   "source": [
    "benchmark_NR['NaturalGas(%)']=benchmark_NR['NaturalGas(kBtu)']/benchmark_NR['SiteEnergyUse(kBtu)']*100"
   ]
  },
  {
   "cell_type": "code",
   "execution_count": 16,
   "id": "9567bef6",
   "metadata": {
    "scrolled": false
   },
   "outputs": [
    {
     "name": "stdout",
     "output_type": "stream",
     "text": [
      "<class 'pandas.core.frame.DataFrame'>\n",
      "RangeIndex: 1665 entries, 0 to 1664\n",
      "Data columns (total 37 columns):\n",
      " #   Column                           Non-Null Count  Dtype  \n",
      "---  ------                           --------------  -----  \n",
      " 0   OSEBuildingID                    1665 non-null   int64  \n",
      " 1   DataYear                         1665 non-null   int64  \n",
      " 2   BuildingType                     1665 non-null   object \n",
      " 3   PrimaryPropertyType              1665 non-null   object \n",
      " 4   PropertyName                     1665 non-null   object \n",
      " 5   Address                          1665 non-null   object \n",
      " 6   City                             1665 non-null   object \n",
      " 7   State                            1665 non-null   object \n",
      " 8   ZipCode                          1649 non-null   float64\n",
      " 9   TaxParcelIdentificationNumber    1665 non-null   object \n",
      " 10  CouncilDistrictCode              1665 non-null   int64  \n",
      " 11  Neighborhood                     1665 non-null   object \n",
      " 12  Latitude                         1665 non-null   float64\n",
      " 13  Longitude                        1665 non-null   float64\n",
      " 14  YearBuilt                        1665 non-null   int64  \n",
      " 15  NumberofBuildings                1665 non-null   float64\n",
      " 16  NumberofFloors                   1665 non-null   int64  \n",
      " 17  PropertyGFATotal                 1665 non-null   int64  \n",
      " 18  PropertyGFAParking               1665 non-null   int64  \n",
      " 19  PropertyGFABuilding(s)           1665 non-null   int64  \n",
      " 20  ListOfAllPropertyUseTypes        1665 non-null   object \n",
      " 21  LargestPropertyUseType           1661 non-null   object \n",
      " 22  LargestPropertyUseTypeGFA        1661 non-null   float64\n",
      " 23  SecondLargestPropertyUseType     854 non-null    object \n",
      " 24  SecondLargestPropertyUseTypeGFA  854 non-null    float64\n",
      " 25  ThirdLargestPropertyUseType      353 non-null    object \n",
      " 26  ThirdLargestPropertyUseTypeGFA   353 non-null    float64\n",
      " 27  ENERGYSTARScore                  1093 non-null   float64\n",
      " 28  SiteEnergyUse(kBtu)              1665 non-null   float64\n",
      " 29  SiteEnergyUseWN(kBtu)            1665 non-null   float64\n",
      " 30  SteamUse(kBtu)                   1665 non-null   float64\n",
      " 31  Electricity(kBtu)                1665 non-null   float64\n",
      " 32  NaturalGas(kBtu)                 1665 non-null   float64\n",
      " 33  TotalGHGEmissions                1665 non-null   float64\n",
      " 34  SteamUse(%)                      1660 non-null   float64\n",
      " 35  Electricity(%)                   1660 non-null   float64\n",
      " 36  NaturalGas(%)                    1660 non-null   float64\n",
      "dtypes: float64(17), int64(8), object(12)\n",
      "memory usage: 481.4+ KB\n"
     ]
    }
   ],
   "source": [
    "benchmark_NR.info()"
   ]
  },
  {
   "cell_type": "code",
   "execution_count": 17,
   "id": "a2bd622a",
   "metadata": {},
   "outputs": [
    {
     "data": {
      "text/html": [
       "<div>\n",
       "<style scoped>\n",
       "    .dataframe tbody tr th:only-of-type {\n",
       "        vertical-align: middle;\n",
       "    }\n",
       "\n",
       "    .dataframe tbody tr th {\n",
       "        vertical-align: top;\n",
       "    }\n",
       "\n",
       "    .dataframe thead th {\n",
       "        text-align: right;\n",
       "    }\n",
       "</style>\n",
       "<table border=\"1\" class=\"dataframe\">\n",
       "  <thead>\n",
       "    <tr style=\"text-align: right;\">\n",
       "      <th></th>\n",
       "      <th>SiteEnergyUse(kBtu)</th>\n",
       "      <th>SteamUse(kBtu)</th>\n",
       "      <th>Electricity(kBtu)</th>\n",
       "      <th>NaturalGas(kBtu)</th>\n",
       "    </tr>\n",
       "  </thead>\n",
       "  <tbody>\n",
       "    <tr>\n",
       "      <th>27</th>\n",
       "      <td>0.0</td>\n",
       "      <td>0.0</td>\n",
       "      <td>0.0</td>\n",
       "      <td>0.0</td>\n",
       "    </tr>\n",
       "    <tr>\n",
       "      <th>151</th>\n",
       "      <td>0.0</td>\n",
       "      <td>0.0</td>\n",
       "      <td>0.0</td>\n",
       "      <td>0.0</td>\n",
       "    </tr>\n",
       "    <tr>\n",
       "      <th>298</th>\n",
       "      <td>0.0</td>\n",
       "      <td>0.0</td>\n",
       "      <td>0.0</td>\n",
       "      <td>0.0</td>\n",
       "    </tr>\n",
       "    <tr>\n",
       "      <th>665</th>\n",
       "      <td>0.0</td>\n",
       "      <td>0.0</td>\n",
       "      <td>0.0</td>\n",
       "      <td>0.0</td>\n",
       "    </tr>\n",
       "    <tr>\n",
       "      <th>940</th>\n",
       "      <td>0.0</td>\n",
       "      <td>0.0</td>\n",
       "      <td>0.0</td>\n",
       "      <td>0.0</td>\n",
       "    </tr>\n",
       "  </tbody>\n",
       "</table>\n",
       "</div>"
      ],
      "text/plain": [
       "     SiteEnergyUse(kBtu)  SteamUse(kBtu)  Electricity(kBtu)  NaturalGas(kBtu)\n",
       "27                   0.0             0.0                0.0               0.0\n",
       "151                  0.0             0.0                0.0               0.0\n",
       "298                  0.0             0.0                0.0               0.0\n",
       "665                  0.0             0.0                0.0               0.0\n",
       "940                  0.0             0.0                0.0               0.0"
      ]
     },
     "execution_count": 17,
     "metadata": {},
     "output_type": "execute_result"
    }
   ],
   "source": [
    "benchmark_NR.loc[benchmark_NR['SteamUse(%)'].isna(), ['SiteEnergyUse(kBtu)','SteamUse(kBtu)', 'Electricity(kBtu)','NaturalGas(kBtu)']]"
   ]
  },
  {
   "cell_type": "markdown",
   "id": "7a9b45dd",
   "metadata": {},
   "source": [
    "Remplacement des valeurs nulles"
   ]
  },
  {
   "cell_type": "code",
   "execution_count": 18,
   "id": "7c545754",
   "metadata": {},
   "outputs": [],
   "source": [
    "benchmark_NR.loc[benchmark_NR['LargestPropertyUseTypeGFA'].isnull(),'LargestPropertyUseTypeGFA']=benchmark_NR.loc[benchmark_NR['LargestPropertyUseTypeGFA'].isnull(),'PropertyGFABuilding(s)']"
   ]
  },
  {
   "cell_type": "code",
   "execution_count": 19,
   "id": "266c52f9",
   "metadata": {},
   "outputs": [],
   "source": [
    "benchmark_NR.loc[benchmark_NR['LargestPropertyUseType'].isnull(),'LargestPropertyUseType']='PrimaryPropertyType'"
   ]
  },
  {
   "cell_type": "code",
   "execution_count": 20,
   "id": "ad5d6236",
   "metadata": {},
   "outputs": [],
   "source": [
    "for col in ['SecondLargestPropertyUseTypeGFA','ThirdLargestPropertyUseTypeGFA','SteamUse(%)','Electricity(%)','NaturalGas(%)']:\n",
    "    benchmark_NR.loc[:,col].fillna(0, inplace=True)"
   ]
  },
  {
   "cell_type": "code",
   "execution_count": 21,
   "id": "34c63276",
   "metadata": {},
   "outputs": [],
   "source": [
    "for col in ['SecondLargestPropertyUseType', 'ThirdLargestPropertyUseType']:\n",
    "    benchmark_NR.loc[:,col].fillna('None', inplace=True)"
   ]
  },
  {
   "cell_type": "code",
   "execution_count": 22,
   "id": "90c0f3ce",
   "metadata": {},
   "outputs": [],
   "source": [
    "#supression des colonnes \n",
    "benchmark_NR.drop(labels='SiteEnergyUse(kBtu)', axis=1, inplace=True)"
   ]
  },
  {
   "cell_type": "code",
   "execution_count": 23,
   "id": "5fc1b9ce",
   "metadata": {
    "scrolled": false
   },
   "outputs": [
    {
     "name": "stdout",
     "output_type": "stream",
     "text": [
      "<class 'pandas.core.frame.DataFrame'>\n",
      "RangeIndex: 1665 entries, 0 to 1664\n",
      "Data columns (total 36 columns):\n",
      " #   Column                           Non-Null Count  Dtype  \n",
      "---  ------                           --------------  -----  \n",
      " 0   OSEBuildingID                    1665 non-null   int64  \n",
      " 1   DataYear                         1665 non-null   int64  \n",
      " 2   BuildingType                     1665 non-null   object \n",
      " 3   PrimaryPropertyType              1665 non-null   object \n",
      " 4   PropertyName                     1665 non-null   object \n",
      " 5   Address                          1665 non-null   object \n",
      " 6   City                             1665 non-null   object \n",
      " 7   State                            1665 non-null   object \n",
      " 8   ZipCode                          1649 non-null   float64\n",
      " 9   TaxParcelIdentificationNumber    1665 non-null   object \n",
      " 10  CouncilDistrictCode              1665 non-null   int64  \n",
      " 11  Neighborhood                     1665 non-null   object \n",
      " 12  Latitude                         1665 non-null   float64\n",
      " 13  Longitude                        1665 non-null   float64\n",
      " 14  YearBuilt                        1665 non-null   int64  \n",
      " 15  NumberofBuildings                1665 non-null   float64\n",
      " 16  NumberofFloors                   1665 non-null   int64  \n",
      " 17  PropertyGFATotal                 1665 non-null   int64  \n",
      " 18  PropertyGFAParking               1665 non-null   int64  \n",
      " 19  PropertyGFABuilding(s)           1665 non-null   int64  \n",
      " 20  ListOfAllPropertyUseTypes        1665 non-null   object \n",
      " 21  LargestPropertyUseType           1665 non-null   object \n",
      " 22  LargestPropertyUseTypeGFA        1665 non-null   float64\n",
      " 23  SecondLargestPropertyUseType     1665 non-null   object \n",
      " 24  SecondLargestPropertyUseTypeGFA  1665 non-null   float64\n",
      " 25  ThirdLargestPropertyUseType      1665 non-null   object \n",
      " 26  ThirdLargestPropertyUseTypeGFA   1665 non-null   float64\n",
      " 27  ENERGYSTARScore                  1093 non-null   float64\n",
      " 28  SiteEnergyUseWN(kBtu)            1665 non-null   float64\n",
      " 29  SteamUse(kBtu)                   1665 non-null   float64\n",
      " 30  Electricity(kBtu)                1665 non-null   float64\n",
      " 31  NaturalGas(kBtu)                 1665 non-null   float64\n",
      " 32  TotalGHGEmissions                1665 non-null   float64\n",
      " 33  SteamUse(%)                      1665 non-null   float64\n",
      " 34  Electricity(%)                   1665 non-null   float64\n",
      " 35  NaturalGas(%)                    1665 non-null   float64\n",
      "dtypes: float64(16), int64(8), object(12)\n",
      "memory usage: 468.4+ KB\n"
     ]
    }
   ],
   "source": [
    "benchmark_NR.info()"
   ]
  },
  {
   "cell_type": "markdown",
   "id": "1d283eda",
   "metadata": {},
   "source": [
    "Analyse exploratoire des variables"
   ]
  },
  {
   "cell_type": "code",
   "execution_count": 24,
   "id": "bc250bca",
   "metadata": {
    "scrolled": true
   },
   "outputs": [
    {
     "data": {
      "text/html": [
       "<div>\n",
       "<style scoped>\n",
       "    .dataframe tbody tr th:only-of-type {\n",
       "        vertical-align: middle;\n",
       "    }\n",
       "\n",
       "    .dataframe tbody tr th {\n",
       "        vertical-align: top;\n",
       "    }\n",
       "\n",
       "    .dataframe thead th {\n",
       "        text-align: right;\n",
       "    }\n",
       "</style>\n",
       "<table border=\"1\" class=\"dataframe\">\n",
       "  <thead>\n",
       "    <tr style=\"text-align: right;\">\n",
       "      <th></th>\n",
       "      <th>count</th>\n",
       "      <th>mean</th>\n",
       "      <th>std</th>\n",
       "      <th>min</th>\n",
       "      <th>25%</th>\n",
       "      <th>50%</th>\n",
       "      <th>75%</th>\n",
       "      <th>max</th>\n",
       "    </tr>\n",
       "  </thead>\n",
       "  <tbody>\n",
       "    <tr>\n",
       "      <th>NumberofBuildings</th>\n",
       "      <td>1665.0</td>\n",
       "      <td>1.168769e+00</td>\n",
       "      <td>2.932286e+00</td>\n",
       "      <td>0.000000</td>\n",
       "      <td>1.000000e+00</td>\n",
       "      <td>1.000000e+00</td>\n",
       "      <td>1.000000e+00</td>\n",
       "      <td>1.110000e+02</td>\n",
       "    </tr>\n",
       "    <tr>\n",
       "      <th>NumberofFloors</th>\n",
       "      <td>1665.0</td>\n",
       "      <td>4.120721e+00</td>\n",
       "      <td>6.568735e+00</td>\n",
       "      <td>0.000000</td>\n",
       "      <td>1.000000e+00</td>\n",
       "      <td>2.000000e+00</td>\n",
       "      <td>4.000000e+00</td>\n",
       "      <td>9.900000e+01</td>\n",
       "    </tr>\n",
       "    <tr>\n",
       "      <th>PropertyGFATotal</th>\n",
       "      <td>1665.0</td>\n",
       "      <td>1.189277e+05</td>\n",
       "      <td>2.976171e+05</td>\n",
       "      <td>11285.000000</td>\n",
       "      <td>2.949800e+04</td>\n",
       "      <td>4.928000e+04</td>\n",
       "      <td>1.051000e+05</td>\n",
       "      <td>9.320156e+06</td>\n",
       "    </tr>\n",
       "    <tr>\n",
       "      <th>PropertyGFAParking</th>\n",
       "      <td>1665.0</td>\n",
       "      <td>1.286887e+04</td>\n",
       "      <td>4.227105e+04</td>\n",
       "      <td>0.000000</td>\n",
       "      <td>0.000000e+00</td>\n",
       "      <td>0.000000e+00</td>\n",
       "      <td>0.000000e+00</td>\n",
       "      <td>5.126080e+05</td>\n",
       "    </tr>\n",
       "    <tr>\n",
       "      <th>PropertyGFABuilding(s)</th>\n",
       "      <td>1665.0</td>\n",
       "      <td>1.060588e+05</td>\n",
       "      <td>2.844540e+05</td>\n",
       "      <td>3636.000000</td>\n",
       "      <td>2.849200e+04</td>\n",
       "      <td>4.741500e+04</td>\n",
       "      <td>9.490000e+04</td>\n",
       "      <td>9.320156e+06</td>\n",
       "    </tr>\n",
       "    <tr>\n",
       "      <th>LargestPropertyUseTypeGFA</th>\n",
       "      <td>1665.0</td>\n",
       "      <td>9.866485e+04</td>\n",
       "      <td>2.764707e+05</td>\n",
       "      <td>5656.000000</td>\n",
       "      <td>2.554700e+04</td>\n",
       "      <td>4.381300e+04</td>\n",
       "      <td>9.193500e+04</td>\n",
       "      <td>9.320156e+06</td>\n",
       "    </tr>\n",
       "    <tr>\n",
       "      <th>SecondLargestPropertyUseTypeGFA</th>\n",
       "      <td>1665.0</td>\n",
       "      <td>1.889292e+04</td>\n",
       "      <td>5.331460e+04</td>\n",
       "      <td>0.000000</td>\n",
       "      <td>0.000000e+00</td>\n",
       "      <td>0.000000e+00</td>\n",
       "      <td>1.268900e+04</td>\n",
       "      <td>6.867500e+05</td>\n",
       "    </tr>\n",
       "    <tr>\n",
       "      <th>ThirdLargestPropertyUseTypeGFA</th>\n",
       "      <td>1665.0</td>\n",
       "      <td>3.163885e+03</td>\n",
       "      <td>1.798761e+04</td>\n",
       "      <td>0.000000</td>\n",
       "      <td>0.000000e+00</td>\n",
       "      <td>0.000000e+00</td>\n",
       "      <td>0.000000e+00</td>\n",
       "      <td>4.597480e+05</td>\n",
       "    </tr>\n",
       "    <tr>\n",
       "      <th>ENERGYSTARScore</th>\n",
       "      <td>1093.0</td>\n",
       "      <td>6.542452e+01</td>\n",
       "      <td>2.849377e+01</td>\n",
       "      <td>1.000000</td>\n",
       "      <td>4.800000e+01</td>\n",
       "      <td>7.300000e+01</td>\n",
       "      <td>8.900000e+01</td>\n",
       "      <td>1.000000e+02</td>\n",
       "    </tr>\n",
       "    <tr>\n",
       "      <th>SiteEnergyUseWN(kBtu)</th>\n",
       "      <td>1665.0</td>\n",
       "      <td>8.064790e+06</td>\n",
       "      <td>2.203878e+07</td>\n",
       "      <td>0.000000</td>\n",
       "      <td>1.294615e+06</td>\n",
       "      <td>2.685146e+06</td>\n",
       "      <td>7.109712e+06</td>\n",
       "      <td>4.716139e+08</td>\n",
       "    </tr>\n",
       "    <tr>\n",
       "      <th>SteamUse(kBtu)</th>\n",
       "      <td>1665.0</td>\n",
       "      <td>5.128804e+05</td>\n",
       "      <td>5.515586e+06</td>\n",
       "      <td>0.000000</td>\n",
       "      <td>0.000000e+00</td>\n",
       "      <td>0.000000e+00</td>\n",
       "      <td>0.000000e+00</td>\n",
       "      <td>1.349435e+08</td>\n",
       "    </tr>\n",
       "    <tr>\n",
       "      <th>Electricity(kBtu)</th>\n",
       "      <td>1665.0</td>\n",
       "      <td>5.844077e+06</td>\n",
       "      <td>2.080296e+07</td>\n",
       "      <td>-115417.000000</td>\n",
       "      <td>7.209450e+05</td>\n",
       "      <td>1.611215e+06</td>\n",
       "      <td>4.825247e+06</td>\n",
       "      <td>6.570744e+08</td>\n",
       "    </tr>\n",
       "    <tr>\n",
       "      <th>NaturalGas(kBtu)</th>\n",
       "      <td>1665.0</td>\n",
       "      <td>1.971178e+06</td>\n",
       "      <td>9.373619e+06</td>\n",
       "      <td>0.000000</td>\n",
       "      <td>0.000000e+00</td>\n",
       "      <td>4.970170e+05</td>\n",
       "      <td>1.522434e+06</td>\n",
       "      <td>2.979090e+08</td>\n",
       "    </tr>\n",
       "    <tr>\n",
       "      <th>TotalGHGEmissions</th>\n",
       "      <td>1665.0</td>\n",
       "      <td>1.850188e+02</td>\n",
       "      <td>7.521996e+02</td>\n",
       "      <td>-0.800000</td>\n",
       "      <td>1.993000e+01</td>\n",
       "      <td>4.958000e+01</td>\n",
       "      <td>1.423900e+02</td>\n",
       "      <td>1.687098e+04</td>\n",
       "    </tr>\n",
       "    <tr>\n",
       "      <th>SteamUse(%)</th>\n",
       "      <td>1665.0</td>\n",
       "      <td>2.098451e+00</td>\n",
       "      <td>9.087935e+00</td>\n",
       "      <td>0.000000</td>\n",
       "      <td>0.000000e+00</td>\n",
       "      <td>0.000000e+00</td>\n",
       "      <td>0.000000e+00</td>\n",
       "      <td>7.669874e+01</td>\n",
       "    </tr>\n",
       "    <tr>\n",
       "      <th>Electricity(%)</th>\n",
       "      <td>1665.0</td>\n",
       "      <td>6.931473e+01</td>\n",
       "      <td>2.691556e+01</td>\n",
       "      <td>-33.676164</td>\n",
       "      <td>4.833185e+01</td>\n",
       "      <td>6.949916e+01</td>\n",
       "      <td>9.999785e+01</td>\n",
       "      <td>1.000011e+02</td>\n",
       "    </tr>\n",
       "    <tr>\n",
       "      <th>NaturalGas(%)</th>\n",
       "      <td>1665.0</td>\n",
       "      <td>2.787273e+01</td>\n",
       "      <td>2.665127e+01</td>\n",
       "      <td>0.000000</td>\n",
       "      <td>0.000000e+00</td>\n",
       "      <td>2.406819e+01</td>\n",
       "      <td>4.943274e+01</td>\n",
       "      <td>1.000000e+02</td>\n",
       "    </tr>\n",
       "  </tbody>\n",
       "</table>\n",
       "</div>"
      ],
      "text/plain": [
       "                                  count          mean           std  \\\n",
       "NumberofBuildings                1665.0  1.168769e+00  2.932286e+00   \n",
       "NumberofFloors                   1665.0  4.120721e+00  6.568735e+00   \n",
       "PropertyGFATotal                 1665.0  1.189277e+05  2.976171e+05   \n",
       "PropertyGFAParking               1665.0  1.286887e+04  4.227105e+04   \n",
       "PropertyGFABuilding(s)           1665.0  1.060588e+05  2.844540e+05   \n",
       "LargestPropertyUseTypeGFA        1665.0  9.866485e+04  2.764707e+05   \n",
       "SecondLargestPropertyUseTypeGFA  1665.0  1.889292e+04  5.331460e+04   \n",
       "ThirdLargestPropertyUseTypeGFA   1665.0  3.163885e+03  1.798761e+04   \n",
       "ENERGYSTARScore                  1093.0  6.542452e+01  2.849377e+01   \n",
       "SiteEnergyUseWN(kBtu)            1665.0  8.064790e+06  2.203878e+07   \n",
       "SteamUse(kBtu)                   1665.0  5.128804e+05  5.515586e+06   \n",
       "Electricity(kBtu)                1665.0  5.844077e+06  2.080296e+07   \n",
       "NaturalGas(kBtu)                 1665.0  1.971178e+06  9.373619e+06   \n",
       "TotalGHGEmissions                1665.0  1.850188e+02  7.521996e+02   \n",
       "SteamUse(%)                      1665.0  2.098451e+00  9.087935e+00   \n",
       "Electricity(%)                   1665.0  6.931473e+01  2.691556e+01   \n",
       "NaturalGas(%)                    1665.0  2.787273e+01  2.665127e+01   \n",
       "\n",
       "                                           min           25%           50%  \\\n",
       "NumberofBuildings                     0.000000  1.000000e+00  1.000000e+00   \n",
       "NumberofFloors                        0.000000  1.000000e+00  2.000000e+00   \n",
       "PropertyGFATotal                  11285.000000  2.949800e+04  4.928000e+04   \n",
       "PropertyGFAParking                    0.000000  0.000000e+00  0.000000e+00   \n",
       "PropertyGFABuilding(s)             3636.000000  2.849200e+04  4.741500e+04   \n",
       "LargestPropertyUseTypeGFA          5656.000000  2.554700e+04  4.381300e+04   \n",
       "SecondLargestPropertyUseTypeGFA       0.000000  0.000000e+00  0.000000e+00   \n",
       "ThirdLargestPropertyUseTypeGFA        0.000000  0.000000e+00  0.000000e+00   \n",
       "ENERGYSTARScore                       1.000000  4.800000e+01  7.300000e+01   \n",
       "SiteEnergyUseWN(kBtu)                 0.000000  1.294615e+06  2.685146e+06   \n",
       "SteamUse(kBtu)                        0.000000  0.000000e+00  0.000000e+00   \n",
       "Electricity(kBtu)               -115417.000000  7.209450e+05  1.611215e+06   \n",
       "NaturalGas(kBtu)                      0.000000  0.000000e+00  4.970170e+05   \n",
       "TotalGHGEmissions                    -0.800000  1.993000e+01  4.958000e+01   \n",
       "SteamUse(%)                           0.000000  0.000000e+00  0.000000e+00   \n",
       "Electricity(%)                      -33.676164  4.833185e+01  6.949916e+01   \n",
       "NaturalGas(%)                         0.000000  0.000000e+00  2.406819e+01   \n",
       "\n",
       "                                          75%           max  \n",
       "NumberofBuildings                1.000000e+00  1.110000e+02  \n",
       "NumberofFloors                   4.000000e+00  9.900000e+01  \n",
       "PropertyGFATotal                 1.051000e+05  9.320156e+06  \n",
       "PropertyGFAParking               0.000000e+00  5.126080e+05  \n",
       "PropertyGFABuilding(s)           9.490000e+04  9.320156e+06  \n",
       "LargestPropertyUseTypeGFA        9.193500e+04  9.320156e+06  \n",
       "SecondLargestPropertyUseTypeGFA  1.268900e+04  6.867500e+05  \n",
       "ThirdLargestPropertyUseTypeGFA   0.000000e+00  4.597480e+05  \n",
       "ENERGYSTARScore                  8.900000e+01  1.000000e+02  \n",
       "SiteEnergyUseWN(kBtu)            7.109712e+06  4.716139e+08  \n",
       "SteamUse(kBtu)                   0.000000e+00  1.349435e+08  \n",
       "Electricity(kBtu)                4.825247e+06  6.570744e+08  \n",
       "NaturalGas(kBtu)                 1.522434e+06  2.979090e+08  \n",
       "TotalGHGEmissions                1.423900e+02  1.687098e+04  \n",
       "SteamUse(%)                      0.000000e+00  7.669874e+01  \n",
       "Electricity(%)                   9.999785e+01  1.000011e+02  \n",
       "NaturalGas(%)                    4.943274e+01  1.000000e+02  "
      ]
     },
     "execution_count": 24,
     "metadata": {},
     "output_type": "execute_result"
    }
   ],
   "source": [
    "#statistiques descriptives des colonnes numériques\n",
    "benchmark_NR.describe().T[7:]"
   ]
  },
  {
   "cell_type": "code",
   "execution_count": 25,
   "id": "c9e144d1",
   "metadata": {},
   "outputs": [],
   "source": [
    "#suppression des consommations d'énergie négatives\n",
    "benchmark_NR.drop(benchmark_NR.loc[benchmark_NR['Electricity(kBtu)']<0].index, inplace=True)"
   ]
  },
  {
   "cell_type": "code",
   "execution_count": 26,
   "id": "c0b6b8b1",
   "metadata": {},
   "outputs": [
    {
     "data": {
      "text/plain": [
       "<AxesSubplot:>"
      ]
     },
     "execution_count": 26,
     "metadata": {},
     "output_type": "execute_result"
    },
    {
     "data": {
      "image/png": "[encoded data removed]",
      "text/plain": [
       "<Figure size 432x288 with 1 Axes>"
      ]
     },
     "metadata": {
      "needs_background": "light"
     },
     "output_type": "display_data"
    }
   ],
   "source": [
    "benchmark_NR['PrimaryPropertyType'].value_counts().plot(kind='bar')"
   ]
  },
  {
   "cell_type": "code",
   "execution_count": 27,
   "id": "8040d1d4",
   "metadata": {},
   "outputs": [
    {
     "data": {
      "text/plain": [
       "7    527\n",
       "2    397\n",
       "3    202\n",
       "4    172\n",
       "5    132\n",
       "1    119\n",
       "6    115\n",
       "Name: CouncilDistrictCode, dtype: int64"
      ]
     },
     "execution_count": 27,
     "metadata": {},
     "output_type": "execute_result"
    }
   ],
   "source": [
    "benchmark_NR['CouncilDistrictCode'].value_counts()"
   ]
  },
  {
   "cell_type": "code",
   "execution_count": 28,
   "id": "5c399f25",
   "metadata": {},
   "outputs": [],
   "source": [
    "#harmonisation des formats\n",
    "benchmark_NR['Neighborhood']=benchmark_NR['Neighborhood'].str.upper()"
   ]
  },
  {
   "cell_type": "code",
   "execution_count": 29,
   "id": "43b3d8d1",
   "metadata": {},
   "outputs": [],
   "source": [
    "#harmonisation des noms\n",
    "benchmark_NR['Neighborhood']=benchmark_NR['Neighborhood'].str.replace('DELRIDGE NEIGHBORHOODS', 'DELRIDGE')"
   ]
  },
  {
   "cell_type": "code",
   "execution_count": 30,
   "id": "e21a0a43",
   "metadata": {},
   "outputs": [
    {
     "data": {
      "text/plain": [
       "DOWNTOWN                 359\n",
       "GREATER DUWAMISH         346\n",
       "MAGNOLIA / QUEEN ANNE    151\n",
       "LAKE UNION               148\n",
       "NORTHEAST                127\n",
       "EAST                     121\n",
       "NORTHWEST                 86\n",
       "BALLARD                   70\n",
       "NORTH                     67\n",
       "CENTRAL                   55\n",
       "DELRIDGE                  47\n",
       "SOUTHEAST                 46\n",
       "SOUTHWEST                 41\n",
       "Name: Neighborhood, dtype: int64"
      ]
     },
     "execution_count": 30,
     "metadata": {},
     "output_type": "execute_result"
    }
   ],
   "source": [
    "benchmark_NR['Neighborhood'].value_counts()"
   ]
  },
  {
   "cell_type": "code",
   "execution_count": 31,
   "id": "1b554504",
   "metadata": {},
   "outputs": [
    {
     "data": {
      "text/plain": [
       "<AxesSubplot:>"
      ]
     },
     "execution_count": 31,
     "metadata": {},
     "output_type": "execute_result"
    },
    {
     "data": {
      "image/png": "[encoded data removed]",
      "text/plain": [
       "<Figure size 1440x1080 with 1 Axes>"
      ]
     },
     "metadata": {
      "needs_background": "light"
     },
     "output_type": "display_data"
    }
   ],
   "source": [
    "fig1, ax =plt.subplots(figsize=(20,15))\n",
    "benchmark_NR['LargestPropertyUseType'].value_counts().plot(kind='barh')"
   ]
  },
  {
   "cell_type": "code",
   "execution_count": 32,
   "id": "9aec20d4",
   "metadata": {},
   "outputs": [
    {
     "data": {
      "text/plain": [
       "57"
      ]
     },
     "execution_count": 32,
     "metadata": {},
     "output_type": "execute_result"
    }
   ],
   "source": [
    "len(benchmark_NR['LargestPropertyUseType'].unique())"
   ]
  },
  {
   "cell_type": "markdown",
   "id": "9a4bec5d",
   "metadata": {},
   "source": [
    "Il y 57 valeurs différentes, nous allons regrouper toutes catégories qui compte moins de 10 building dans la catégorie Other"
   ]
  },
  {
   "cell_type": "code",
   "execution_count": 33,
   "id": "9dce1953",
   "metadata": {},
   "outputs": [],
   "source": [
    "other_put=list(benchmark_NR['LargestPropertyUseType'].value_counts().loc[benchmark_NR['LargestPropertyUseType'].value_counts()<10].index)"
   ]
  },
  {
   "cell_type": "code",
   "execution_count": 34,
   "id": "cfd5144d",
   "metadata": {},
   "outputs": [],
   "source": [
    "benchmark_NR.loc[benchmark_NR['LargestPropertyUseType'].isin(other_put), 'LargestPropertyUseType' ]=benchmark_NR.loc[benchmark_NR['LargestPropertyUseType'].isin(other_put), 'LargestPropertyUseType' ].apply(lambda x : x.replace(x,'Other'))"
   ]
  },
  {
   "cell_type": "code",
   "execution_count": 35,
   "id": "552e616a",
   "metadata": {},
   "outputs": [
    {
     "data": {
      "text/plain": [
       "23"
      ]
     },
     "execution_count": 35,
     "metadata": {},
     "output_type": "execute_result"
    }
   ],
   "source": [
    "len(benchmark_NR['LargestPropertyUseType'].unique())"
   ]
  },
  {
   "cell_type": "code",
   "execution_count": 36,
   "id": "c9645077",
   "metadata": {},
   "outputs": [],
   "source": [
    "benchmark_NR.loc[benchmark_NR['SecondLargestPropertyUseType'].isin(other_put), 'SecondLargestPropertyUseType' ]=benchmark_NR.loc[benchmark_NR['SecondLargestPropertyUseType'].isin(other_put), 'SecondLargestPropertyUseType' ].apply(lambda x : x.replace(x,'Other'))"
   ]
  },
  {
   "cell_type": "code",
   "execution_count": 37,
   "id": "e5f30463",
   "metadata": {},
   "outputs": [
    {
     "data": {
      "text/plain": [
       "29"
      ]
     },
     "execution_count": 37,
     "metadata": {},
     "output_type": "execute_result"
    }
   ],
   "source": [
    "len(benchmark_NR['SecondLargestPropertyUseType'].unique())"
   ]
  },
  {
   "cell_type": "code",
   "execution_count": 38,
   "id": "9b378c59",
   "metadata": {},
   "outputs": [],
   "source": [
    "other_sput=list(set(benchmark_NR['SecondLargestPropertyUseType'].value_counts().index)-set(benchmark_NR['LargestPropertyUseType'].value_counts().index))\n",
    "other_sput.remove('None')"
   ]
  },
  {
   "cell_type": "code",
   "execution_count": 39,
   "id": "3231459b",
   "metadata": {},
   "outputs": [],
   "source": [
    "benchmark_NR.loc[benchmark_NR['SecondLargestPropertyUseType'].isin(other_sput), 'SecondLargestPropertyUseType' ]=benchmark_NR.loc[benchmark_NR['SecondLargestPropertyUseType'].isin(other_sput), 'SecondLargestPropertyUseType' ].apply(lambda x : x.replace(x,'Other'))"
   ]
  },
  {
   "cell_type": "code",
   "execution_count": 40,
   "id": "ad51e4ff",
   "metadata": {},
   "outputs": [],
   "source": [
    "benchmark_NR.loc[benchmark_NR['ThirdLargestPropertyUseType'].isin(other_put+other_sput), 'ThirdLargestPropertyUseType' ]=benchmark_NR.loc[benchmark_NR['ThirdLargestPropertyUseType'].isin(other_put+other_sput), 'ThirdLargestPropertyUseType' ].apply(lambda x : x.replace(x,'Other'))"
   ]
  },
  {
   "cell_type": "code",
   "execution_count": 41,
   "id": "1849d923",
   "metadata": {},
   "outputs": [
    {
     "data": {
      "text/plain": [
       "22"
      ]
     },
     "execution_count": 41,
     "metadata": {},
     "output_type": "execute_result"
    }
   ],
   "source": [
    "len(benchmark_NR['ThirdLargestPropertyUseType'].unique())"
   ]
  },
  {
   "cell_type": "code",
   "execution_count": 42,
   "id": "ee268b40",
   "metadata": {},
   "outputs": [
    {
     "data": {
      "text/plain": [
       "{'Fast Food Restaurant', 'Other - Technology/Science'}"
      ]
     },
     "execution_count": 42,
     "metadata": {},
     "output_type": "execute_result"
    }
   ],
   "source": [
    "set(benchmark_NR['ThirdLargestPropertyUseType'].value_counts().index)-set(benchmark_NR['SecondLargestPropertyUseType'].value_counts().index)"
   ]
  },
  {
   "cell_type": "code",
   "execution_count": 43,
   "id": "a7a19498",
   "metadata": {},
   "outputs": [],
   "source": [
    "benchmark_NR.loc[benchmark_NR['ThirdLargestPropertyUseType'].isin(['Fast Food Restaurant', 'Other - Technology/Science']), 'ThirdLargestPropertyUseType' ]=benchmark_NR.loc[benchmark_NR['ThirdLargestPropertyUseType'].isin(['Fast Food Restaurant', 'Other - Technology/Science']), 'ThirdLargestPropertyUseType' ].apply(lambda x : x.replace(x,'Other'))"
   ]
  },
  {
   "cell_type": "code",
   "execution_count": 44,
   "id": "55e28095",
   "metadata": {},
   "outputs": [
    {
     "data": {
      "text/plain": [
       "<AxesSubplot:>"
      ]
     },
     "execution_count": 44,
     "metadata": {},
     "output_type": "execute_result"
    },
    {
     "data": {
      "image/png": "[encoded data removed]",
      "text/plain": [
       "<Figure size 1440x1080 with 1 Axes>"
      ]
     },
     "metadata": {
      "needs_background": "light"
     },
     "output_type": "display_data"
    }
   ],
   "source": [
    "fig1, ax =plt.subplots(figsize=(20,15))\n",
    "benchmark_NR['LargestPropertyUseType'].value_counts().plot(kind='barh')"
   ]
  },
  {
   "cell_type": "code",
   "execution_count": 45,
   "id": "0fcf4fee",
   "metadata": {},
   "outputs": [
    {
     "data": {
      "text/plain": [
       "<AxesSubplot:>"
      ]
     },
     "execution_count": 45,
     "metadata": {},
     "output_type": "execute_result"
    },
    {
     "data": {
      "image/png": "[encoded data removed]",
      "text/plain": [
       "<Figure size 1440x720 with 1 Axes>"
      ]
     },
     "metadata": {
      "needs_background": "light"
     },
     "output_type": "display_data"
    }
   ],
   "source": [
    "fig1, ax =plt.subplots(figsize=(20,10))\n",
    "benchmark_NR['YearBuilt'].value_counts().plot(kind='bar')\n"
   ]
  },
  {
   "cell_type": "code",
   "execution_count": 46,
   "id": "d37a2826",
   "metadata": {},
   "outputs": [
    {
     "data": {
      "text/plain": [
       "<AxesSubplot:xlabel='PropertyGFATotal', ylabel='Percent'>"
      ]
     },
     "execution_count": 46,
     "metadata": {},
     "output_type": "execute_result"
    },
    {
     "data": {
      "image/png": "[encoded data removed]",
      "text/plain": [
       "<Figure size 720x720 with 2 Axes>"
      ]
     },
     "metadata": {
      "needs_background": "light"
     },
     "output_type": "display_data"
    }
   ],
   "source": [
    "fig1, (ax1,ax2) =plt.subplots(2,1,figsize=(10,10), sharex=True)\n",
    "sns.boxplot(x=benchmark_NR['PropertyGFATotal'],showmeans=True, ax=ax1)\n",
    "sns.histplot(benchmark_NR['PropertyGFATotal'], stat='percent', bins=500)\n",
    "\n",
    "#ax1.set_xlim(0,500000)"
   ]
  },
  {
   "cell_type": "code",
   "execution_count": 47,
   "id": "0f182a4b",
   "metadata": {},
   "outputs": [
    {
     "data": {
      "text/html": [
       "<div>\n",
       "<style scoped>\n",
       "    .dataframe tbody tr th:only-of-type {\n",
       "        vertical-align: middle;\n",
       "    }\n",
       "\n",
       "    .dataframe tbody tr th {\n",
       "        vertical-align: top;\n",
       "    }\n",
       "\n",
       "    .dataframe thead th {\n",
       "        text-align: right;\n",
       "    }\n",
       "</style>\n",
       "<table border=\"1\" class=\"dataframe\">\n",
       "  <thead>\n",
       "    <tr style=\"text-align: right;\">\n",
       "      <th></th>\n",
       "      <th>PropertyGFATotal</th>\n",
       "      <th>PrimaryPropertyType</th>\n",
       "    </tr>\n",
       "  </thead>\n",
       "  <tbody>\n",
       "    <tr>\n",
       "      <th>1624</th>\n",
       "      <td>9320156</td>\n",
       "      <td>University</td>\n",
       "    </tr>\n",
       "    <tr>\n",
       "      <th>981</th>\n",
       "      <td>2200000</td>\n",
       "      <td>University</td>\n",
       "    </tr>\n",
       "    <tr>\n",
       "      <th>549</th>\n",
       "      <td>1952220</td>\n",
       "      <td>Large Office</td>\n",
       "    </tr>\n",
       "    <tr>\n",
       "      <th>606</th>\n",
       "      <td>1765970</td>\n",
       "      <td>Hospital</td>\n",
       "    </tr>\n",
       "    <tr>\n",
       "      <th>286</th>\n",
       "      <td>1605578</td>\n",
       "      <td>Large Office</td>\n",
       "    </tr>\n",
       "  </tbody>\n",
       "</table>\n",
       "</div>"
      ],
      "text/plain": [
       "      PropertyGFATotal PrimaryPropertyType\n",
       "1624           9320156          University\n",
       "981            2200000          University\n",
       "549            1952220        Large Office\n",
       "606            1765970            Hospital\n",
       "286            1605578        Large Office"
      ]
     },
     "execution_count": 47,
     "metadata": {},
     "output_type": "execute_result"
    }
   ],
   "source": [
    "benchmark_NR[['PropertyGFATotal','PrimaryPropertyType']].sort_values('PropertyGFATotal', ascending=False).head()"
   ]
  },
  {
   "cell_type": "code",
   "execution_count": 48,
   "id": "e41e5038",
   "metadata": {},
   "outputs": [
    {
     "data": {
      "text/plain": [
       "<AxesSubplot:xlabel='PropertyGFABuilding(s)', ylabel='Percent'>"
      ]
     },
     "execution_count": 48,
     "metadata": {},
     "output_type": "execute_result"
    },
    {
     "data": {
      "image/png": "[encoded data removed]",
      "text/plain": [
       "<Figure size 720x720 with 2 Axes>"
      ]
     },
     "metadata": {
      "needs_background": "light"
     },
     "output_type": "display_data"
    }
   ],
   "source": [
    "fig1, (ax1,ax2) =plt.subplots(2,1,figsize=(10,10), sharex=True)\n",
    "sns.boxplot(x=benchmark_NR['PropertyGFABuilding(s)'],showmeans=True, ax=ax1)\n",
    "sns.histplot(benchmark_NR['PropertyGFABuilding(s)'], stat='percent', bins=500)\n",
    "\n",
    "#ax1.set_xlim(0,500000)"
   ]
  },
  {
   "cell_type": "code",
   "execution_count": 49,
   "id": "f4fb58f1",
   "metadata": {},
   "outputs": [
    {
     "data": {
      "text/plain": [
       "<AxesSubplot:xlabel='PropertyGFAParking', ylabel='Percent'>"
      ]
     },
     "execution_count": 49,
     "metadata": {},
     "output_type": "execute_result"
    },
    {
     "data": {
      "image/png": "[encoded data removed]",
      "text/plain": [
       "<Figure size 1080x720 with 2 Axes>"
      ]
     },
     "metadata": {
      "needs_background": "light"
     },
     "output_type": "display_data"
    }
   ],
   "source": [
    "fig1, (ax1,ax2) =plt.subplots(2,1,figsize=(15,10), sharex=True)\n",
    "sns.boxplot(x=benchmark_NR['PropertyGFAParking'],showmeans=True, ax=ax1)\n",
    "sns.histplot(benchmark_NR['PropertyGFAParking'], stat='percent', bins=500)\n",
    "\n",
    "#ax1.set_xlim(0,500000)"
   ]
  },
  {
   "cell_type": "code",
   "execution_count": 50,
   "id": "24834d4a",
   "metadata": {},
   "outputs": [
    {
     "data": {
      "text/plain": [
       "<AxesSubplot:xlabel='SiteEnergyUseWN(kBtu)', ylabel='Percent'>"
      ]
     },
     "execution_count": 50,
     "metadata": {},
     "output_type": "execute_result"
    },
    {
     "data": {
      "image/png": "[encoded data removed]",
      "text/plain": [
       "<Figure size 1080x720 with 2 Axes>"
      ]
     },
     "metadata": {
      "needs_background": "light"
     },
     "output_type": "display_data"
    }
   ],
   "source": [
    "fig1, (ax1,ax2) =plt.subplots(2,1,figsize=(15,10), sharex=True)\n",
    "sns.boxplot(x=benchmark_NR['SiteEnergyUseWN(kBtu)'],showmeans=True, ax=ax1)\n",
    "sns.histplot(benchmark_NR['SiteEnergyUseWN(kBtu)'], stat='percent', bins=500)\n",
    "\n",
    "#ax1.set_xlim(0,50000000)"
   ]
  },
  {
   "cell_type": "code",
   "execution_count": 51,
   "id": "e0e85411",
   "metadata": {},
   "outputs": [
    {
     "data": {
      "text/plain": [
       "<AxesSubplot:xlabel='TotalGHGEmissions', ylabel='Percent'>"
      ]
     },
     "execution_count": 51,
     "metadata": {},
     "output_type": "execute_result"
    },
    {
     "data": {
      "image/png": "[encoded data removed]",
      "text/plain": [
       "<Figure size 1080x720 with 2 Axes>"
      ]
     },
     "metadata": {
      "needs_background": "light"
     },
     "output_type": "display_data"
    }
   ],
   "source": [
    "fig1, (ax1,ax2) =plt.subplots(2,1,figsize=(15,10), sharex=True)\n",
    "sns.boxplot(x=benchmark_NR['TotalGHGEmissions'],showmeans=True, ax=ax1)\n",
    "sns.histplot(benchmark_NR['TotalGHGEmissions'], stat='percent', bins=500)\n",
    "\n",
    "#ax1.set_xlim(0,50000000)"
   ]
  },
  {
   "cell_type": "code",
   "execution_count": 52,
   "id": "ed8bb7dd",
   "metadata": {
    "scrolled": true
   },
   "outputs": [
    {
     "data": {
      "text/plain": [
       "<AxesSubplot:ylabel='Percent'>"
      ]
     },
     "execution_count": 52,
     "metadata": {},
     "output_type": "execute_result"
    },
    {
     "data": {
      "image/png": "[encoded data removed]",
      "text/plain": [
       "<Figure size 1080x360 with 3 Axes>"
      ]
     },
     "metadata": {
      "needs_background": "light"
     },
     "output_type": "display_data"
    }
   ],
   "source": [
    "fig1,  (ax1,ax2,ax3) =plt.subplots(1,3,figsize=(15,5))\n",
    "\n",
    "sns.histplot(data=benchmark_NR[[\"SteamUse(%)\"]], ax=ax1, alpha=0.15, stat='percent')\n",
    "sns.histplot(data=benchmark_NR[[\"Electricity(%)\"]], ax=ax2, alpha=0.15, stat='percent')\n",
    "sns.histplot(data=benchmark_NR[[\"NaturalGas(%)\"]], ax=ax3, alpha=0.15, stat='percent')"
   ]
  },
  {
   "cell_type": "code",
   "execution_count": 53,
   "id": "ef9842ef",
   "metadata": {
    "scrolled": true
   },
   "outputs": [
    {
     "data": {
      "text/plain": [
       "<AxesSubplot:>"
      ]
     },
     "execution_count": 53,
     "metadata": {},
     "output_type": "execute_result"
    },
    {
     "data": {
      "image/png": "[encoded data removed]",
      "text/plain": [
       "<Figure size 1080x360 with 2 Axes>"
      ]
     },
     "metadata": {
      "needs_background": "light"
     },
     "output_type": "display_data"
    }
   ],
   "source": [
    "fig1, (ax1,ax2) =plt.subplots(1,2,figsize=(15,5))\n",
    "sns.boxplot(x=benchmark_NR['ENERGYSTARScore'],showmeans=True, ax=ax1)\n",
    "benchmark_NR['ENERGYSTARScore'].hist()"
   ]
  },
  {
   "cell_type": "code",
   "execution_count": 54,
   "id": "04f61177",
   "metadata": {},
   "outputs": [],
   "source": [
    "#calculons l'ancienneté des bâtiments\n",
    "benchmark_NR['Age']=2016-benchmark_NR['YearBuilt']"
   ]
  },
  {
   "cell_type": "code",
   "execution_count": 55,
   "id": "849c4048",
   "metadata": {
    "scrolled": true
   },
   "outputs": [
    {
     "name": "stdout",
     "output_type": "stream",
     "text": [
      "<class 'pandas.core.frame.DataFrame'>\n",
      "Int64Index: 1664 entries, 0 to 1664\n",
      "Data columns (total 37 columns):\n",
      " #   Column                           Non-Null Count  Dtype  \n",
      "---  ------                           --------------  -----  \n",
      " 0   OSEBuildingID                    1664 non-null   int64  \n",
      " 1   DataYear                         1664 non-null   int64  \n",
      " 2   BuildingType                     1664 non-null   object \n",
      " 3   PrimaryPropertyType              1664 non-null   object \n",
      " 4   PropertyName                     1664 non-null   object \n",
      " 5   Address                          1664 non-null   object \n",
      " 6   City                             1664 non-null   object \n",
      " 7   State                            1664 non-null   object \n",
      " 8   ZipCode                          1648 non-null   float64\n",
      " 9   TaxParcelIdentificationNumber    1664 non-null   object \n",
      " 10  CouncilDistrictCode              1664 non-null   int64  \n",
      " 11  Neighborhood                     1664 non-null   object \n",
      " 12  Latitude                         1664 non-null   float64\n",
      " 13  Longitude                        1664 non-null   float64\n",
      " 14  YearBuilt                        1664 non-null   int64  \n",
      " 15  NumberofBuildings                1664 non-null   float64\n",
      " 16  NumberofFloors                   1664 non-null   int64  \n",
      " 17  PropertyGFATotal                 1664 non-null   int64  \n",
      " 18  PropertyGFAParking               1664 non-null   int64  \n",
      " 19  PropertyGFABuilding(s)           1664 non-null   int64  \n",
      " 20  ListOfAllPropertyUseTypes        1664 non-null   object \n",
      " 21  LargestPropertyUseType           1664 non-null   object \n",
      " 22  LargestPropertyUseTypeGFA        1664 non-null   float64\n",
      " 23  SecondLargestPropertyUseType     1664 non-null   object \n",
      " 24  SecondLargestPropertyUseTypeGFA  1664 non-null   float64\n",
      " 25  ThirdLargestPropertyUseType      1664 non-null   object \n",
      " 26  ThirdLargestPropertyUseTypeGFA   1664 non-null   float64\n",
      " 27  ENERGYSTARScore                  1092 non-null   float64\n",
      " 28  SiteEnergyUseWN(kBtu)            1664 non-null   float64\n",
      " 29  SteamUse(kBtu)                   1664 non-null   float64\n",
      " 30  Electricity(kBtu)                1664 non-null   float64\n",
      " 31  NaturalGas(kBtu)                 1664 non-null   float64\n",
      " 32  TotalGHGEmissions                1664 non-null   float64\n",
      " 33  SteamUse(%)                      1664 non-null   float64\n",
      " 34  Electricity(%)                   1664 non-null   float64\n",
      " 35  NaturalGas(%)                    1664 non-null   float64\n",
      " 36  Age                              1664 non-null   int64  \n",
      "dtypes: float64(16), int64(9), object(12)\n",
      "memory usage: 494.0+ KB\n"
     ]
    }
   ],
   "source": [
    "benchmark_NR.info()"
   ]
  },
  {
   "cell_type": "code",
   "execution_count": 56,
   "id": "0a3e33e7",
   "metadata": {},
   "outputs": [],
   "source": [
    "#Export fichier final\n",
    "benchmark_NR.to_csv('benchmark_NR.csv', index=False)"
   ]
  },
  {
   "cell_type": "code",
   "execution_count": null,
   "id": "12c1db6a",
   "metadata": {},
   "outputs": [],
   "source": []
  }
 ],
 "metadata": {
  "kernelspec": {
   "display_name": "Python 3 (ipykernel)",
   "language": "python",
   "name": "python3"
  },
  "language_info": {
   "codemirror_mode": {
    "name": "ipython",
    "version": 3
   },
   "file_extension": ".py",
   "mimetype": "text/x-python",
   "name": "python",
   "nbconvert_exporter": "python",
   "pygments_lexer": "ipython3",
   "version": "3.9.7"
  }
 },
 "nbformat": 4,
 "nbformat_minor": 5
}
