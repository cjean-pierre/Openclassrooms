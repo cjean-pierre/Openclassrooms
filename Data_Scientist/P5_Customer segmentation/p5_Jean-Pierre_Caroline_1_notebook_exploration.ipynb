{
 "cells": [
  {
   "attachments": {
    "image.png": {
     "image/png": "[encoded data removed]"
    }
   },
   "cell_type": "markdown",
   "id": "53c08910",
   "metadata": {},
   "source": [
    "![image.png](attachment:image.png)"
   ]
  },
  {
   "cell_type": "markdown",
   "id": "81bb7c78",
   "metadata": {},
   "source": [
    "<h1><center> NOTEBOOK D'EXPLORATION"
   ]
  },
  {
   "cell_type": "markdown",
   "id": "1eb204d4",
   "metadata": {},
   "source": [
    "# Sommaire <a id=\"0\"></a>\n",
    "\n",
    "\n",
    "\n",
    "I.  [Importation des bibliothèques et données](#1)<br>\n",
    "\n",
    "II.  [Nettoyage](#2)<br>\n",
    "- II.1  [Vue d'ensemble des fichers](#2.1)<br>\n",
    "- II.2  [Supressions des colonnes non utiles pour l'analyse](#2.2)<br>\n",
    "- II.3  [Correction des formats](#2.3)<br>\n",
    "\n",
    "\n",
    "III.  [Réconciliation des tables](#3) <br>\n",
    "- III.1  [Identification des écarts](#3.1) <br>\n",
    "- III.2  [Analyse des écarts](#3.2) <br>\n",
    "\n",
    "IV. [Création des variables et du dataframe par clients ](#4)<br>\n",
    " -   IV.1 [Variables relatives aux commandes des clients ](#4.1)<br>\n",
    " -   IV.2 [Variables relatives à la localisation des clients ](#4.2)<br>\n",
    " -   IV.3 [Variables relatives à la satisfaction clients ](#4.3)<br>\n",
    " -   IV.4 [création du dataframe par clients ](#4.4)<br>\n",
    " \n",
    "V. [Analyse exploratoire  ](#5)<br>\n",
    "- V.1 [Analyse descriptives  ](#5.1)<br>\n",
    "- V.2 [Analyse des corrélations ](#5.2)<br>\n"
   ]
  },
  {
   "cell_type": "markdown",
   "id": "9b26f087",
   "metadata": {},
   "source": [
    "## I. IMPORTATION DES BIBLIOTHEQUES ET FICHIERS <a id=\"1\"></a>"
   ]
  },
  {
   "cell_type": "code",
   "execution_count": 1,
   "id": "7c60a767",
   "metadata": {},
   "outputs": [],
   "source": [
    "#import necessary libraries\n",
    "\n",
    "import pandas as pd\n",
    "import numpy as np\n",
    "import matplotlib.pyplot as plt\n",
    "import datetime as dt\n",
    "import seaborn as sns\n",
    "import plotly.express as px\n"
   ]
  },
  {
   "cell_type": "code",
   "execution_count": 2,
   "id": "cbe2eec4",
   "metadata": {},
   "outputs": [],
   "source": [
    "#import files\n",
    "\n",
    "customers=pd.read_csv('olist_customers_dataset.csv')\n",
    "geolocation=pd.read_csv(\"olist_geolocation_dataset.csv\")\n",
    "order_items=pd.read_csv(\"olist_order_items_dataset.csv\")\n",
    "order_payments=pd.read_csv(\"olist_order_payments_dataset.csv\")\n",
    "order_reviews=pd.read_csv(\"olist_order_reviews_dataset.csv\")\n",
    "orders=pd.read_csv(\"olist_orders_dataset.csv\")\n",
    "products=pd.read_csv(\"olist_products_dataset.csv\")\n",
    "sellers=pd.read_csv(\"olist_sellers_dataset.csv\")\n",
    "product_cat=pd.read_csv(\"product_category_name_translation.csv\")"
   ]
  },
  {
   "cell_type": "code",
   "execution_count": 3,
   "id": "dc7c4f50",
   "metadata": {},
   "outputs": [],
   "source": [
    "#attribution de noms aux dataframes\n",
    "for file, nom in zip([customers, geolocation, order_items, order_payments, \n",
    "                 order_reviews, orders, products, sellers, product_cat],\n",
    "                     [\"Customers\", \"Geolocation\", \"Order_items\", \"Order_payments\", \n",
    "                \"Order_reviews\", \"Orders\", \"Products\", \"Sellers\", \"product_cat\"]\n",
    "                    ):\n",
    "    \n",
    "    file.name=nom"
   ]
  },
  {
   "cell_type": "markdown",
   "id": "21ccecec",
   "metadata": {},
   "source": [
    "# II. NETTOYAGE  <a id=\"2\"></a>"
   ]
  },
  {
   "cell_type": "markdown",
   "id": "8eb04b2d",
   "metadata": {},
   "source": [
    "# II.1 Vue d'ensemble des fichers <a id=\"2.1\"></a>"
   ]
  },
  {
   "cell_type": "code",
   "execution_count": 4,
   "id": "e8f7eb11",
   "metadata": {
    "scrolled": true
   },
   "outputs": [
    {
     "name": "stdout",
     "output_type": "stream",
     "text": [
      "\n",
      " table :  CUSTOMERS \n",
      "\n",
      "<class 'pandas.core.frame.DataFrame'>\n",
      "RangeIndex: 99441 entries, 0 to 99440\n",
      "Data columns (total 5 columns):\n",
      " #   Column                    Non-Null Count  Dtype \n",
      "---  ------                    --------------  ----- \n",
      " 0   customer_id               99441 non-null  object\n",
      " 1   customer_unique_id        99441 non-null  object\n",
      " 2   customer_zip_code_prefix  99441 non-null  int64 \n",
      " 3   customer_city             99441 non-null  object\n",
      " 4   customer_state            99441 non-null  object\n",
      "dtypes: int64(1), object(4)\n",
      "memory usage: 3.8+ MB\n"
     ]
    },
    {
     "data": {
      "text/plain": [
       "None"
      ]
     },
     "metadata": {},
     "output_type": "display_data"
    },
    {
     "data": {
      "text/html": [
       "<div>\n",
       "<style scoped>\n",
       "    .dataframe tbody tr th:only-of-type {\n",
       "        vertical-align: middle;\n",
       "    }\n",
       "\n",
       "    .dataframe tbody tr th {\n",
       "        vertical-align: top;\n",
       "    }\n",
       "\n",
       "    .dataframe thead th {\n",
       "        text-align: right;\n",
       "    }\n",
       "</style>\n",
       "<table border=\"1\" class=\"dataframe\">\n",
       "  <thead>\n",
       "    <tr style=\"text-align: right;\">\n",
       "      <th></th>\n",
       "      <th>customer_id</th>\n",
       "      <th>customer_unique_id</th>\n",
       "      <th>customer_zip_code_prefix</th>\n",
       "      <th>customer_city</th>\n",
       "      <th>customer_state</th>\n",
       "    </tr>\n",
       "  </thead>\n",
       "  <tbody>\n",
       "    <tr>\n",
       "      <th>0</th>\n",
       "      <td>06b8999e2fba1a1fbc88172c00ba8bc7</td>\n",
       "      <td>861eff4711a542e4b93843c6dd7febb0</td>\n",
       "      <td>14409</td>\n",
       "      <td>franca</td>\n",
       "      <td>SP</td>\n",
       "    </tr>\n",
       "    <tr>\n",
       "      <th>1</th>\n",
       "      <td>18955e83d337fd6b2def6b18a428ac77</td>\n",
       "      <td>290c77bc529b7ac935b93aa66c333dc3</td>\n",
       "      <td>9790</td>\n",
       "      <td>sao bernardo do campo</td>\n",
       "      <td>SP</td>\n",
       "    </tr>\n",
       "    <tr>\n",
       "      <th>2</th>\n",
       "      <td>4e7b3e00288586ebd08712fdd0374a03</td>\n",
       "      <td>060e732b5b29e8181a18229c7b0b2b5e</td>\n",
       "      <td>1151</td>\n",
       "      <td>sao paulo</td>\n",
       "      <td>SP</td>\n",
       "    </tr>\n",
       "    <tr>\n",
       "      <th>3</th>\n",
       "      <td>b2b6027bc5c5109e529d4dc6358b12c3</td>\n",
       "      <td>259dac757896d24d7702b9acbbff3f3c</td>\n",
       "      <td>8775</td>\n",
       "      <td>mogi das cruzes</td>\n",
       "      <td>SP</td>\n",
       "    </tr>\n",
       "    <tr>\n",
       "      <th>4</th>\n",
       "      <td>4f2d8ab171c80ec8364f7c12e35b23ad</td>\n",
       "      <td>345ecd01c38d18a9036ed96c73b8d066</td>\n",
       "      <td>13056</td>\n",
       "      <td>campinas</td>\n",
       "      <td>SP</td>\n",
       "    </tr>\n",
       "  </tbody>\n",
       "</table>\n",
       "</div>"
      ],
      "text/plain": [
       "                        customer_id                customer_unique_id  \\\n",
       "0  06b8999e2fba1a1fbc88172c00ba8bc7  861eff4711a542e4b93843c6dd7febb0   \n",
       "1  18955e83d337fd6b2def6b18a428ac77  290c77bc529b7ac935b93aa66c333dc3   \n",
       "2  4e7b3e00288586ebd08712fdd0374a03  060e732b5b29e8181a18229c7b0b2b5e   \n",
       "3  b2b6027bc5c5109e529d4dc6358b12c3  259dac757896d24d7702b9acbbff3f3c   \n",
       "4  4f2d8ab171c80ec8364f7c12e35b23ad  345ecd01c38d18a9036ed96c73b8d066   \n",
       "\n",
       "   customer_zip_code_prefix          customer_city customer_state  \n",
       "0                     14409                 franca             SP  \n",
       "1                      9790  sao bernardo do campo             SP  \n",
       "2                      1151              sao paulo             SP  \n",
       "3                      8775        mogi das cruzes             SP  \n",
       "4                     13056               campinas             SP  "
      ]
     },
     "metadata": {},
     "output_type": "display_data"
    },
    {
     "data": {
      "text/html": [
       "<div>\n",
       "<style scoped>\n",
       "    .dataframe tbody tr th:only-of-type {\n",
       "        vertical-align: middle;\n",
       "    }\n",
       "\n",
       "    .dataframe tbody tr th {\n",
       "        vertical-align: top;\n",
       "    }\n",
       "\n",
       "    .dataframe thead th {\n",
       "        text-align: right;\n",
       "    }\n",
       "</style>\n",
       "<table border=\"1\" class=\"dataframe\">\n",
       "  <thead>\n",
       "    <tr style=\"text-align: right;\">\n",
       "      <th></th>\n",
       "      <th>customer_id</th>\n",
       "      <th>customer_unique_id</th>\n",
       "      <th>customer_zip_code_prefix</th>\n",
       "      <th>customer_city</th>\n",
       "      <th>customer_state</th>\n",
       "    </tr>\n",
       "  </thead>\n",
       "  <tbody>\n",
       "    <tr>\n",
       "      <th>count</th>\n",
       "      <td>99441</td>\n",
       "      <td>99441</td>\n",
       "      <td>99441.0</td>\n",
       "      <td>99441</td>\n",
       "      <td>99441</td>\n",
       "    </tr>\n",
       "    <tr>\n",
       "      <th>unique</th>\n",
       "      <td>99441</td>\n",
       "      <td>96096</td>\n",
       "      <td>NaN</td>\n",
       "      <td>4119</td>\n",
       "      <td>27</td>\n",
       "    </tr>\n",
       "  </tbody>\n",
       "</table>\n",
       "</div>"
      ],
      "text/plain": [
       "       customer_id customer_unique_id  customer_zip_code_prefix customer_city  \\\n",
       "count        99441              99441                   99441.0         99441   \n",
       "unique       99441              96096                       NaN          4119   \n",
       "\n",
       "       customer_state  \n",
       "count           99441  \n",
       "unique             27  "
      ]
     },
     "metadata": {},
     "output_type": "display_data"
    },
    {
     "name": "stdout",
     "output_type": "stream",
     "text": [
      "\n",
      " table :  GEOLOCATION \n",
      "\n",
      "<class 'pandas.core.frame.DataFrame'>\n",
      "RangeIndex: 1000163 entries, 0 to 1000162\n",
      "Data columns (total 5 columns):\n",
      " #   Column                       Non-Null Count    Dtype  \n",
      "---  ------                       --------------    -----  \n",
      " 0   geolocation_zip_code_prefix  1000163 non-null  int64  \n",
      " 1   geolocation_lat              1000163 non-null  float64\n",
      " 2   geolocation_lng              1000163 non-null  float64\n",
      " 3   geolocation_city             1000163 non-null  object \n",
      " 4   geolocation_state            1000163 non-null  object \n",
      "dtypes: float64(2), int64(1), object(2)\n",
      "memory usage: 38.2+ MB\n"
     ]
    },
    {
     "data": {
      "text/plain": [
       "None"
      ]
     },
     "metadata": {},
     "output_type": "display_data"
    },
    {
     "data": {
      "text/html": [
       "<div>\n",
       "<style scoped>\n",
       "    .dataframe tbody tr th:only-of-type {\n",
       "        vertical-align: middle;\n",
       "    }\n",
       "\n",
       "    .dataframe tbody tr th {\n",
       "        vertical-align: top;\n",
       "    }\n",
       "\n",
       "    .dataframe thead th {\n",
       "        text-align: right;\n",
       "    }\n",
       "</style>\n",
       "<table border=\"1\" class=\"dataframe\">\n",
       "  <thead>\n",
       "    <tr style=\"text-align: right;\">\n",
       "      <th></th>\n",
       "      <th>geolocation_zip_code_prefix</th>\n",
       "      <th>geolocation_lat</th>\n",
       "      <th>geolocation_lng</th>\n",
       "      <th>geolocation_city</th>\n",
       "      <th>geolocation_state</th>\n",
       "    </tr>\n",
       "  </thead>\n",
       "  <tbody>\n",
       "    <tr>\n",
       "      <th>0</th>\n",
       "      <td>1037</td>\n",
       "      <td>-23.545621</td>\n",
       "      <td>-46.639292</td>\n",
       "      <td>sao paulo</td>\n",
       "      <td>SP</td>\n",
       "    </tr>\n",
       "    <tr>\n",
       "      <th>1</th>\n",
       "      <td>1046</td>\n",
       "      <td>-23.546081</td>\n",
       "      <td>-46.644820</td>\n",
       "      <td>sao paulo</td>\n",
       "      <td>SP</td>\n",
       "    </tr>\n",
       "    <tr>\n",
       "      <th>2</th>\n",
       "      <td>1046</td>\n",
       "      <td>-23.546129</td>\n",
       "      <td>-46.642951</td>\n",
       "      <td>sao paulo</td>\n",
       "      <td>SP</td>\n",
       "    </tr>\n",
       "    <tr>\n",
       "      <th>3</th>\n",
       "      <td>1041</td>\n",
       "      <td>-23.544392</td>\n",
       "      <td>-46.639499</td>\n",
       "      <td>sao paulo</td>\n",
       "      <td>SP</td>\n",
       "    </tr>\n",
       "    <tr>\n",
       "      <th>4</th>\n",
       "      <td>1035</td>\n",
       "      <td>-23.541578</td>\n",
       "      <td>-46.641607</td>\n",
       "      <td>sao paulo</td>\n",
       "      <td>SP</td>\n",
       "    </tr>\n",
       "  </tbody>\n",
       "</table>\n",
       "</div>"
      ],
      "text/plain": [
       "   geolocation_zip_code_prefix  geolocation_lat  geolocation_lng  \\\n",
       "0                         1037       -23.545621       -46.639292   \n",
       "1                         1046       -23.546081       -46.644820   \n",
       "2                         1046       -23.546129       -46.642951   \n",
       "3                         1041       -23.544392       -46.639499   \n",
       "4                         1035       -23.541578       -46.641607   \n",
       "\n",
       "  geolocation_city geolocation_state  \n",
       "0        sao paulo                SP  \n",
       "1        sao paulo                SP  \n",
       "2        sao paulo                SP  \n",
       "3        sao paulo                SP  \n",
       "4        sao paulo                SP  "
      ]
     },
     "metadata": {},
     "output_type": "display_data"
    },
    {
     "data": {
      "text/html": [
       "<div>\n",
       "<style scoped>\n",
       "    .dataframe tbody tr th:only-of-type {\n",
       "        vertical-align: middle;\n",
       "    }\n",
       "\n",
       "    .dataframe tbody tr th {\n",
       "        vertical-align: top;\n",
       "    }\n",
       "\n",
       "    .dataframe thead th {\n",
       "        text-align: right;\n",
       "    }\n",
       "</style>\n",
       "<table border=\"1\" class=\"dataframe\">\n",
       "  <thead>\n",
       "    <tr style=\"text-align: right;\">\n",
       "      <th></th>\n",
       "      <th>geolocation_zip_code_prefix</th>\n",
       "      <th>geolocation_lat</th>\n",
       "      <th>geolocation_lng</th>\n",
       "      <th>geolocation_city</th>\n",
       "      <th>geolocation_state</th>\n",
       "    </tr>\n",
       "  </thead>\n",
       "  <tbody>\n",
       "    <tr>\n",
       "      <th>count</th>\n",
       "      <td>1000163.0</td>\n",
       "      <td>1000163.0</td>\n",
       "      <td>1000163.0</td>\n",
       "      <td>1000163</td>\n",
       "      <td>1000163</td>\n",
       "    </tr>\n",
       "    <tr>\n",
       "      <th>unique</th>\n",
       "      <td>NaN</td>\n",
       "      <td>NaN</td>\n",
       "      <td>NaN</td>\n",
       "      <td>8011</td>\n",
       "      <td>27</td>\n",
       "    </tr>\n",
       "  </tbody>\n",
       "</table>\n",
       "</div>"
      ],
      "text/plain": [
       "        geolocation_zip_code_prefix  geolocation_lat  geolocation_lng  \\\n",
       "count                     1000163.0        1000163.0        1000163.0   \n",
       "unique                          NaN              NaN              NaN   \n",
       "\n",
       "       geolocation_city geolocation_state  \n",
       "count           1000163           1000163  \n",
       "unique             8011                27  "
      ]
     },
     "metadata": {},
     "output_type": "display_data"
    },
    {
     "name": "stdout",
     "output_type": "stream",
     "text": [
      "\n",
      " table :  ORDER_ITEMS \n",
      "\n",
      "<class 'pandas.core.frame.DataFrame'>\n",
      "RangeIndex: 112650 entries, 0 to 112649\n",
      "Data columns (total 7 columns):\n",
      " #   Column               Non-Null Count   Dtype  \n",
      "---  ------               --------------   -----  \n",
      " 0   order_id             112650 non-null  object \n",
      " 1   order_item_id        112650 non-null  int64  \n",
      " 2   product_id           112650 non-null  object \n",
      " 3   seller_id            112650 non-null  object \n",
      " 4   shipping_limit_date  112650 non-null  object \n",
      " 5   price                112650 non-null  float64\n",
      " 6   freight_value        112650 non-null  float64\n",
      "dtypes: float64(2), int64(1), object(4)\n",
      "memory usage: 6.0+ MB\n"
     ]
    },
    {
     "data": {
      "text/plain": [
       "None"
      ]
     },
     "metadata": {},
     "output_type": "display_data"
    },
    {
     "data": {
      "text/html": [
       "<div>\n",
       "<style scoped>\n",
       "    .dataframe tbody tr th:only-of-type {\n",
       "        vertical-align: middle;\n",
       "    }\n",
       "\n",
       "    .dataframe tbody tr th {\n",
       "        vertical-align: top;\n",
       "    }\n",
       "\n",
       "    .dataframe thead th {\n",
       "        text-align: right;\n",
       "    }\n",
       "</style>\n",
       "<table border=\"1\" class=\"dataframe\">\n",
       "  <thead>\n",
       "    <tr style=\"text-align: right;\">\n",
       "      <th></th>\n",
       "      <th>order_id</th>\n",
       "      <th>order_item_id</th>\n",
       "      <th>product_id</th>\n",
       "      <th>seller_id</th>\n",
       "      <th>shipping_limit_date</th>\n",
       "      <th>price</th>\n",
       "      <th>freight_value</th>\n",
       "    </tr>\n",
       "  </thead>\n",
       "  <tbody>\n",
       "    <tr>\n",
       "      <th>0</th>\n",
       "      <td>00010242fe8c5a6d1ba2dd792cb16214</td>\n",
       "      <td>1</td>\n",
       "      <td>4244733e06e7ecb4970a6e2683c13e61</td>\n",
       "      <td>48436dade18ac8b2bce089ec2a041202</td>\n",
       "      <td>2017-09-19 09:45:35</td>\n",
       "      <td>58.90</td>\n",
       "      <td>13.29</td>\n",
       "    </tr>\n",
       "    <tr>\n",
       "      <th>1</th>\n",
       "      <td>00018f77f2f0320c557190d7a144bdd3</td>\n",
       "      <td>1</td>\n",
       "      <td>e5f2d52b802189ee658865ca93d83a8f</td>\n",
       "      <td>dd7ddc04e1b6c2c614352b383efe2d36</td>\n",
       "      <td>2017-05-03 11:05:13</td>\n",
       "      <td>239.90</td>\n",
       "      <td>19.93</td>\n",
       "    </tr>\n",
       "    <tr>\n",
       "      <th>2</th>\n",
       "      <td>000229ec398224ef6ca0657da4fc703e</td>\n",
       "      <td>1</td>\n",
       "      <td>c777355d18b72b67abbeef9df44fd0fd</td>\n",
       "      <td>5b51032eddd242adc84c38acab88f23d</td>\n",
       "      <td>2018-01-18 14:48:30</td>\n",
       "      <td>199.00</td>\n",
       "      <td>17.87</td>\n",
       "    </tr>\n",
       "    <tr>\n",
       "      <th>3</th>\n",
       "      <td>00024acbcdf0a6daa1e931b038114c75</td>\n",
       "      <td>1</td>\n",
       "      <td>7634da152a4610f1595efa32f14722fc</td>\n",
       "      <td>9d7a1d34a5052409006425275ba1c2b4</td>\n",
       "      <td>2018-08-15 10:10:18</td>\n",
       "      <td>12.99</td>\n",
       "      <td>12.79</td>\n",
       "    </tr>\n",
       "    <tr>\n",
       "      <th>4</th>\n",
       "      <td>00042b26cf59d7ce69dfabb4e55b4fd9</td>\n",
       "      <td>1</td>\n",
       "      <td>ac6c3623068f30de03045865e4e10089</td>\n",
       "      <td>df560393f3a51e74553ab94004ba5c87</td>\n",
       "      <td>2017-02-13 13:57:51</td>\n",
       "      <td>199.90</td>\n",
       "      <td>18.14</td>\n",
       "    </tr>\n",
       "  </tbody>\n",
       "</table>\n",
       "</div>"
      ],
      "text/plain": [
       "                           order_id  order_item_id  \\\n",
       "0  00010242fe8c5a6d1ba2dd792cb16214              1   \n",
       "1  00018f77f2f0320c557190d7a144bdd3              1   \n",
       "2  000229ec398224ef6ca0657da4fc703e              1   \n",
       "3  00024acbcdf0a6daa1e931b038114c75              1   \n",
       "4  00042b26cf59d7ce69dfabb4e55b4fd9              1   \n",
       "\n",
       "                         product_id                         seller_id  \\\n",
       "0  4244733e06e7ecb4970a6e2683c13e61  48436dade18ac8b2bce089ec2a041202   \n",
       "1  e5f2d52b802189ee658865ca93d83a8f  dd7ddc04e1b6c2c614352b383efe2d36   \n",
       "2  c777355d18b72b67abbeef9df44fd0fd  5b51032eddd242adc84c38acab88f23d   \n",
       "3  7634da152a4610f1595efa32f14722fc  9d7a1d34a5052409006425275ba1c2b4   \n",
       "4  ac6c3623068f30de03045865e4e10089  df560393f3a51e74553ab94004ba5c87   \n",
       "\n",
       "   shipping_limit_date   price  freight_value  \n",
       "0  2017-09-19 09:45:35   58.90          13.29  \n",
       "1  2017-05-03 11:05:13  239.90          19.93  \n",
       "2  2018-01-18 14:48:30  199.00          17.87  \n",
       "3  2018-08-15 10:10:18   12.99          12.79  \n",
       "4  2017-02-13 13:57:51  199.90          18.14  "
      ]
     },
     "metadata": {},
     "output_type": "display_data"
    },
    {
     "data": {
      "text/html": [
       "<div>\n",
       "<style scoped>\n",
       "    .dataframe tbody tr th:only-of-type {\n",
       "        vertical-align: middle;\n",
       "    }\n",
       "\n",
       "    .dataframe tbody tr th {\n",
       "        vertical-align: top;\n",
       "    }\n",
       "\n",
       "    .dataframe thead th {\n",
       "        text-align: right;\n",
       "    }\n",
       "</style>\n",
       "<table border=\"1\" class=\"dataframe\">\n",
       "  <thead>\n",
       "    <tr style=\"text-align: right;\">\n",
       "      <th></th>\n",
       "      <th>order_id</th>\n",
       "      <th>order_item_id</th>\n",
       "      <th>product_id</th>\n",
       "      <th>seller_id</th>\n",
       "      <th>shipping_limit_date</th>\n",
       "      <th>price</th>\n",
       "      <th>freight_value</th>\n",
       "    </tr>\n",
       "  </thead>\n",
       "  <tbody>\n",
       "    <tr>\n",
       "      <th>count</th>\n",
       "      <td>112650</td>\n",
       "      <td>112650.0</td>\n",
       "      <td>112650</td>\n",
       "      <td>112650</td>\n",
       "      <td>112650</td>\n",
       "      <td>112650.0</td>\n",
       "      <td>112650.0</td>\n",
       "    </tr>\n",
       "    <tr>\n",
       "      <th>unique</th>\n",
       "      <td>98666</td>\n",
       "      <td>NaN</td>\n",
       "      <td>32951</td>\n",
       "      <td>3095</td>\n",
       "      <td>93318</td>\n",
       "      <td>NaN</td>\n",
       "      <td>NaN</td>\n",
       "    </tr>\n",
       "  </tbody>\n",
       "</table>\n",
       "</div>"
      ],
      "text/plain": [
       "       order_id  order_item_id product_id seller_id shipping_limit_date  \\\n",
       "count    112650       112650.0     112650    112650              112650   \n",
       "unique    98666            NaN      32951      3095               93318   \n",
       "\n",
       "           price  freight_value  \n",
       "count   112650.0       112650.0  \n",
       "unique       NaN            NaN  "
      ]
     },
     "metadata": {},
     "output_type": "display_data"
    },
    {
     "name": "stdout",
     "output_type": "stream",
     "text": [
      "\n",
      " table :  ORDER_PAYMENTS \n",
      "\n",
      "<class 'pandas.core.frame.DataFrame'>\n",
      "RangeIndex: 103886 entries, 0 to 103885\n",
      "Data columns (total 5 columns):\n",
      " #   Column                Non-Null Count   Dtype  \n",
      "---  ------                --------------   -----  \n",
      " 0   order_id              103886 non-null  object \n",
      " 1   payment_sequential    103886 non-null  int64  \n",
      " 2   payment_type          103886 non-null  object \n",
      " 3   payment_installments  103886 non-null  int64  \n",
      " 4   payment_value         103886 non-null  float64\n",
      "dtypes: float64(1), int64(2), object(2)\n",
      "memory usage: 4.0+ MB\n"
     ]
    },
    {
     "data": {
      "text/plain": [
       "None"
      ]
     },
     "metadata": {},
     "output_type": "display_data"
    },
    {
     "data": {
      "text/html": [
       "<div>\n",
       "<style scoped>\n",
       "    .dataframe tbody tr th:only-of-type {\n",
       "        vertical-align: middle;\n",
       "    }\n",
       "\n",
       "    .dataframe tbody tr th {\n",
       "        vertical-align: top;\n",
       "    }\n",
       "\n",
       "    .dataframe thead th {\n",
       "        text-align: right;\n",
       "    }\n",
       "</style>\n",
       "<table border=\"1\" class=\"dataframe\">\n",
       "  <thead>\n",
       "    <tr style=\"text-align: right;\">\n",
       "      <th></th>\n",
       "      <th>order_id</th>\n",
       "      <th>payment_sequential</th>\n",
       "      <th>payment_type</th>\n",
       "      <th>payment_installments</th>\n",
       "      <th>payment_value</th>\n",
       "    </tr>\n",
       "  </thead>\n",
       "  <tbody>\n",
       "    <tr>\n",
       "      <th>0</th>\n",
       "      <td>b81ef226f3fe1789b1e8b2acac839d17</td>\n",
       "      <td>1</td>\n",
       "      <td>credit_card</td>\n",
       "      <td>8</td>\n",
       "      <td>99.33</td>\n",
       "    </tr>\n",
       "    <tr>\n",
       "      <th>1</th>\n",
       "      <td>a9810da82917af2d9aefd1278f1dcfa0</td>\n",
       "      <td>1</td>\n",
       "      <td>credit_card</td>\n",
       "      <td>1</td>\n",
       "      <td>24.39</td>\n",
       "    </tr>\n",
       "    <tr>\n",
       "      <th>2</th>\n",
       "      <td>25e8ea4e93396b6fa0d3dd708e76c1bd</td>\n",
       "      <td>1</td>\n",
       "      <td>credit_card</td>\n",
       "      <td>1</td>\n",
       "      <td>65.71</td>\n",
       "    </tr>\n",
       "    <tr>\n",
       "      <th>3</th>\n",
       "      <td>ba78997921bbcdc1373bb41e913ab953</td>\n",
       "      <td>1</td>\n",
       "      <td>credit_card</td>\n",
       "      <td>8</td>\n",
       "      <td>107.78</td>\n",
       "    </tr>\n",
       "    <tr>\n",
       "      <th>4</th>\n",
       "      <td>42fdf880ba16b47b59251dd489d4441a</td>\n",
       "      <td>1</td>\n",
       "      <td>credit_card</td>\n",
       "      <td>2</td>\n",
       "      <td>128.45</td>\n",
       "    </tr>\n",
       "  </tbody>\n",
       "</table>\n",
       "</div>"
      ],
      "text/plain": [
       "                           order_id  payment_sequential payment_type  \\\n",
       "0  b81ef226f3fe1789b1e8b2acac839d17                   1  credit_card   \n",
       "1  a9810da82917af2d9aefd1278f1dcfa0                   1  credit_card   \n",
       "2  25e8ea4e93396b6fa0d3dd708e76c1bd                   1  credit_card   \n",
       "3  ba78997921bbcdc1373bb41e913ab953                   1  credit_card   \n",
       "4  42fdf880ba16b47b59251dd489d4441a                   1  credit_card   \n",
       "\n",
       "   payment_installments  payment_value  \n",
       "0                     8          99.33  \n",
       "1                     1          24.39  \n",
       "2                     1          65.71  \n",
       "3                     8         107.78  \n",
       "4                     2         128.45  "
      ]
     },
     "metadata": {},
     "output_type": "display_data"
    },
    {
     "data": {
      "text/html": [
       "<div>\n",
       "<style scoped>\n",
       "    .dataframe tbody tr th:only-of-type {\n",
       "        vertical-align: middle;\n",
       "    }\n",
       "\n",
       "    .dataframe tbody tr th {\n",
       "        vertical-align: top;\n",
       "    }\n",
       "\n",
       "    .dataframe thead th {\n",
       "        text-align: right;\n",
       "    }\n",
       "</style>\n",
       "<table border=\"1\" class=\"dataframe\">\n",
       "  <thead>\n",
       "    <tr style=\"text-align: right;\">\n",
       "      <th></th>\n",
       "      <th>order_id</th>\n",
       "      <th>payment_sequential</th>\n",
       "      <th>payment_type</th>\n",
       "      <th>payment_installments</th>\n",
       "      <th>payment_value</th>\n",
       "    </tr>\n",
       "  </thead>\n",
       "  <tbody>\n",
       "    <tr>\n",
       "      <th>count</th>\n",
       "      <td>103886</td>\n",
       "      <td>103886.0</td>\n",
       "      <td>103886</td>\n",
       "      <td>103886.0</td>\n",
       "      <td>103886.0</td>\n",
       "    </tr>\n",
       "    <tr>\n",
       "      <th>unique</th>\n",
       "      <td>99440</td>\n",
       "      <td>NaN</td>\n",
       "      <td>5</td>\n",
       "      <td>NaN</td>\n",
       "      <td>NaN</td>\n",
       "    </tr>\n",
       "  </tbody>\n",
       "</table>\n",
       "</div>"
      ],
      "text/plain": [
       "       order_id  payment_sequential payment_type  payment_installments  \\\n",
       "count    103886            103886.0       103886              103886.0   \n",
       "unique    99440                 NaN            5                   NaN   \n",
       "\n",
       "        payment_value  \n",
       "count        103886.0  \n",
       "unique            NaN  "
      ]
     },
     "metadata": {},
     "output_type": "display_data"
    },
    {
     "name": "stdout",
     "output_type": "stream",
     "text": [
      "\n",
      " table :  ORDER_REVIEWS \n",
      "\n",
      "<class 'pandas.core.frame.DataFrame'>\n",
      "RangeIndex: 99224 entries, 0 to 99223\n",
      "Data columns (total 7 columns):\n",
      " #   Column                   Non-Null Count  Dtype \n",
      "---  ------                   --------------  ----- \n",
      " 0   review_id                99224 non-null  object\n",
      " 1   order_id                 99224 non-null  object\n",
      " 2   review_score             99224 non-null  int64 \n",
      " 3   review_comment_title     11568 non-null  object\n",
      " 4   review_comment_message   40977 non-null  object\n",
      " 5   review_creation_date     99224 non-null  object\n",
      " 6   review_answer_timestamp  99224 non-null  object\n",
      "dtypes: int64(1), object(6)\n",
      "memory usage: 5.3+ MB\n"
     ]
    },
    {
     "data": {
      "text/plain": [
       "None"
      ]
     },
     "metadata": {},
     "output_type": "display_data"
    },
    {
     "data": {
      "text/html": [
       "<div>\n",
       "<style scoped>\n",
       "    .dataframe tbody tr th:only-of-type {\n",
       "        vertical-align: middle;\n",
       "    }\n",
       "\n",
       "    .dataframe tbody tr th {\n",
       "        vertical-align: top;\n",
       "    }\n",
       "\n",
       "    .dataframe thead th {\n",
       "        text-align: right;\n",
       "    }\n",
       "</style>\n",
       "<table border=\"1\" class=\"dataframe\">\n",
       "  <thead>\n",
       "    <tr style=\"text-align: right;\">\n",
       "      <th></th>\n",
       "      <th>review_id</th>\n",
       "      <th>order_id</th>\n",
       "      <th>review_score</th>\n",
       "      <th>review_comment_title</th>\n",
       "      <th>review_comment_message</th>\n",
       "      <th>review_creation_date</th>\n",
       "      <th>review_answer_timestamp</th>\n",
       "    </tr>\n",
       "  </thead>\n",
       "  <tbody>\n",
       "    <tr>\n",
       "      <th>0</th>\n",
       "      <td>7bc2406110b926393aa56f80a40eba40</td>\n",
       "      <td>73fc7af87114b39712e6da79b0a377eb</td>\n",
       "      <td>4</td>\n",
       "      <td>NaN</td>\n",
       "      <td>NaN</td>\n",
       "      <td>2018-01-18 00:00:00</td>\n",
       "      <td>2018-01-18 21:46:59</td>\n",
       "    </tr>\n",
       "    <tr>\n",
       "      <th>1</th>\n",
       "      <td>80e641a11e56f04c1ad469d5645fdfde</td>\n",
       "      <td>a548910a1c6147796b98fdf73dbeba33</td>\n",
       "      <td>5</td>\n",
       "      <td>NaN</td>\n",
       "      <td>NaN</td>\n",
       "      <td>2018-03-10 00:00:00</td>\n",
       "      <td>2018-03-11 03:05:13</td>\n",
       "    </tr>\n",
       "    <tr>\n",
       "      <th>2</th>\n",
       "      <td>228ce5500dc1d8e020d8d1322874b6f0</td>\n",
       "      <td>f9e4b658b201a9f2ecdecbb34bed034b</td>\n",
       "      <td>5</td>\n",
       "      <td>NaN</td>\n",
       "      <td>NaN</td>\n",
       "      <td>2018-02-17 00:00:00</td>\n",
       "      <td>2018-02-18 14:36:24</td>\n",
       "    </tr>\n",
       "    <tr>\n",
       "      <th>3</th>\n",
       "      <td>e64fb393e7b32834bb789ff8bb30750e</td>\n",
       "      <td>658677c97b385a9be170737859d3511b</td>\n",
       "      <td>5</td>\n",
       "      <td>NaN</td>\n",
       "      <td>Recebi bem antes do prazo estipulado.</td>\n",
       "      <td>2017-04-21 00:00:00</td>\n",
       "      <td>2017-04-21 22:02:06</td>\n",
       "    </tr>\n",
       "    <tr>\n",
       "      <th>4</th>\n",
       "      <td>f7c4243c7fe1938f181bec41a392bdeb</td>\n",
       "      <td>8e6bfb81e283fa7e4f11123a3fb894f1</td>\n",
       "      <td>5</td>\n",
       "      <td>NaN</td>\n",
       "      <td>Parabéns lojas lannister adorei comprar pela I...</td>\n",
       "      <td>2018-03-01 00:00:00</td>\n",
       "      <td>2018-03-02 10:26:53</td>\n",
       "    </tr>\n",
       "  </tbody>\n",
       "</table>\n",
       "</div>"
      ],
      "text/plain": [
       "                          review_id                          order_id  \\\n",
       "0  7bc2406110b926393aa56f80a40eba40  73fc7af87114b39712e6da79b0a377eb   \n",
       "1  80e641a11e56f04c1ad469d5645fdfde  a548910a1c6147796b98fdf73dbeba33   \n",
       "2  228ce5500dc1d8e020d8d1322874b6f0  f9e4b658b201a9f2ecdecbb34bed034b   \n",
       "3  e64fb393e7b32834bb789ff8bb30750e  658677c97b385a9be170737859d3511b   \n",
       "4  f7c4243c7fe1938f181bec41a392bdeb  8e6bfb81e283fa7e4f11123a3fb894f1   \n",
       "\n",
       "   review_score review_comment_title  \\\n",
       "0             4                  NaN   \n",
       "1             5                  NaN   \n",
       "2             5                  NaN   \n",
       "3             5                  NaN   \n",
       "4             5                  NaN   \n",
       "\n",
       "                              review_comment_message review_creation_date  \\\n",
       "0                                                NaN  2018-01-18 00:00:00   \n",
       "1                                                NaN  2018-03-10 00:00:00   \n",
       "2                                                NaN  2018-02-17 00:00:00   \n",
       "3              Recebi bem antes do prazo estipulado.  2017-04-21 00:00:00   \n",
       "4  Parabéns lojas lannister adorei comprar pela I...  2018-03-01 00:00:00   \n",
       "\n",
       "  review_answer_timestamp  \n",
       "0     2018-01-18 21:46:59  \n",
       "1     2018-03-11 03:05:13  \n",
       "2     2018-02-18 14:36:24  \n",
       "3     2017-04-21 22:02:06  \n",
       "4     2018-03-02 10:26:53  "
      ]
     },
     "metadata": {},
     "output_type": "display_data"
    },
    {
     "data": {
      "text/html": [
       "<div>\n",
       "<style scoped>\n",
       "    .dataframe tbody tr th:only-of-type {\n",
       "        vertical-align: middle;\n",
       "    }\n",
       "\n",
       "    .dataframe tbody tr th {\n",
       "        vertical-align: top;\n",
       "    }\n",
       "\n",
       "    .dataframe thead th {\n",
       "        text-align: right;\n",
       "    }\n",
       "</style>\n",
       "<table border=\"1\" class=\"dataframe\">\n",
       "  <thead>\n",
       "    <tr style=\"text-align: right;\">\n",
       "      <th></th>\n",
       "      <th>review_id</th>\n",
       "      <th>order_id</th>\n",
       "      <th>review_score</th>\n",
       "      <th>review_comment_title</th>\n",
       "      <th>review_comment_message</th>\n",
       "      <th>review_creation_date</th>\n",
       "      <th>review_answer_timestamp</th>\n",
       "    </tr>\n",
       "  </thead>\n",
       "  <tbody>\n",
       "    <tr>\n",
       "      <th>count</th>\n",
       "      <td>99224</td>\n",
       "      <td>99224</td>\n",
       "      <td>99224.0</td>\n",
       "      <td>11568</td>\n",
       "      <td>40977</td>\n",
       "      <td>99224</td>\n",
       "      <td>99224</td>\n",
       "    </tr>\n",
       "    <tr>\n",
       "      <th>unique</th>\n",
       "      <td>98410</td>\n",
       "      <td>98673</td>\n",
       "      <td>NaN</td>\n",
       "      <td>4527</td>\n",
       "      <td>36159</td>\n",
       "      <td>636</td>\n",
       "      <td>98248</td>\n",
       "    </tr>\n",
       "  </tbody>\n",
       "</table>\n",
       "</div>"
      ],
      "text/plain": [
       "       review_id order_id  review_score review_comment_title  \\\n",
       "count      99224    99224       99224.0                11568   \n",
       "unique     98410    98673           NaN                 4527   \n",
       "\n",
       "       review_comment_message review_creation_date review_answer_timestamp  \n",
       "count                   40977                99224                   99224  \n",
       "unique                  36159                  636                   98248  "
      ]
     },
     "metadata": {},
     "output_type": "display_data"
    },
    {
     "name": "stdout",
     "output_type": "stream",
     "text": [
      "\n",
      " table :  ORDERS \n",
      "\n",
      "<class 'pandas.core.frame.DataFrame'>\n",
      "RangeIndex: 99441 entries, 0 to 99440\n",
      "Data columns (total 8 columns):\n",
      " #   Column                         Non-Null Count  Dtype \n",
      "---  ------                         --------------  ----- \n",
      " 0   order_id                       99441 non-null  object\n",
      " 1   customer_id                    99441 non-null  object\n",
      " 2   order_status                   99441 non-null  object\n",
      " 3   order_purchase_timestamp       99441 non-null  object\n",
      " 4   order_approved_at              99281 non-null  object\n",
      " 5   order_delivered_carrier_date   97658 non-null  object\n",
      " 6   order_delivered_customer_date  96476 non-null  object\n",
      " 7   order_estimated_delivery_date  99441 non-null  object\n",
      "dtypes: object(8)\n",
      "memory usage: 6.1+ MB\n"
     ]
    },
    {
     "data": {
      "text/plain": [
       "None"
      ]
     },
     "metadata": {},
     "output_type": "display_data"
    },
    {
     "data": {
      "text/html": [
       "<div>\n",
       "<style scoped>\n",
       "    .dataframe tbody tr th:only-of-type {\n",
       "        vertical-align: middle;\n",
       "    }\n",
       "\n",
       "    .dataframe tbody tr th {\n",
       "        vertical-align: top;\n",
       "    }\n",
       "\n",
       "    .dataframe thead th {\n",
       "        text-align: right;\n",
       "    }\n",
       "</style>\n",
       "<table border=\"1\" class=\"dataframe\">\n",
       "  <thead>\n",
       "    <tr style=\"text-align: right;\">\n",
       "      <th></th>\n",
       "      <th>order_id</th>\n",
       "      <th>customer_id</th>\n",
       "      <th>order_status</th>\n",
       "      <th>order_purchase_timestamp</th>\n",
       "      <th>order_approved_at</th>\n",
       "      <th>order_delivered_carrier_date</th>\n",
       "      <th>order_delivered_customer_date</th>\n",
       "      <th>order_estimated_delivery_date</th>\n",
       "    </tr>\n",
       "  </thead>\n",
       "  <tbody>\n",
       "    <tr>\n",
       "      <th>0</th>\n",
       "      <td>e481f51cbdc54678b7cc49136f2d6af7</td>\n",
       "      <td>9ef432eb6251297304e76186b10a928d</td>\n",
       "      <td>delivered</td>\n",
       "      <td>2017-10-02 10:56:33</td>\n",
       "      <td>2017-10-02 11:07:15</td>\n",
       "      <td>2017-10-04 19:55:00</td>\n",
       "      <td>2017-10-10 21:25:13</td>\n",
       "      <td>2017-10-18 00:00:00</td>\n",
       "    </tr>\n",
       "    <tr>\n",
       "      <th>1</th>\n",
       "      <td>53cdb2fc8bc7dce0b6741e2150273451</td>\n",
       "      <td>b0830fb4747a6c6d20dea0b8c802d7ef</td>\n",
       "      <td>delivered</td>\n",
       "      <td>2018-07-24 20:41:37</td>\n",
       "      <td>2018-07-26 03:24:27</td>\n",
       "      <td>2018-07-26 14:31:00</td>\n",
       "      <td>2018-08-07 15:27:45</td>\n",
       "      <td>2018-08-13 00:00:00</td>\n",
       "    </tr>\n",
       "    <tr>\n",
       "      <th>2</th>\n",
       "      <td>47770eb9100c2d0c44946d9cf07ec65d</td>\n",
       "      <td>41ce2a54c0b03bf3443c3d931a367089</td>\n",
       "      <td>delivered</td>\n",
       "      <td>2018-08-08 08:38:49</td>\n",
       "      <td>2018-08-08 08:55:23</td>\n",
       "      <td>2018-08-08 13:50:00</td>\n",
       "      <td>2018-08-17 18:06:29</td>\n",
       "      <td>2018-09-04 00:00:00</td>\n",
       "    </tr>\n",
       "    <tr>\n",
       "      <th>3</th>\n",
       "      <td>949d5b44dbf5de918fe9c16f97b45f8a</td>\n",
       "      <td>f88197465ea7920adcdbec7375364d82</td>\n",
       "      <td>delivered</td>\n",
       "      <td>2017-11-18 19:28:06</td>\n",
       "      <td>2017-11-18 19:45:59</td>\n",
       "      <td>2017-11-22 13:39:59</td>\n",
       "      <td>2017-12-02 00:28:42</td>\n",
       "      <td>2017-12-15 00:00:00</td>\n",
       "    </tr>\n",
       "    <tr>\n",
       "      <th>4</th>\n",
       "      <td>ad21c59c0840e6cb83a9ceb5573f8159</td>\n",
       "      <td>8ab97904e6daea8866dbdbc4fb7aad2c</td>\n",
       "      <td>delivered</td>\n",
       "      <td>2018-02-13 21:18:39</td>\n",
       "      <td>2018-02-13 22:20:29</td>\n",
       "      <td>2018-02-14 19:46:34</td>\n",
       "      <td>2018-02-16 18:17:02</td>\n",
       "      <td>2018-02-26 00:00:00</td>\n",
       "    </tr>\n",
       "  </tbody>\n",
       "</table>\n",
       "</div>"
      ],
      "text/plain": [
       "                           order_id                       customer_id  \\\n",
       "0  e481f51cbdc54678b7cc49136f2d6af7  9ef432eb6251297304e76186b10a928d   \n",
       "1  53cdb2fc8bc7dce0b6741e2150273451  b0830fb4747a6c6d20dea0b8c802d7ef   \n",
       "2  47770eb9100c2d0c44946d9cf07ec65d  41ce2a54c0b03bf3443c3d931a367089   \n",
       "3  949d5b44dbf5de918fe9c16f97b45f8a  f88197465ea7920adcdbec7375364d82   \n",
       "4  ad21c59c0840e6cb83a9ceb5573f8159  8ab97904e6daea8866dbdbc4fb7aad2c   \n",
       "\n",
       "  order_status order_purchase_timestamp    order_approved_at  \\\n",
       "0    delivered      2017-10-02 10:56:33  2017-10-02 11:07:15   \n",
       "1    delivered      2018-07-24 20:41:37  2018-07-26 03:24:27   \n",
       "2    delivered      2018-08-08 08:38:49  2018-08-08 08:55:23   \n",
       "3    delivered      2017-11-18 19:28:06  2017-11-18 19:45:59   \n",
       "4    delivered      2018-02-13 21:18:39  2018-02-13 22:20:29   \n",
       "\n",
       "  order_delivered_carrier_date order_delivered_customer_date  \\\n",
       "0          2017-10-04 19:55:00           2017-10-10 21:25:13   \n",
       "1          2018-07-26 14:31:00           2018-08-07 15:27:45   \n",
       "2          2018-08-08 13:50:00           2018-08-17 18:06:29   \n",
       "3          2017-11-22 13:39:59           2017-12-02 00:28:42   \n",
       "4          2018-02-14 19:46:34           2018-02-16 18:17:02   \n",
       "\n",
       "  order_estimated_delivery_date  \n",
       "0           2017-10-18 00:00:00  \n",
       "1           2018-08-13 00:00:00  \n",
       "2           2018-09-04 00:00:00  \n",
       "3           2017-12-15 00:00:00  \n",
       "4           2018-02-26 00:00:00  "
      ]
     },
     "metadata": {},
     "output_type": "display_data"
    },
    {
     "data": {
      "text/html": [
       "<div>\n",
       "<style scoped>\n",
       "    .dataframe tbody tr th:only-of-type {\n",
       "        vertical-align: middle;\n",
       "    }\n",
       "\n",
       "    .dataframe tbody tr th {\n",
       "        vertical-align: top;\n",
       "    }\n",
       "\n",
       "    .dataframe thead th {\n",
       "        text-align: right;\n",
       "    }\n",
       "</style>\n",
       "<table border=\"1\" class=\"dataframe\">\n",
       "  <thead>\n",
       "    <tr style=\"text-align: right;\">\n",
       "      <th></th>\n",
       "      <th>order_id</th>\n",
       "      <th>customer_id</th>\n",
       "      <th>order_status</th>\n",
       "      <th>order_purchase_timestamp</th>\n",
       "      <th>order_approved_at</th>\n",
       "      <th>order_delivered_carrier_date</th>\n",
       "      <th>order_delivered_customer_date</th>\n",
       "      <th>order_estimated_delivery_date</th>\n",
       "    </tr>\n",
       "  </thead>\n",
       "  <tbody>\n",
       "    <tr>\n",
       "      <th>count</th>\n",
       "      <td>99441</td>\n",
       "      <td>99441</td>\n",
       "      <td>99441</td>\n",
       "      <td>99441</td>\n",
       "      <td>99281</td>\n",
       "      <td>97658</td>\n",
       "      <td>96476</td>\n",
       "      <td>99441</td>\n",
       "    </tr>\n",
       "    <tr>\n",
       "      <th>unique</th>\n",
       "      <td>99441</td>\n",
       "      <td>99441</td>\n",
       "      <td>8</td>\n",
       "      <td>98875</td>\n",
       "      <td>90733</td>\n",
       "      <td>81018</td>\n",
       "      <td>95664</td>\n",
       "      <td>459</td>\n",
       "    </tr>\n",
       "  </tbody>\n",
       "</table>\n",
       "</div>"
      ],
      "text/plain": [
       "       order_id customer_id order_status order_purchase_timestamp  \\\n",
       "count     99441       99441        99441                    99441   \n",
       "unique    99441       99441            8                    98875   \n",
       "\n",
       "       order_approved_at order_delivered_carrier_date  \\\n",
       "count              99281                        97658   \n",
       "unique             90733                        81018   \n",
       "\n",
       "       order_delivered_customer_date order_estimated_delivery_date  \n",
       "count                          96476                         99441  \n",
       "unique                         95664                           459  "
      ]
     },
     "metadata": {},
     "output_type": "display_data"
    },
    {
     "name": "stdout",
     "output_type": "stream",
     "text": [
      "\n",
      " table :  PRODUCTS \n",
      "\n",
      "<class 'pandas.core.frame.DataFrame'>\n",
      "RangeIndex: 32951 entries, 0 to 32950\n",
      "Data columns (total 9 columns):\n",
      " #   Column                      Non-Null Count  Dtype  \n",
      "---  ------                      --------------  -----  \n",
      " 0   product_id                  32951 non-null  object \n",
      " 1   product_category_name       32341 non-null  object \n",
      " 2   product_name_lenght         32341 non-null  float64\n",
      " 3   product_description_lenght  32341 non-null  float64\n",
      " 4   product_photos_qty          32341 non-null  float64\n",
      " 5   product_weight_g            32949 non-null  float64\n",
      " 6   product_length_cm           32949 non-null  float64\n",
      " 7   product_height_cm           32949 non-null  float64\n",
      " 8   product_width_cm            32949 non-null  float64\n",
      "dtypes: float64(7), object(2)\n",
      "memory usage: 2.3+ MB\n"
     ]
    },
    {
     "data": {
      "text/plain": [
       "None"
      ]
     },
     "metadata": {},
     "output_type": "display_data"
    },
    {
     "data": {
      "text/html": [
       "<div>\n",
       "<style scoped>\n",
       "    .dataframe tbody tr th:only-of-type {\n",
       "        vertical-align: middle;\n",
       "    }\n",
       "\n",
       "    .dataframe tbody tr th {\n",
       "        vertical-align: top;\n",
       "    }\n",
       "\n",
       "    .dataframe thead th {\n",
       "        text-align: right;\n",
       "    }\n",
       "</style>\n",
       "<table border=\"1\" class=\"dataframe\">\n",
       "  <thead>\n",
       "    <tr style=\"text-align: right;\">\n",
       "      <th></th>\n",
       "      <th>product_id</th>\n",
       "      <th>product_category_name</th>\n",
       "      <th>product_name_lenght</th>\n",
       "      <th>product_description_lenght</th>\n",
       "      <th>product_photos_qty</th>\n",
       "      <th>product_weight_g</th>\n",
       "      <th>product_length_cm</th>\n",
       "      <th>product_height_cm</th>\n",
       "      <th>product_width_cm</th>\n",
       "    </tr>\n",
       "  </thead>\n",
       "  <tbody>\n",
       "    <tr>\n",
       "      <th>0</th>\n",
       "      <td>1e9e8ef04dbcff4541ed26657ea517e5</td>\n",
       "      <td>perfumaria</td>\n",
       "      <td>40.0</td>\n",
       "      <td>287.0</td>\n",
       "      <td>1.0</td>\n",
       "      <td>225.0</td>\n",
       "      <td>16.0</td>\n",
       "      <td>10.0</td>\n",
       "      <td>14.0</td>\n",
       "    </tr>\n",
       "    <tr>\n",
       "      <th>1</th>\n",
       "      <td>3aa071139cb16b67ca9e5dea641aaa2f</td>\n",
       "      <td>artes</td>\n",
       "      <td>44.0</td>\n",
       "      <td>276.0</td>\n",
       "      <td>1.0</td>\n",
       "      <td>1000.0</td>\n",
       "      <td>30.0</td>\n",
       "      <td>18.0</td>\n",
       "      <td>20.0</td>\n",
       "    </tr>\n",
       "    <tr>\n",
       "      <th>2</th>\n",
       "      <td>96bd76ec8810374ed1b65e291975717f</td>\n",
       "      <td>esporte_lazer</td>\n",
       "      <td>46.0</td>\n",
       "      <td>250.0</td>\n",
       "      <td>1.0</td>\n",
       "      <td>154.0</td>\n",
       "      <td>18.0</td>\n",
       "      <td>9.0</td>\n",
       "      <td>15.0</td>\n",
       "    </tr>\n",
       "    <tr>\n",
       "      <th>3</th>\n",
       "      <td>cef67bcfe19066a932b7673e239eb23d</td>\n",
       "      <td>bebes</td>\n",
       "      <td>27.0</td>\n",
       "      <td>261.0</td>\n",
       "      <td>1.0</td>\n",
       "      <td>371.0</td>\n",
       "      <td>26.0</td>\n",
       "      <td>4.0</td>\n",
       "      <td>26.0</td>\n",
       "    </tr>\n",
       "    <tr>\n",
       "      <th>4</th>\n",
       "      <td>9dc1a7de274444849c219cff195d0b71</td>\n",
       "      <td>utilidades_domesticas</td>\n",
       "      <td>37.0</td>\n",
       "      <td>402.0</td>\n",
       "      <td>4.0</td>\n",
       "      <td>625.0</td>\n",
       "      <td>20.0</td>\n",
       "      <td>17.0</td>\n",
       "      <td>13.0</td>\n",
       "    </tr>\n",
       "  </tbody>\n",
       "</table>\n",
       "</div>"
      ],
      "text/plain": [
       "                         product_id  product_category_name  \\\n",
       "0  1e9e8ef04dbcff4541ed26657ea517e5             perfumaria   \n",
       "1  3aa071139cb16b67ca9e5dea641aaa2f                  artes   \n",
       "2  96bd76ec8810374ed1b65e291975717f          esporte_lazer   \n",
       "3  cef67bcfe19066a932b7673e239eb23d                  bebes   \n",
       "4  9dc1a7de274444849c219cff195d0b71  utilidades_domesticas   \n",
       "\n",
       "   product_name_lenght  product_description_lenght  product_photos_qty  \\\n",
       "0                 40.0                       287.0                 1.0   \n",
       "1                 44.0                       276.0                 1.0   \n",
       "2                 46.0                       250.0                 1.0   \n",
       "3                 27.0                       261.0                 1.0   \n",
       "4                 37.0                       402.0                 4.0   \n",
       "\n",
       "   product_weight_g  product_length_cm  product_height_cm  product_width_cm  \n",
       "0             225.0               16.0               10.0              14.0  \n",
       "1            1000.0               30.0               18.0              20.0  \n",
       "2             154.0               18.0                9.0              15.0  \n",
       "3             371.0               26.0                4.0              26.0  \n",
       "4             625.0               20.0               17.0              13.0  "
      ]
     },
     "metadata": {},
     "output_type": "display_data"
    },
    {
     "data": {
      "text/html": [
       "<div>\n",
       "<style scoped>\n",
       "    .dataframe tbody tr th:only-of-type {\n",
       "        vertical-align: middle;\n",
       "    }\n",
       "\n",
       "    .dataframe tbody tr th {\n",
       "        vertical-align: top;\n",
       "    }\n",
       "\n",
       "    .dataframe thead th {\n",
       "        text-align: right;\n",
       "    }\n",
       "</style>\n",
       "<table border=\"1\" class=\"dataframe\">\n",
       "  <thead>\n",
       "    <tr style=\"text-align: right;\">\n",
       "      <th></th>\n",
       "      <th>product_id</th>\n",
       "      <th>product_category_name</th>\n",
       "      <th>product_name_lenght</th>\n",
       "      <th>product_description_lenght</th>\n",
       "      <th>product_photos_qty</th>\n",
       "      <th>product_weight_g</th>\n",
       "      <th>product_length_cm</th>\n",
       "      <th>product_height_cm</th>\n",
       "      <th>product_width_cm</th>\n",
       "    </tr>\n",
       "  </thead>\n",
       "  <tbody>\n",
       "    <tr>\n",
       "      <th>count</th>\n",
       "      <td>32951</td>\n",
       "      <td>32341</td>\n",
       "      <td>32341.0</td>\n",
       "      <td>32341.0</td>\n",
       "      <td>32341.0</td>\n",
       "      <td>32949.0</td>\n",
       "      <td>32949.0</td>\n",
       "      <td>32949.0</td>\n",
       "      <td>32949.0</td>\n",
       "    </tr>\n",
       "    <tr>\n",
       "      <th>unique</th>\n",
       "      <td>32951</td>\n",
       "      <td>73</td>\n",
       "      <td>NaN</td>\n",
       "      <td>NaN</td>\n",
       "      <td>NaN</td>\n",
       "      <td>NaN</td>\n",
       "      <td>NaN</td>\n",
       "      <td>NaN</td>\n",
       "      <td>NaN</td>\n",
       "    </tr>\n",
       "  </tbody>\n",
       "</table>\n",
       "</div>"
      ],
      "text/plain": [
       "       product_id product_category_name  product_name_lenght  \\\n",
       "count       32951                 32341              32341.0   \n",
       "unique      32951                    73                  NaN   \n",
       "\n",
       "        product_description_lenght  product_photos_qty  product_weight_g  \\\n",
       "count                      32341.0             32341.0           32949.0   \n",
       "unique                         NaN                 NaN               NaN   \n",
       "\n",
       "        product_length_cm  product_height_cm  product_width_cm  \n",
       "count             32949.0            32949.0           32949.0  \n",
       "unique                NaN                NaN               NaN  "
      ]
     },
     "metadata": {},
     "output_type": "display_data"
    },
    {
     "name": "stdout",
     "output_type": "stream",
     "text": [
      "\n",
      " table :  SELLERS \n",
      "\n",
      "<class 'pandas.core.frame.DataFrame'>\n",
      "RangeIndex: 3095 entries, 0 to 3094\n",
      "Data columns (total 4 columns):\n",
      " #   Column                  Non-Null Count  Dtype \n",
      "---  ------                  --------------  ----- \n",
      " 0   seller_id               3095 non-null   object\n",
      " 1   seller_zip_code_prefix  3095 non-null   int64 \n",
      " 2   seller_city             3095 non-null   object\n",
      " 3   seller_state            3095 non-null   object\n",
      "dtypes: int64(1), object(3)\n",
      "memory usage: 96.8+ KB\n"
     ]
    },
    {
     "data": {
      "text/plain": [
       "None"
      ]
     },
     "metadata": {},
     "output_type": "display_data"
    },
    {
     "data": {
      "text/html": [
       "<div>\n",
       "<style scoped>\n",
       "    .dataframe tbody tr th:only-of-type {\n",
       "        vertical-align: middle;\n",
       "    }\n",
       "\n",
       "    .dataframe tbody tr th {\n",
       "        vertical-align: top;\n",
       "    }\n",
       "\n",
       "    .dataframe thead th {\n",
       "        text-align: right;\n",
       "    }\n",
       "</style>\n",
       "<table border=\"1\" class=\"dataframe\">\n",
       "  <thead>\n",
       "    <tr style=\"text-align: right;\">\n",
       "      <th></th>\n",
       "      <th>seller_id</th>\n",
       "      <th>seller_zip_code_prefix</th>\n",
       "      <th>seller_city</th>\n",
       "      <th>seller_state</th>\n",
       "    </tr>\n",
       "  </thead>\n",
       "  <tbody>\n",
       "    <tr>\n",
       "      <th>0</th>\n",
       "      <td>3442f8959a84dea7ee197c632cb2df15</td>\n",
       "      <td>13023</td>\n",
       "      <td>campinas</td>\n",
       "      <td>SP</td>\n",
       "    </tr>\n",
       "    <tr>\n",
       "      <th>1</th>\n",
       "      <td>d1b65fc7debc3361ea86b5f14c68d2e2</td>\n",
       "      <td>13844</td>\n",
       "      <td>mogi guacu</td>\n",
       "      <td>SP</td>\n",
       "    </tr>\n",
       "    <tr>\n",
       "      <th>2</th>\n",
       "      <td>ce3ad9de960102d0677a81f5d0bb7b2d</td>\n",
       "      <td>20031</td>\n",
       "      <td>rio de janeiro</td>\n",
       "      <td>RJ</td>\n",
       "    </tr>\n",
       "    <tr>\n",
       "      <th>3</th>\n",
       "      <td>c0f3eea2e14555b6faeea3dd58c1b1c3</td>\n",
       "      <td>4195</td>\n",
       "      <td>sao paulo</td>\n",
       "      <td>SP</td>\n",
       "    </tr>\n",
       "    <tr>\n",
       "      <th>4</th>\n",
       "      <td>51a04a8a6bdcb23deccc82b0b80742cf</td>\n",
       "      <td>12914</td>\n",
       "      <td>braganca paulista</td>\n",
       "      <td>SP</td>\n",
       "    </tr>\n",
       "  </tbody>\n",
       "</table>\n",
       "</div>"
      ],
      "text/plain": [
       "                          seller_id  seller_zip_code_prefix  \\\n",
       "0  3442f8959a84dea7ee197c632cb2df15                   13023   \n",
       "1  d1b65fc7debc3361ea86b5f14c68d2e2                   13844   \n",
       "2  ce3ad9de960102d0677a81f5d0bb7b2d                   20031   \n",
       "3  c0f3eea2e14555b6faeea3dd58c1b1c3                    4195   \n",
       "4  51a04a8a6bdcb23deccc82b0b80742cf                   12914   \n",
       "\n",
       "         seller_city seller_state  \n",
       "0           campinas           SP  \n",
       "1         mogi guacu           SP  \n",
       "2     rio de janeiro           RJ  \n",
       "3          sao paulo           SP  \n",
       "4  braganca paulista           SP  "
      ]
     },
     "metadata": {},
     "output_type": "display_data"
    },
    {
     "data": {
      "text/html": [
       "<div>\n",
       "<style scoped>\n",
       "    .dataframe tbody tr th:only-of-type {\n",
       "        vertical-align: middle;\n",
       "    }\n",
       "\n",
       "    .dataframe tbody tr th {\n",
       "        vertical-align: top;\n",
       "    }\n",
       "\n",
       "    .dataframe thead th {\n",
       "        text-align: right;\n",
       "    }\n",
       "</style>\n",
       "<table border=\"1\" class=\"dataframe\">\n",
       "  <thead>\n",
       "    <tr style=\"text-align: right;\">\n",
       "      <th></th>\n",
       "      <th>seller_id</th>\n",
       "      <th>seller_zip_code_prefix</th>\n",
       "      <th>seller_city</th>\n",
       "      <th>seller_state</th>\n",
       "    </tr>\n",
       "  </thead>\n",
       "  <tbody>\n",
       "    <tr>\n",
       "      <th>count</th>\n",
       "      <td>3095</td>\n",
       "      <td>3095.0</td>\n",
       "      <td>3095</td>\n",
       "      <td>3095</td>\n",
       "    </tr>\n",
       "    <tr>\n",
       "      <th>unique</th>\n",
       "      <td>3095</td>\n",
       "      <td>NaN</td>\n",
       "      <td>611</td>\n",
       "      <td>23</td>\n",
       "    </tr>\n",
       "  </tbody>\n",
       "</table>\n",
       "</div>"
      ],
      "text/plain": [
       "       seller_id  seller_zip_code_prefix seller_city seller_state\n",
       "count       3095                  3095.0        3095         3095\n",
       "unique      3095                     NaN         611           23"
      ]
     },
     "metadata": {},
     "output_type": "display_data"
    },
    {
     "name": "stdout",
     "output_type": "stream",
     "text": [
      "\n",
      " table :  PRODUCT_CAT \n",
      "\n",
      "<class 'pandas.core.frame.DataFrame'>\n",
      "RangeIndex: 71 entries, 0 to 70\n",
      "Data columns (total 2 columns):\n",
      " #   Column                         Non-Null Count  Dtype \n",
      "---  ------                         --------------  ----- \n",
      " 0   product_category_name          71 non-null     object\n",
      " 1   product_category_name_english  71 non-null     object\n",
      "dtypes: object(2)\n",
      "memory usage: 1.2+ KB\n"
     ]
    },
    {
     "data": {
      "text/plain": [
       "None"
      ]
     },
     "metadata": {},
     "output_type": "display_data"
    },
    {
     "data": {
      "text/html": [
       "<div>\n",
       "<style scoped>\n",
       "    .dataframe tbody tr th:only-of-type {\n",
       "        vertical-align: middle;\n",
       "    }\n",
       "\n",
       "    .dataframe tbody tr th {\n",
       "        vertical-align: top;\n",
       "    }\n",
       "\n",
       "    .dataframe thead th {\n",
       "        text-align: right;\n",
       "    }\n",
       "</style>\n",
       "<table border=\"1\" class=\"dataframe\">\n",
       "  <thead>\n",
       "    <tr style=\"text-align: right;\">\n",
       "      <th></th>\n",
       "      <th>product_category_name</th>\n",
       "      <th>product_category_name_english</th>\n",
       "    </tr>\n",
       "  </thead>\n",
       "  <tbody>\n",
       "    <tr>\n",
       "      <th>0</th>\n",
       "      <td>beleza_saude</td>\n",
       "      <td>health_beauty</td>\n",
       "    </tr>\n",
       "    <tr>\n",
       "      <th>1</th>\n",
       "      <td>informatica_acessorios</td>\n",
       "      <td>computers_accessories</td>\n",
       "    </tr>\n",
       "    <tr>\n",
       "      <th>2</th>\n",
       "      <td>automotivo</td>\n",
       "      <td>auto</td>\n",
       "    </tr>\n",
       "    <tr>\n",
       "      <th>3</th>\n",
       "      <td>cama_mesa_banho</td>\n",
       "      <td>bed_bath_table</td>\n",
       "    </tr>\n",
       "    <tr>\n",
       "      <th>4</th>\n",
       "      <td>moveis_decoracao</td>\n",
       "      <td>furniture_decor</td>\n",
       "    </tr>\n",
       "  </tbody>\n",
       "</table>\n",
       "</div>"
      ],
      "text/plain": [
       "    product_category_name product_category_name_english\n",
       "0            beleza_saude                 health_beauty\n",
       "1  informatica_acessorios         computers_accessories\n",
       "2              automotivo                          auto\n",
       "3         cama_mesa_banho                bed_bath_table\n",
       "4        moveis_decoracao               furniture_decor"
      ]
     },
     "metadata": {},
     "output_type": "display_data"
    },
    {
     "data": {
      "text/html": [
       "<div>\n",
       "<style scoped>\n",
       "    .dataframe tbody tr th:only-of-type {\n",
       "        vertical-align: middle;\n",
       "    }\n",
       "\n",
       "    .dataframe tbody tr th {\n",
       "        vertical-align: top;\n",
       "    }\n",
       "\n",
       "    .dataframe thead th {\n",
       "        text-align: right;\n",
       "    }\n",
       "</style>\n",
       "<table border=\"1\" class=\"dataframe\">\n",
       "  <thead>\n",
       "    <tr style=\"text-align: right;\">\n",
       "      <th></th>\n",
       "      <th>product_category_name</th>\n",
       "      <th>product_category_name_english</th>\n",
       "    </tr>\n",
       "  </thead>\n",
       "  <tbody>\n",
       "    <tr>\n",
       "      <th>count</th>\n",
       "      <td>71</td>\n",
       "      <td>71</td>\n",
       "    </tr>\n",
       "    <tr>\n",
       "      <th>unique</th>\n",
       "      <td>71</td>\n",
       "      <td>71</td>\n",
       "    </tr>\n",
       "  </tbody>\n",
       "</table>\n",
       "</div>"
      ],
      "text/plain": [
       "       product_category_name product_category_name_english\n",
       "count                     71                            71\n",
       "unique                    71                            71"
      ]
     },
     "metadata": {},
     "output_type": "display_data"
    }
   ],
   "source": [
    "for file in [customers, geolocation, order_items, order_payments, order_reviews, orders, products, sellers, product_cat]:\n",
    "    print('\\n table : ',file.name.upper(), '\\n')\n",
    "    display(file.info())\n",
    "    display(file.head())\n",
    "    display(file.describe(include='all')[:2])\n",
    "    "
   ]
  },
  {
   "cell_type": "markdown",
   "id": "98622228",
   "metadata": {},
   "source": [
    "# II.2 Supressions des colonnes non utiles pour l'analyse <a id=\"2.2\"></a>"
   ]
  },
  {
   "cell_type": "code",
   "execution_count": 5,
   "id": "a4842957",
   "metadata": {},
   "outputs": [],
   "source": [
    "order_items_coldrop=['shipping_limit_date']\n",
    "\n",
    "order_reviews_coldrop=['review_comment_title']\n",
    "\n",
    "orders_coldrop=[\n",
    "        'order_approved_at',\n",
    "        'order_delivered_carrier_date',\n",
    "        'order_delivered_customer_date', \n",
    "        'order_estimated_delivery_date'\n",
    "        ]\n",
    "\n",
    "products_coldrop=[\n",
    "        'product_name_lenght',\n",
    "        'product_description_lenght',  \n",
    "        'product_photos_qty',          \n",
    "        'product_weight_g',            \n",
    "        'product_length_cm',           \n",
    "        'product_height_cm',           \n",
    "        'product_width_cm'\n",
    "        ]"
   ]
  },
  {
   "cell_type": "code",
   "execution_count": 6,
   "id": "a7e31ec1",
   "metadata": {},
   "outputs": [],
   "source": [
    "for file, cols in zip(\n",
    "        [order_items, order_reviews, orders, products],\n",
    "        [order_items_coldrop, order_reviews_coldrop, orders_coldrop, products_coldrop]\n",
    "                    ):\n",
    "    file.drop(columns=cols, inplace=True)"
   ]
  },
  {
   "cell_type": "markdown",
   "id": "8c0ea678",
   "metadata": {},
   "source": [
    "# II.3 Correction des formats <a id=\"2.3\"></a>"
   ]
  },
  {
   "cell_type": "markdown",
   "id": "a6b37d54",
   "metadata": {},
   "source": [
    "Convertissons les dates au format datetime"
   ]
  },
  {
   "cell_type": "code",
   "execution_count": 7,
   "id": "98098da4",
   "metadata": {},
   "outputs": [],
   "source": [
    "orders.loc[:,\"order_purchase_timestamp\"]=pd.to_datetime(orders[\"order_purchase_timestamp\"])\n",
    "order_reviews.loc[:,'review_creation_date']=pd.to_datetime(order_reviews[\"review_creation_date\"])\n",
    "order_reviews.loc[:,'review_answer_timestamp']=pd.to_datetime(order_reviews['review_answer_timestamp'])               "
   ]
  },
  {
   "cell_type": "markdown",
   "id": "7e29f968",
   "metadata": {},
   "source": [
    "Convertissons codes postaux au format objet"
   ]
  },
  {
   "cell_type": "code",
   "execution_count": 8,
   "id": "ecf67ef1",
   "metadata": {},
   "outputs": [],
   "source": [
    "geolocation[\"geolocation_zip_code_prefix\"]=geolocation[\"geolocation_zip_code_prefix\"].astype('object')\n",
    "customers[\"customer_zip_code_prefix\"]=customers[\"customer_zip_code_prefix\"].astype('object')\n",
    "sellers[\"seller_zip_code_prefix\"]=sellers[\"seller_zip_code_prefix\"].astype('object')"
   ]
  },
  {
   "cell_type": "markdown",
   "id": "ed4f0e3c",
   "metadata": {},
   "source": [
    "Dans le fichier product, il y a des produits pour lesquels la catégorie est inconnue et apparait en valeur Nan, remplaçons par 'unknown'."
   ]
  },
  {
   "cell_type": "code",
   "execution_count": 9,
   "id": "3a2124ca",
   "metadata": {},
   "outputs": [],
   "source": [
    "products.fillna('unknown', inplace=True)"
   ]
  },
  {
   "cell_type": "markdown",
   "id": "57bd3b77",
   "metadata": {},
   "source": [
    "[Retour au sommaire](#0)<br>"
   ]
  },
  {
   "cell_type": "markdown",
   "id": "9a6821df",
   "metadata": {},
   "source": [
    "# III RECONCILIATION DES TABLES  <a id=\"3\"></a>"
   ]
  },
  {
   "cell_type": "markdown",
   "id": "1bd867ac",
   "metadata": {},
   "source": [
    "# III.1 Identification des écarts <a id=\"3.1\"></a>"
   ]
  },
  {
   "cell_type": "markdown",
   "id": "c985b320",
   "metadata": {},
   "source": [
    "Définition d'une fonction permettant d'identifier les écarts entre les tables"
   ]
  },
  {
   "cell_type": "code",
   "execution_count": 10,
   "id": "8776d0c4",
   "metadata": {},
   "outputs": [],
   "source": [
    "def check_difference(A,B, column):\n",
    "    ''' takes in argument two dataframes and one common column name\n",
    "    check their differences and print the number of differences and a sample of 10 differences'''\n",
    "    for (serie_1, serie_2), (name_1,name_2) in zip([(A[column],B[column]), (B[column],A[column])],\n",
    "                                                   [(A.name,B.name),(B.name, A.name)]):\n",
    "        difference = set(serie_1) - set(serie_2)\n",
    "        print(f'Nbre valeurs dans {name_1} pas dans {name_2} : {len(difference)}')\n",
    "        "
   ]
  },
  {
   "cell_type": "markdown",
   "id": "d1ab1a99",
   "metadata": {},
   "source": [
    "## a) customer_id"
   ]
  },
  {
   "cell_type": "code",
   "execution_count": 11,
   "id": "4b3067fb",
   "metadata": {},
   "outputs": [
    {
     "name": "stdout",
     "output_type": "stream",
     "text": [
      "Nbre valeurs dans Customers pas dans Orders : 0\n",
      "Nbre valeurs dans Orders pas dans Customers : 0\n"
     ]
    }
   ],
   "source": [
    "check_difference(customers,orders,'customer_id')"
   ]
  },
  {
   "cell_type": "markdown",
   "id": "228b27e8",
   "metadata": {},
   "source": [
    "## b)order_id"
   ]
  },
  {
   "cell_type": "code",
   "execution_count": 12,
   "id": "e1f4dcfa",
   "metadata": {},
   "outputs": [
    {
     "name": "stdout",
     "output_type": "stream",
     "text": [
      "Nbre valeurs dans Orders pas dans Order_items : 775\n",
      "Nbre valeurs dans Order_items pas dans Orders : 0\n"
     ]
    }
   ],
   "source": [
    "check_difference(orders,order_items,'order_id')"
   ]
  },
  {
   "cell_type": "code",
   "execution_count": 13,
   "id": "f501d61c",
   "metadata": {},
   "outputs": [
    {
     "name": "stdout",
     "output_type": "stream",
     "text": [
      "Nbre valeurs dans Orders pas dans Order_payments : 1\n",
      "Nbre valeurs dans Order_payments pas dans Orders : 0\n"
     ]
    }
   ],
   "source": [
    "check_difference(orders,order_payments,'order_id')"
   ]
  },
  {
   "cell_type": "code",
   "execution_count": 14,
   "id": "158537e7",
   "metadata": {},
   "outputs": [
    {
     "name": "stdout",
     "output_type": "stream",
     "text": [
      "Nbre valeurs dans Orders pas dans Order_reviews : 768\n",
      "Nbre valeurs dans Order_reviews pas dans Orders : 0\n"
     ]
    }
   ],
   "source": [
    "check_difference(orders,order_reviews,'order_id')"
   ]
  },
  {
   "cell_type": "markdown",
   "id": "d3fa86de",
   "metadata": {},
   "source": [
    "## c)product_id"
   ]
  },
  {
   "cell_type": "code",
   "execution_count": 15,
   "id": "1e18230e",
   "metadata": {},
   "outputs": [
    {
     "name": "stdout",
     "output_type": "stream",
     "text": [
      "Nbre valeurs dans Products pas dans Order_items : 0\n",
      "Nbre valeurs dans Order_items pas dans Products : 0\n"
     ]
    }
   ],
   "source": [
    "check_difference(products,order_items,'product_id')"
   ]
  },
  {
   "cell_type": "markdown",
   "id": "a35aac9a",
   "metadata": {},
   "source": [
    "## d) seller_id"
   ]
  },
  {
   "cell_type": "code",
   "execution_count": 16,
   "id": "b309cf36",
   "metadata": {},
   "outputs": [
    {
     "name": "stdout",
     "output_type": "stream",
     "text": [
      "Nbre valeurs dans Sellers pas dans Order_items : 0\n",
      "Nbre valeurs dans Order_items pas dans Sellers : 0\n"
     ]
    }
   ],
   "source": [
    "check_difference(sellers,order_items,'seller_id')"
   ]
  },
  {
   "cell_type": "markdown",
   "id": "a31fd595",
   "metadata": {},
   "source": [
    "## e) product_category_name"
   ]
  },
  {
   "cell_type": "code",
   "execution_count": 17,
   "id": "82ad5718",
   "metadata": {},
   "outputs": [
    {
     "name": "stdout",
     "output_type": "stream",
     "text": [
      "Nbre valeurs dans Products pas dans product_cat : 3\n",
      "Nbre valeurs dans product_cat pas dans Products : 0\n"
     ]
    }
   ],
   "source": [
    "check_difference(products,product_cat,'product_category_name')"
   ]
  },
  {
   "cell_type": "markdown",
   "id": "701c5793",
   "metadata": {},
   "source": [
    "# III.2 Analyse et des écarts <a id=\"3.2\"></a>\n",
    "\n"
   ]
  },
  {
   "cell_type": "markdown",
   "id": "39fbbb7d",
   "metadata": {},
   "source": [
    "## a) order_id\n",
    "\n",
    "Afin d'analyser les écarts sur les commandes intégrons les montants des commandes et des paiements dans la table orders."
   ]
  },
  {
   "cell_type": "code",
   "execution_count": 18,
   "id": "e55f3ec2",
   "metadata": {},
   "outputs": [],
   "source": [
    "#calcul des paiements par commandes\n",
    "payments=order_payments[['order_id','payment_value']].groupby('order_id').sum().reset_index()"
   ]
  },
  {
   "cell_type": "code",
   "execution_count": 19,
   "id": "753a22ee",
   "metadata": {},
   "outputs": [],
   "source": [
    "#calcul du total des commandes\n",
    "price=order_items.groupby('order_id').sum().drop(columns='order_item_id').reset_index()\n",
    "price['total_order']=price['price']+price['freight_value']"
   ]
  },
  {
   "cell_type": "code",
   "execution_count": 20,
   "id": "89122865",
   "metadata": {},
   "outputs": [],
   "source": [
    "#fusion des fichiers\n",
    "orders=orders.merge(price[['order_id','total_order']], how='left',on='order_id').merge(payments, how='left',on='order_id')"
   ]
  },
  {
   "cell_type": "code",
   "execution_count": 21,
   "id": "d777e797",
   "metadata": {
    "collapsed": true
   },
   "outputs": [
    {
     "name": "stdout",
     "output_type": "stream",
     "text": [
      "<class 'pandas.core.frame.DataFrame'>\n",
      "Int64Index: 99441 entries, 0 to 99440\n",
      "Data columns (total 6 columns):\n",
      " #   Column                    Non-Null Count  Dtype         \n",
      "---  ------                    --------------  -----         \n",
      " 0   order_id                  99441 non-null  object        \n",
      " 1   customer_id               99441 non-null  object        \n",
      " 2   order_status              99441 non-null  object        \n",
      " 3   order_purchase_timestamp  99441 non-null  datetime64[ns]\n",
      " 4   total_order               98666 non-null  float64       \n",
      " 5   payment_value             99440 non-null  float64       \n",
      "dtypes: datetime64[ns](1), float64(2), object(3)\n",
      "memory usage: 5.3+ MB\n"
     ]
    }
   ],
   "source": [
    "orders.info()"
   ]
  },
  {
   "cell_type": "markdown",
   "id": "017af549",
   "metadata": {},
   "source": [
    "Il y a plus de commandes dans le fichier order_payments que dans le fichier order_items, analysons cet écart en terme de valeur."
   ]
  },
  {
   "cell_type": "code",
   "execution_count": 22,
   "id": "22c94e08",
   "metadata": {},
   "outputs": [
    {
     "data": {
      "text/plain": [
       "total_order      15843553.24\n",
       "payment_value    16008872.12\n",
       "dtype: float64"
      ]
     },
     "execution_count": 22,
     "metadata": {},
     "output_type": "execute_result"
    }
   ],
   "source": [
    "orders[['total_order','payment_value']].sum()"
   ]
  },
  {
   "cell_type": "code",
   "execution_count": 23,
   "id": "c7646cae",
   "metadata": {},
   "outputs": [
    {
     "data": {
      "text/plain": [
       "total_order            NaN\n",
       "payment_value    165318.88\n",
       "dtype: float64"
      ]
     },
     "execution_count": 23,
     "metadata": {},
     "output_type": "execute_result"
    }
   ],
   "source": [
    "orders[['total_order','payment_value']].sum().diff()"
   ]
  },
  {
   "cell_type": "markdown",
   "id": "96432f54",
   "metadata": {},
   "source": [
    "Il y a 165 319 BRS de commandes dans le fichier order_payments qui n'ont pas de correspondance de le fichier order_items\n",
    "\n",
    "Vérifions la part de cette écart qui est attribuable aux 775 commandes du fichier orders qui ne sont pas dans le fichier order_items"
   ]
  },
  {
   "cell_type": "code",
   "execution_count": 24,
   "id": "6e1b16f7",
   "metadata": {},
   "outputs": [
    {
     "data": {
      "text/plain": [
       "total_order           0.00\n",
       "payment_value    162591.95\n",
       "dtype: float64"
      ]
     },
     "execution_count": 24,
     "metadata": {},
     "output_type": "execute_result"
    }
   ],
   "source": [
    "orders.loc[orders['total_order'].isnull(),['total_order','payment_value']].sum()"
   ]
  },
  {
   "cell_type": "code",
   "execution_count": 25,
   "id": "89b77a6f",
   "metadata": {},
   "outputs": [
    {
     "data": {
      "text/plain": [
       "total_order          NaN\n",
       "payment_value    2726.93\n",
       "dtype: float64"
      ]
     },
     "execution_count": 25,
     "metadata": {},
     "output_type": "execute_result"
    }
   ],
   "source": [
    "orders.loc[orders['total_order'].notnull(),['total_order','payment_value']].sum().diff()"
   ]
  },
  {
   "cell_type": "markdown",
   "id": "510c98fe",
   "metadata": {},
   "source": [
    "Regardons le statut des 775 commandes en écart"
   ]
  },
  {
   "cell_type": "code",
   "execution_count": 26,
   "id": "8a5c704c",
   "metadata": {},
   "outputs": [
    {
     "data": {
      "text/plain": [
       "unavailable    603\n",
       "canceled       164\n",
       "created          5\n",
       "invoiced         2\n",
       "shipped          1\n",
       "Name: order_status, dtype: int64"
      ]
     },
     "execution_count": 26,
     "metadata": {},
     "output_type": "execute_result"
    }
   ],
   "source": [
    "orders.loc[orders['total_order'].isnull(),'order_status'].value_counts()"
   ]
  },
  {
   "cell_type": "code",
   "execution_count": 27,
   "id": "9b029c2b",
   "metadata": {},
   "outputs": [
    {
     "data": {
      "text/plain": [
       "delivered      96478\n",
       "shipped         1107\n",
       "canceled         625\n",
       "unavailable      609\n",
       "invoiced         314\n",
       "processing       301\n",
       "created            5\n",
       "approved           2\n",
       "Name: order_status, dtype: int64"
      ]
     },
     "execution_count": 27,
     "metadata": {},
     "output_type": "execute_result"
    }
   ],
   "source": [
    "orders['order_status'].value_counts()"
   ]
  },
  {
   "cell_type": "markdown",
   "id": "ac2f9e54",
   "metadata": {},
   "source": [
    "Il y a envirron 1% des commandes (en valeur) qui apparaissent dans le fichier payment_orders mais qui ne sont pas dans les commandes détaillées.\n",
    "La majorité de ces commandes sont en statut 'unavailable' ou cancelled."
   ]
  },
  {
   "cell_type": "markdown",
   "id": "8112bbb6",
   "metadata": {},
   "source": [
    "## b) product_category_name\n",
    "Il y a 3 catégorie de produits en plus dans le fichier product.\n",
    "\n",
    "Intégrons fusionnons les tables products et product_cat"
   ]
  },
  {
   "cell_type": "code",
   "execution_count": 28,
   "id": "003d52d7",
   "metadata": {},
   "outputs": [],
   "source": [
    "#fusion des fichiers\n",
    "products=products.merge(product_cat, how='left',on='product_category_name')"
   ]
  },
  {
   "cell_type": "code",
   "execution_count": 29,
   "id": "2417d207",
   "metadata": {},
   "outputs": [
    {
     "data": {
      "text/plain": [
       "unknown                                          610\n",
       "portateis_cozinha_e_preparadores_de_alimentos     10\n",
       "pc_gamer                                           3\n",
       "Name: product_category_name, dtype: int64"
      ]
     },
     "execution_count": 29,
     "metadata": {},
     "output_type": "execute_result"
    }
   ],
   "source": [
    "#produits non traduits\n",
    "products.loc[products['product_category_name_english'].isna(),'product_category_name'].value_counts()"
   ]
  },
  {
   "cell_type": "code",
   "execution_count": 30,
   "id": "0c789caa",
   "metadata": {},
   "outputs": [],
   "source": [
    "english_missing=products.loc[products['product_category_name_english'].isna(),'product_category_name'].copy()\n",
    "products.loc[products['product_category_name_english'].isna(),'product_category_name_english']=english_missing"
   ]
  },
  {
   "cell_type": "code",
   "execution_count": 31,
   "id": "9dde8cea",
   "metadata": {},
   "outputs": [
    {
     "name": "stdout",
     "output_type": "stream",
     "text": [
      "<class 'pandas.core.frame.DataFrame'>\n",
      "Int64Index: 32951 entries, 0 to 32950\n",
      "Data columns (total 3 columns):\n",
      " #   Column                         Non-Null Count  Dtype \n",
      "---  ------                         --------------  ----- \n",
      " 0   product_id                     32951 non-null  object\n",
      " 1   product_category_name          32951 non-null  object\n",
      " 2   product_category_name_english  32951 non-null  object\n",
      "dtypes: object(3)\n",
      "memory usage: 1.0+ MB\n"
     ]
    }
   ],
   "source": [
    "products.info()"
   ]
  },
  {
   "cell_type": "markdown",
   "id": "a834ae88",
   "metadata": {},
   "source": [
    "[Retour au sommaire](#0)<br>"
   ]
  },
  {
   "cell_type": "markdown",
   "id": "7bd794bc",
   "metadata": {},
   "source": [
    "# IV CREATION DES VARIABLES ET DU DATAFRAME PAR CLIENTS  <a id=\"4\"></a>"
   ]
  },
  {
   "cell_type": "markdown",
   "id": "f57e6689",
   "metadata": {},
   "source": [
    "# IV.1  Variables relatives aux commandes des clients  <a id=\"4.1\"></a>"
   ]
  },
  {
   "cell_type": "markdown",
   "id": "6c82cf5e",
   "metadata": {},
   "source": [
    "## fusion des tables et calculs de variables par commandes"
   ]
  },
  {
   "cell_type": "markdown",
   "id": "44a27957",
   "metadata": {},
   "source": [
    "Intégration des catégories de produits dans order_items"
   ]
  },
  {
   "cell_type": "code",
   "execution_count": 32,
   "id": "89de6ca9",
   "metadata": {},
   "outputs": [],
   "source": [
    "items_products=order_items.merge(products, on='product_id')"
   ]
  },
  {
   "cell_type": "code",
   "execution_count": 33,
   "id": "04251f7c",
   "metadata": {
    "scrolled": true
   },
   "outputs": [
    {
     "name": "stdout",
     "output_type": "stream",
     "text": [
      "<class 'pandas.core.frame.DataFrame'>\n",
      "Int64Index: 112650 entries, 0 to 112649\n",
      "Data columns (total 8 columns):\n",
      " #   Column                         Non-Null Count   Dtype  \n",
      "---  ------                         --------------   -----  \n",
      " 0   order_id                       112650 non-null  object \n",
      " 1   order_item_id                  112650 non-null  int64  \n",
      " 2   product_id                     112650 non-null  object \n",
      " 3   seller_id                      112650 non-null  object \n",
      " 4   price                          112650 non-null  float64\n",
      " 5   freight_value                  112650 non-null  float64\n",
      " 6   product_category_name          112650 non-null  object \n",
      " 7   product_category_name_english  112650 non-null  object \n",
      "dtypes: float64(2), int64(1), object(5)\n",
      "memory usage: 7.7+ MB\n"
     ]
    }
   ],
   "source": [
    "items_products.info()"
   ]
  },
  {
   "cell_type": "markdown",
   "id": "c0b2a74f",
   "metadata": {},
   "source": [
    "Intégration des clients dans orders"
   ]
  },
  {
   "cell_type": "code",
   "execution_count": 34,
   "id": "b9bcbe1d",
   "metadata": {},
   "outputs": [],
   "source": [
    "orders_cust=orders.merge(customers, on='customer_id')"
   ]
  },
  {
   "cell_type": "code",
   "execution_count": 35,
   "id": "d732fad5",
   "metadata": {
    "scrolled": true
   },
   "outputs": [
    {
     "name": "stdout",
     "output_type": "stream",
     "text": [
      "<class 'pandas.core.frame.DataFrame'>\n",
      "Int64Index: 99441 entries, 0 to 99440\n",
      "Data columns (total 10 columns):\n",
      " #   Column                    Non-Null Count  Dtype         \n",
      "---  ------                    --------------  -----         \n",
      " 0   order_id                  99441 non-null  object        \n",
      " 1   customer_id               99441 non-null  object        \n",
      " 2   order_status              99441 non-null  object        \n",
      " 3   order_purchase_timestamp  99441 non-null  datetime64[ns]\n",
      " 4   total_order               98666 non-null  float64       \n",
      " 5   payment_value             99440 non-null  float64       \n",
      " 6   customer_unique_id        99441 non-null  object        \n",
      " 7   customer_zip_code_prefix  99441 non-null  object        \n",
      " 8   customer_city             99441 non-null  object        \n",
      " 9   customer_state            99441 non-null  object        \n",
      "dtypes: datetime64[ns](1), float64(2), object(7)\n",
      "memory usage: 8.3+ MB\n"
     ]
    }
   ],
   "source": [
    "orders_cust.info()"
   ]
  },
  {
   "cell_type": "markdown",
   "id": "534628cc",
   "metadata": {},
   "source": [
    "Calcul du nombre d'article par commande"
   ]
  },
  {
   "cell_type": "code",
   "execution_count": 36,
   "id": "ab4449ea",
   "metadata": {},
   "outputs": [],
   "source": [
    "items_per_order=items_products.groupby('order_id')[['product_id']].count().reset_index()"
   ]
  },
  {
   "cell_type": "code",
   "execution_count": 37,
   "id": "0c548437",
   "metadata": {},
   "outputs": [],
   "source": [
    "items_per_order.columns=['order_id','items_per_order']"
   ]
  },
  {
   "cell_type": "markdown",
   "id": "5cc05d00",
   "metadata": {},
   "source": [
    "Calcul du nombre d'articles différents, nombre de vendeurs différents et nombre catégories différentes par commandes"
   ]
  },
  {
   "cell_type": "code",
   "execution_count": 38,
   "id": "b6846bec",
   "metadata": {},
   "outputs": [],
   "source": [
    "uniques=items_products[['order_id','seller_id','product_id','product_category_name']].groupby('order_id').nunique().reset_index()"
   ]
  },
  {
   "cell_type": "code",
   "execution_count": 39,
   "id": "97bf33af",
   "metadata": {},
   "outputs": [],
   "source": [
    "uniques.columns=['order_id','sellers_per_order','unique_products_per_order','unique_category_names_per_order']"
   ]
  },
  {
   "cell_type": "markdown",
   "id": "f5fcbdea",
   "metadata": {},
   "source": [
    "Intégration dans orders_cust"
   ]
  },
  {
   "cell_type": "code",
   "execution_count": 40,
   "id": "b7fed46e",
   "metadata": {},
   "outputs": [],
   "source": [
    "orders_cust=orders_cust.merge(items_per_order, how='left',on='order_id').merge(uniques,how='left', on='order_id')"
   ]
  },
  {
   "cell_type": "code",
   "execution_count": 41,
   "id": "c4f18bd8",
   "metadata": {
    "scrolled": true
   },
   "outputs": [
    {
     "name": "stdout",
     "output_type": "stream",
     "text": [
      "<class 'pandas.core.frame.DataFrame'>\n",
      "Int64Index: 99441 entries, 0 to 99440\n",
      "Data columns (total 14 columns):\n",
      " #   Column                           Non-Null Count  Dtype         \n",
      "---  ------                           --------------  -----         \n",
      " 0   order_id                         99441 non-null  object        \n",
      " 1   customer_id                      99441 non-null  object        \n",
      " 2   order_status                     99441 non-null  object        \n",
      " 3   order_purchase_timestamp         99441 non-null  datetime64[ns]\n",
      " 4   total_order                      98666 non-null  float64       \n",
      " 5   payment_value                    99440 non-null  float64       \n",
      " 6   customer_unique_id               99441 non-null  object        \n",
      " 7   customer_zip_code_prefix         99441 non-null  object        \n",
      " 8   customer_city                    99441 non-null  object        \n",
      " 9   customer_state                   99441 non-null  object        \n",
      " 10  items_per_order                  98666 non-null  float64       \n",
      " 11  sellers_per_order                98666 non-null  float64       \n",
      " 12  unique_products_per_order        98666 non-null  float64       \n",
      " 13  unique_category_names_per_order  98666 non-null  float64       \n",
      "dtypes: datetime64[ns](1), float64(6), object(7)\n",
      "memory usage: 11.4+ MB\n"
     ]
    }
   ],
   "source": [
    "orders_cust.info()"
   ]
  },
  {
   "cell_type": "markdown",
   "id": "f24c104f",
   "metadata": {},
   "source": [
    "## Traitement des valeurs nulles\n",
    "\n",
    "Remplaçons les montants total_order nuls par le montant 'payment value'"
   ]
  },
  {
   "cell_type": "code",
   "execution_count": 42,
   "id": "3f0a3171",
   "metadata": {},
   "outputs": [],
   "source": [
    "total_nan=orders_cust.loc[orders_cust['total_order'].isnull(), 'payment_value'].copy()\n",
    "orders_cust.loc[orders_cust['total_order'].isnull(), 'total_order']=total_nan"
   ]
  },
  {
   "cell_type": "markdown",
   "id": "a6c271c2",
   "metadata": {},
   "source": [
    "## Calcul des variables par clients"
   ]
  },
  {
   "cell_type": "code",
   "execution_count": 43,
   "id": "6b6761ec",
   "metadata": {},
   "outputs": [],
   "source": [
    "#groupby object\n",
    "cust_groupby=orders_cust.groupby('customer_unique_id')"
   ]
  },
  {
   "cell_type": "code",
   "execution_count": 44,
   "id": "ca47e887",
   "metadata": {},
   "outputs": [],
   "source": [
    "#nombre de commande par clients\n",
    "number_of_orders=cust_groupby[['order_id']].count()\n",
    "number_of_orders.columns=['nb_orders']"
   ]
  },
  {
   "cell_type": "code",
   "execution_count": 45,
   "id": "400aff8a",
   "metadata": {},
   "outputs": [],
   "source": [
    "#date du dernier achat\n",
    "last_order=cust_groupby[['order_purchase_timestamp']].max()\n",
    "last_order.columns=['last_order_timestamp']"
   ]
  },
  {
   "cell_type": "code",
   "execution_count": 46,
   "id": "ba8fa500",
   "metadata": {
    "scrolled": true
   },
   "outputs": [],
   "source": [
    "#date du premier achat\n",
    "first_order=cust_groupby[['order_purchase_timestamp']].min()\n",
    "first_order.columns=['first_order_timestamp']"
   ]
  },
  {
   "cell_type": "code",
   "execution_count": 47,
   "id": "38b705db",
   "metadata": {},
   "outputs": [],
   "source": [
    "#caractéristiques du panier moyen \n",
    "basket=cust_groupby[['total_order','items_per_order','sellers_per_order','unique_products_per_order','unique_category_names_per_order']].mean()\n",
    "basket.columns=['mean_spent_per_order','mean_items_per_order','mean_sellers_per_order','mean_unique_products_per_order','mean_unique_cat_per_order']"
   ]
  },
  {
   "cell_type": "markdown",
   "id": "4f5f8428",
   "metadata": {},
   "source": [
    "[Retour au sommaire](#0)<br>"
   ]
  },
  {
   "cell_type": "markdown",
   "id": "06a1d6db",
   "metadata": {},
   "source": [
    "# IV.2  Variables relatives à la localisation des clients  <a id=\"4.2\"></a>\n",
    "\n",
    "Analysons la répartition des clients par villes et par Etats afin de choisir une variable pertinente"
   ]
  },
  {
   "cell_type": "code",
   "execution_count": 48,
   "id": "5ab0443b",
   "metadata": {},
   "outputs": [
    {
     "data": {
      "text/plain": [
       "4119"
      ]
     },
     "execution_count": 48,
     "metadata": {},
     "output_type": "execute_result"
    }
   ],
   "source": [
    "#nombre de villes dans le jeu de données\n",
    "len(orders_cust['customer_city'].unique())"
   ]
  },
  {
   "cell_type": "code",
   "execution_count": 49,
   "id": "d9495ea8",
   "metadata": {
    "scrolled": true
   },
   "outputs": [
    {
     "data": {
      "text/plain": [
       "sao paulo                15540\n",
       "rio de janeiro            6882\n",
       "belo horizonte            2773\n",
       "brasilia                  2131\n",
       "curitiba                  1521\n",
       "campinas                  1444\n",
       "porto alegre              1379\n",
       "salvador                  1245\n",
       "guarulhos                 1189\n",
       "sao bernardo do campo      938\n",
       "Name: customer_city, dtype: int64"
      ]
     },
     "execution_count": 49,
     "metadata": {},
     "output_type": "execute_result"
    }
   ],
   "source": [
    "orders_cust['customer_city'].value_counts().head(10)"
   ]
  },
  {
   "cell_type": "code",
   "execution_count": 50,
   "id": "926a9ac1",
   "metadata": {},
   "outputs": [
    {
     "data": {
      "text/plain": [
       "27"
      ]
     },
     "execution_count": 50,
     "metadata": {},
     "output_type": "execute_result"
    }
   ],
   "source": [
    "#nombre d'états dans le jeu de données\n",
    "len(orders_cust['customer_state'].unique())"
   ]
  },
  {
   "cell_type": "code",
   "execution_count": 51,
   "id": "379733e5",
   "metadata": {},
   "outputs": [
    {
     "data": {
      "text/plain": [
       "SP    41746\n",
       "RJ    12852\n",
       "MG    11635\n",
       "RS     5466\n",
       "PR     5045\n",
       "SC     3637\n",
       "BA     3380\n",
       "DF     2140\n",
       "ES     2033\n",
       "GO     2020\n",
       "Name: customer_state, dtype: int64"
      ]
     },
     "execution_count": 51,
     "metadata": {},
     "output_type": "execute_result"
    }
   ],
   "source": [
    "orders_cust['customer_state'].value_counts().head(10)"
   ]
  },
  {
   "cell_type": "markdown",
   "id": "bf769e9d",
   "metadata": {},
   "source": [
    "Nous allons utiliser la localisation des clients par Etats et conserver uniquements les trois principaux états"
   ]
  },
  {
   "cell_type": "code",
   "execution_count": 52,
   "id": "7cc8f125",
   "metadata": {},
   "outputs": [],
   "source": [
    "other_states=set(orders_cust['customer_state'].unique())-{'SP','RJ', 'MG'}"
   ]
  },
  {
   "cell_type": "code",
   "execution_count": 53,
   "id": "c0468b06",
   "metadata": {},
   "outputs": [
    {
     "data": {
      "text/html": [
       "<div>\n",
       "<style scoped>\n",
       "    .dataframe tbody tr th:only-of-type {\n",
       "        vertical-align: middle;\n",
       "    }\n",
       "\n",
       "    .dataframe tbody tr th {\n",
       "        vertical-align: top;\n",
       "    }\n",
       "\n",
       "    .dataframe thead th {\n",
       "        text-align: right;\n",
       "    }\n",
       "</style>\n",
       "<table border=\"1\" class=\"dataframe\">\n",
       "  <thead>\n",
       "    <tr style=\"text-align: right;\">\n",
       "      <th></th>\n",
       "      <th>customer_unique_id</th>\n",
       "      <th>customer_state</th>\n",
       "    </tr>\n",
       "  </thead>\n",
       "  <tbody>\n",
       "    <tr>\n",
       "      <th>0</th>\n",
       "      <td>7c396fd4830fd04220f754e42b4e5bff</td>\n",
       "      <td>SP</td>\n",
       "    </tr>\n",
       "    <tr>\n",
       "      <th>1</th>\n",
       "      <td>af07308b275d755c9edb36a90c618231</td>\n",
       "      <td>BA</td>\n",
       "    </tr>\n",
       "    <tr>\n",
       "      <th>2</th>\n",
       "      <td>3a653a41f6f9fc3d2a113cf8398680e8</td>\n",
       "      <td>GO</td>\n",
       "    </tr>\n",
       "    <tr>\n",
       "      <th>3</th>\n",
       "      <td>7c142cf63193a1473d2e66489a9ae977</td>\n",
       "      <td>RN</td>\n",
       "    </tr>\n",
       "    <tr>\n",
       "      <th>4</th>\n",
       "      <td>72632f0f9dd73dfee390c9b22eb56dd6</td>\n",
       "      <td>SP</td>\n",
       "    </tr>\n",
       "    <tr>\n",
       "      <th>...</th>\n",
       "      <td>...</td>\n",
       "      <td>...</td>\n",
       "    </tr>\n",
       "    <tr>\n",
       "      <th>99436</th>\n",
       "      <td>6359f309b166b0196dbf7ad2ac62bb5a</td>\n",
       "      <td>SP</td>\n",
       "    </tr>\n",
       "    <tr>\n",
       "      <th>99437</th>\n",
       "      <td>da62f9e57a76d978d02ab5362c509660</td>\n",
       "      <td>SP</td>\n",
       "    </tr>\n",
       "    <tr>\n",
       "      <th>99438</th>\n",
       "      <td>737520a9aad80b3fbbdad19b66b37b30</td>\n",
       "      <td>BA</td>\n",
       "    </tr>\n",
       "    <tr>\n",
       "      <th>99439</th>\n",
       "      <td>5097a5312c8b157bb7be58ae360ef43c</td>\n",
       "      <td>RJ</td>\n",
       "    </tr>\n",
       "    <tr>\n",
       "      <th>99440</th>\n",
       "      <td>60350aa974b26ff12caad89e55993bd6</td>\n",
       "      <td>PR</td>\n",
       "    </tr>\n",
       "  </tbody>\n",
       "</table>\n",
       "<p>96136 rows × 2 columns</p>\n",
       "</div>"
      ],
      "text/plain": [
       "                     customer_unique_id customer_state\n",
       "0      7c396fd4830fd04220f754e42b4e5bff             SP\n",
       "1      af07308b275d755c9edb36a90c618231             BA\n",
       "2      3a653a41f6f9fc3d2a113cf8398680e8             GO\n",
       "3      7c142cf63193a1473d2e66489a9ae977             RN\n",
       "4      72632f0f9dd73dfee390c9b22eb56dd6             SP\n",
       "...                                 ...            ...\n",
       "99436  6359f309b166b0196dbf7ad2ac62bb5a             SP\n",
       "99437  da62f9e57a76d978d02ab5362c509660             SP\n",
       "99438  737520a9aad80b3fbbdad19b66b37b30             BA\n",
       "99439  5097a5312c8b157bb7be58ae360ef43c             RJ\n",
       "99440  60350aa974b26ff12caad89e55993bd6             PR\n",
       "\n",
       "[96136 rows x 2 columns]"
      ]
     },
     "execution_count": 53,
     "metadata": {},
     "output_type": "execute_result"
    }
   ],
   "source": [
    "orders_cust[['customer_unique_id','customer_state']].copy().drop_duplicates()"
   ]
  },
  {
   "cell_type": "markdown",
   "id": "67f8438e",
   "metadata": {},
   "source": [
    "Certains clients sont identifiés sur plusieurs états différents (environ 130), ce n'est pas significatifs alors nous allons utiliser l'état le plus fréquent."
   ]
  },
  {
   "cell_type": "code",
   "execution_count": 54,
   "id": "25398fc1",
   "metadata": {},
   "outputs": [],
   "source": [
    "cust_states=cust_groupby[['customer_state']].max()"
   ]
  },
  {
   "cell_type": "code",
   "execution_count": 55,
   "id": "f0977729",
   "metadata": {},
   "outputs": [],
   "source": [
    "cust_states.loc[cust_states['customer_state'].isin(other_states),'customer_state']='Other'"
   ]
  },
  {
   "cell_type": "markdown",
   "id": "2ac745ce",
   "metadata": {},
   "source": [
    "[Retour au sommaire](#0)<br>"
   ]
  },
  {
   "cell_type": "markdown",
   "id": "ac8e4e50",
   "metadata": {},
   "source": [
    "# IV.3 Variables relatives à la satisfaction clients <a id=\"4.3\"></a>"
   ]
  },
  {
   "cell_type": "code",
   "execution_count": 56,
   "id": "da85a72f",
   "metadata": {},
   "outputs": [],
   "source": [
    "reviews=orders_cust[['order_id','customer_unique_id']].merge(order_reviews, how='left', on='order_id')"
   ]
  },
  {
   "cell_type": "code",
   "execution_count": 57,
   "id": "9b21b48c",
   "metadata": {},
   "outputs": [
    {
     "name": "stdout",
     "output_type": "stream",
     "text": [
      "<class 'pandas.core.frame.DataFrame'>\n",
      "Int64Index: 99992 entries, 0 to 99991\n",
      "Data columns (total 7 columns):\n",
      " #   Column                   Non-Null Count  Dtype         \n",
      "---  ------                   --------------  -----         \n",
      " 0   order_id                 99992 non-null  object        \n",
      " 1   customer_unique_id       99992 non-null  object        \n",
      " 2   review_id                99224 non-null  object        \n",
      " 3   review_score             99224 non-null  float64       \n",
      " 4   review_comment_message   40977 non-null  object        \n",
      " 5   review_creation_date     99224 non-null  datetime64[ns]\n",
      " 6   review_answer_timestamp  99224 non-null  datetime64[ns]\n",
      "dtypes: datetime64[ns](2), float64(1), object(4)\n",
      "memory usage: 6.1+ MB\n"
     ]
    }
   ],
   "source": [
    "reviews.info()"
   ]
  },
  {
   "cell_type": "code",
   "execution_count": 58,
   "id": "7219902b",
   "metadata": {},
   "outputs": [],
   "source": [
    "#groupby object\n",
    "reviews_grouby=reviews.groupby('customer_unique_id')"
   ]
  },
  {
   "cell_type": "code",
   "execution_count": 59,
   "id": "2118e953",
   "metadata": {},
   "outputs": [],
   "source": [
    "#nombre de revues laissées, nombre de commentaires\n",
    "review_num=reviews_grouby[['review_comment_message','review_id']].count()\n",
    "review_num.columns=['num_review_comments', 'num_reviews']"
   ]
  },
  {
   "cell_type": "code",
   "execution_count": 60,
   "id": "65a0f6d3",
   "metadata": {},
   "outputs": [],
   "source": [
    "#note moyenne \n",
    "score=reviews_grouby[['review_score']].mean()\n",
    "score.columns=['mean_score']"
   ]
  },
  {
   "cell_type": "markdown",
   "id": "191a410c",
   "metadata": {},
   "source": [
    "[Retour au sommaire](#0)<br>"
   ]
  },
  {
   "cell_type": "markdown",
   "id": "cad9a1df",
   "metadata": {},
   "source": [
    "# IV.4 Création du dataframe clients <a id=\"4.4\"></a>"
   ]
  },
  {
   "cell_type": "code",
   "execution_count": 61,
   "id": "b47946fa",
   "metadata": {},
   "outputs": [],
   "source": [
    "clients=number_of_orders\n",
    "for df in [last_order,first_order,basket,review_num,score, cust_states]:\n",
    "    clients=clients.merge(df, on='customer_unique_id')"
   ]
  },
  {
   "cell_type": "code",
   "execution_count": 62,
   "id": "f8cd170d",
   "metadata": {},
   "outputs": [],
   "source": [
    "clients=clients.reset_index()"
   ]
  },
  {
   "cell_type": "code",
   "execution_count": 63,
   "id": "35b00a04",
   "metadata": {
    "scrolled": false
   },
   "outputs": [
    {
     "name": "stdout",
     "output_type": "stream",
     "text": [
      "<class 'pandas.core.frame.DataFrame'>\n",
      "RangeIndex: 96096 entries, 0 to 96095\n",
      "Data columns (total 13 columns):\n",
      " #   Column                          Non-Null Count  Dtype         \n",
      "---  ------                          --------------  -----         \n",
      " 0   customer_unique_id              96096 non-null  object        \n",
      " 1   nb_orders                       96096 non-null  int64         \n",
      " 2   last_order_timestamp            96096 non-null  datetime64[ns]\n",
      " 3   first_order_timestamp           96096 non-null  datetime64[ns]\n",
      " 4   mean_spent_per_order            96096 non-null  float64       \n",
      " 5   mean_items_per_order            95420 non-null  float64       \n",
      " 6   mean_sellers_per_order          95420 non-null  float64       \n",
      " 7   mean_unique_products_per_order  95420 non-null  float64       \n",
      " 8   mean_unique_cat_per_order       95420 non-null  float64       \n",
      " 9   num_review_comments             96096 non-null  int64         \n",
      " 10  num_reviews                     96096 non-null  int64         \n",
      " 11  mean_score                      95380 non-null  float64       \n",
      " 12  customer_state                  96096 non-null  object        \n",
      "dtypes: datetime64[ns](2), float64(6), int64(3), object(2)\n",
      "memory usage: 9.5+ MB\n"
     ]
    }
   ],
   "source": [
    "clients.info()"
   ]
  },
  {
   "cell_type": "markdown",
   "id": "2db7dc2a",
   "metadata": {},
   "source": [
    "## analyse des valeur nulles"
   ]
  },
  {
   "cell_type": "code",
   "execution_count": 64,
   "id": "bb3d9656",
   "metadata": {},
   "outputs": [
    {
     "name": "stdout",
     "output_type": "stream",
     "text": [
      "<class 'pandas.core.frame.DataFrame'>\n",
      "Int64Index: 676 entries, 123 to 95988\n",
      "Data columns (total 13 columns):\n",
      " #   Column                          Non-Null Count  Dtype         \n",
      "---  ------                          --------------  -----         \n",
      " 0   customer_unique_id              676 non-null    object        \n",
      " 1   nb_orders                       676 non-null    int64         \n",
      " 2   last_order_timestamp            676 non-null    datetime64[ns]\n",
      " 3   first_order_timestamp           676 non-null    datetime64[ns]\n",
      " 4   mean_spent_per_order            676 non-null    float64       \n",
      " 5   mean_items_per_order            0 non-null      float64       \n",
      " 6   mean_sellers_per_order          0 non-null      float64       \n",
      " 7   mean_unique_products_per_order  0 non-null      float64       \n",
      " 8   mean_unique_cat_per_order       0 non-null      float64       \n",
      " 9   num_review_comments             676 non-null    int64         \n",
      " 10  num_reviews                     676 non-null    int64         \n",
      " 11  mean_score                      659 non-null    float64       \n",
      " 12  customer_state                  676 non-null    object        \n",
      "dtypes: datetime64[ns](2), float64(6), int64(3), object(2)\n",
      "memory usage: 73.9+ KB\n"
     ]
    }
   ],
   "source": [
    "clients.loc[clients['mean_items_per_order'].isna()].info()"
   ]
  },
  {
   "cell_type": "code",
   "execution_count": 65,
   "id": "e7ec36cc",
   "metadata": {},
   "outputs": [
    {
     "data": {
      "text/plain": [
       "count    659.000000\n",
       "mean       1.614568\n",
       "std        1.216715\n",
       "min        1.000000\n",
       "25%        1.000000\n",
       "50%        1.000000\n",
       "75%        2.000000\n",
       "max        5.000000\n",
       "Name: mean_score, dtype: float64"
      ]
     },
     "execution_count": 65,
     "metadata": {},
     "output_type": "execute_result"
    }
   ],
   "source": [
    "clients.loc[clients['mean_items_per_order'].isna(), 'mean_score'].describe()"
   ]
  },
  {
   "cell_type": "code",
   "execution_count": 66,
   "id": "513ef8c0",
   "metadata": {},
   "outputs": [
    {
     "data": {
      "text/plain": [
       "count    95380.000000\n",
       "mean         4.084989\n",
       "std          1.341571\n",
       "min          1.000000\n",
       "25%          4.000000\n",
       "50%          5.000000\n",
       "75%          5.000000\n",
       "max          5.000000\n",
       "Name: mean_score, dtype: float64"
      ]
     },
     "execution_count": 66,
     "metadata": {},
     "output_type": "execute_result"
    }
   ],
   "source": [
    "clients['mean_score'].describe()"
   ]
  },
  {
   "cell_type": "markdown",
   "id": "c6d4c58f",
   "metadata": {},
   "source": [
    "Il y a 676 clients pour lesquelles aucune de leur commande ne contient de détail produits. Ces clients laissent cependant des revues donc nous allons garder ces clients dans la base.\n",
    "\n",
    "pour ces 676 clients nous allons remplacer les valeurs nulles par :\n",
    "- le score moyen de ces clients pour la variable mean_score\n",
    "- 0 pour les autre variables.\n",
    "\n",
    "pour les autres 95420 clients qui n'ont pas laissé de score nous allons remplacer les valeurs nulles par le score moyen de ces clients.\n"
   ]
  },
  {
   "cell_type": "code",
   "execution_count": 67,
   "id": "92f301a1",
   "metadata": {},
   "outputs": [],
   "source": [
    "moy_na=clients.loc[clients['mean_items_per_order'].isna(), 'mean_score'].mean()"
   ]
  },
  {
   "cell_type": "code",
   "execution_count": 68,
   "id": "a22c3da7",
   "metadata": {},
   "outputs": [],
   "source": [
    "moy_notna=clients.loc[clients['mean_items_per_order'].notna(), 'mean_score'].mean()"
   ]
  },
  {
   "cell_type": "code",
   "execution_count": 69,
   "id": "cec37848",
   "metadata": {},
   "outputs": [],
   "source": [
    "clients.loc[(clients['mean_items_per_order'].isna() & clients['mean_score'].isna()), 'mean_score']=moy_na"
   ]
  },
  {
   "cell_type": "code",
   "execution_count": 70,
   "id": "1cb37d90",
   "metadata": {},
   "outputs": [],
   "source": [
    "clients.loc[(clients['mean_items_per_order'].notna() & clients['mean_score'].isna()), 'mean_score']=moy_notna"
   ]
  },
  {
   "cell_type": "code",
   "execution_count": 71,
   "id": "171b7721",
   "metadata": {},
   "outputs": [],
   "source": [
    "clients.fillna(0, inplace=True)"
   ]
  },
  {
   "cell_type": "markdown",
   "id": "59d86dee",
   "metadata": {},
   "source": [
    "remplaçons les variables 'last_order_timestamp' et 'first_order_timestamp' par les variables :\n",
    "\n",
    "- 'recency' qui mesure le nombre de jours depuis le dernier achat\n",
    "- 'age' qui mesure l'ancienneté du client\n",
    "\n",
    "créons une variable year qui va nous servir pour évaluer la fréquence de mise à jour."
   ]
  },
  {
   "cell_type": "code",
   "execution_count": 72,
   "id": "22a4afbe",
   "metadata": {},
   "outputs": [],
   "source": [
    "clients['recency']=(pd.to_datetime('now')-clients['last_order_timestamp']).dt.days"
   ]
  },
  {
   "cell_type": "code",
   "execution_count": 73,
   "id": "5dc707b8",
   "metadata": {},
   "outputs": [],
   "source": [
    "clients['age']=(pd.to_datetime('now')-clients['first_order_timestamp']).dt.days"
   ]
  },
  {
   "cell_type": "code",
   "execution_count": 74,
   "id": "ce8ad765",
   "metadata": {},
   "outputs": [],
   "source": [
    "clients['year']=clients['first_order_timestamp'].dt.year.astype('object')"
   ]
  },
  {
   "cell_type": "code",
   "execution_count": 75,
   "id": "c3dc1ee3",
   "metadata": {},
   "outputs": [],
   "source": [
    "clients.drop(columns=['last_order_timestamp','first_order_timestamp'], inplace=True)"
   ]
  },
  {
   "cell_type": "code",
   "execution_count": 76,
   "id": "67045025",
   "metadata": {
    "scrolled": true
   },
   "outputs": [
    {
     "name": "stdout",
     "output_type": "stream",
     "text": [
      "<class 'pandas.core.frame.DataFrame'>\n",
      "RangeIndex: 96096 entries, 0 to 96095\n",
      "Data columns (total 14 columns):\n",
      " #   Column                          Non-Null Count  Dtype  \n",
      "---  ------                          --------------  -----  \n",
      " 0   customer_unique_id              96096 non-null  object \n",
      " 1   nb_orders                       96096 non-null  int64  \n",
      " 2   mean_spent_per_order            96096 non-null  float64\n",
      " 3   mean_items_per_order            96096 non-null  float64\n",
      " 4   mean_sellers_per_order          96096 non-null  float64\n",
      " 5   mean_unique_products_per_order  96096 non-null  float64\n",
      " 6   mean_unique_cat_per_order       96096 non-null  float64\n",
      " 7   num_review_comments             96096 non-null  int64  \n",
      " 8   num_reviews                     96096 non-null  int64  \n",
      " 9   mean_score                      96096 non-null  float64\n",
      " 10  customer_state                  96096 non-null  object \n",
      " 11  recency                         96096 non-null  int64  \n",
      " 12  age                             96096 non-null  int64  \n",
      " 13  year                            96096 non-null  object \n",
      "dtypes: float64(6), int64(5), object(3)\n",
      "memory usage: 10.3+ MB\n"
     ]
    }
   ],
   "source": [
    "clients.info()"
   ]
  },
  {
   "cell_type": "markdown",
   "id": "4811229c",
   "metadata": {},
   "source": [
    "[Retour au sommaire](#0)<br>"
   ]
  },
  {
   "cell_type": "markdown",
   "id": "a6cbb7e5",
   "metadata": {},
   "source": [
    "# V ANALYSE EXPLOIRATOIRE  <a id=\"5\"></a>"
   ]
  },
  {
   "cell_type": "markdown",
   "id": "feca3ce8",
   "metadata": {},
   "source": [
    "# Analyse descriptive"
   ]
  },
  {
   "cell_type": "code",
   "execution_count": 77,
   "id": "5c0bf9fb",
   "metadata": {},
   "outputs": [
    {
     "data": {
      "text/html": [
       "<div>\n",
       "<style scoped>\n",
       "    .dataframe tbody tr th:only-of-type {\n",
       "        vertical-align: middle;\n",
       "    }\n",
       "\n",
       "    .dataframe tbody tr th {\n",
       "        vertical-align: top;\n",
       "    }\n",
       "\n",
       "    .dataframe thead th {\n",
       "        text-align: right;\n",
       "    }\n",
       "</style>\n",
       "<table border=\"1\" class=\"dataframe\">\n",
       "  <thead>\n",
       "    <tr style=\"text-align: right;\">\n",
       "      <th></th>\n",
       "      <th>nb_orders</th>\n",
       "      <th>mean_spent_per_order</th>\n",
       "      <th>mean_items_per_order</th>\n",
       "      <th>mean_sellers_per_order</th>\n",
       "      <th>mean_unique_products_per_order</th>\n",
       "      <th>mean_unique_cat_per_order</th>\n",
       "      <th>num_review_comments</th>\n",
       "      <th>num_reviews</th>\n",
       "      <th>mean_score</th>\n",
       "      <th>recency</th>\n",
       "      <th>age</th>\n",
       "    </tr>\n",
       "  </thead>\n",
       "  <tbody>\n",
       "    <tr>\n",
       "      <th>count</th>\n",
       "      <td>96096.000000</td>\n",
       "      <td>96096.000000</td>\n",
       "      <td>96096.000000</td>\n",
       "      <td>96096.000000</td>\n",
       "      <td>96096.000000</td>\n",
       "      <td>96096.000000</td>\n",
       "      <td>96096.000000</td>\n",
       "      <td>96096.000000</td>\n",
       "      <td>96096.000000</td>\n",
       "      <td>96096.000000</td>\n",
       "      <td>96096.000000</td>\n",
       "    </tr>\n",
       "    <tr>\n",
       "      <th>mean</th>\n",
       "      <td>1.034809</td>\n",
       "      <td>161.373125</td>\n",
       "      <td>1.131087</td>\n",
       "      <td>1.006134</td>\n",
       "      <td>1.029632</td>\n",
       "      <td>1.000757</td>\n",
       "      <td>0.426417</td>\n",
       "      <td>1.032551</td>\n",
       "      <td>4.084677</td>\n",
       "      <td>1666.516515</td>\n",
       "      <td>1669.239334</td>\n",
       "    </tr>\n",
       "    <tr>\n",
       "      <th>std</th>\n",
       "      <td>0.214384</td>\n",
       "      <td>222.291655</td>\n",
       "      <td>0.533585</td>\n",
       "      <td>0.145799</td>\n",
       "      <td>0.235160</td>\n",
       "      <td>0.122040</td>\n",
       "      <td>0.524380</td>\n",
       "      <td>0.269283</td>\n",
       "      <td>1.336969</td>\n",
       "      <td>153.414688</td>\n",
       "      <td>153.903866</td>\n",
       "    </tr>\n",
       "    <tr>\n",
       "      <th>min</th>\n",
       "      <td>1.000000</td>\n",
       "      <td>0.000000</td>\n",
       "      <td>0.000000</td>\n",
       "      <td>0.000000</td>\n",
       "      <td>0.000000</td>\n",
       "      <td>0.000000</td>\n",
       "      <td>0.000000</td>\n",
       "      <td>0.000000</td>\n",
       "      <td>1.000000</td>\n",
       "      <td>1378.000000</td>\n",
       "      <td>1378.000000</td>\n",
       "    </tr>\n",
       "    <tr>\n",
       "      <th>25%</th>\n",
       "      <td>1.000000</td>\n",
       "      <td>62.440000</td>\n",
       "      <td>1.000000</td>\n",
       "      <td>1.000000</td>\n",
       "      <td>1.000000</td>\n",
       "      <td>1.000000</td>\n",
       "      <td>0.000000</td>\n",
       "      <td>1.000000</td>\n",
       "      <td>4.000000</td>\n",
       "      <td>1542.000000</td>\n",
       "      <td>1545.000000</td>\n",
       "    </tr>\n",
       "    <tr>\n",
       "      <th>50%</th>\n",
       "      <td>1.000000</td>\n",
       "      <td>105.810000</td>\n",
       "      <td>1.000000</td>\n",
       "      <td>1.000000</td>\n",
       "      <td>1.000000</td>\n",
       "      <td>1.000000</td>\n",
       "      <td>0.000000</td>\n",
       "      <td>1.000000</td>\n",
       "      <td>5.000000</td>\n",
       "      <td>1647.000000</td>\n",
       "      <td>1651.000000</td>\n",
       "    </tr>\n",
       "    <tr>\n",
       "      <th>75%</th>\n",
       "      <td>1.000000</td>\n",
       "      <td>177.160000</td>\n",
       "      <td>1.000000</td>\n",
       "      <td>1.000000</td>\n",
       "      <td>1.000000</td>\n",
       "      <td>1.000000</td>\n",
       "      <td>1.000000</td>\n",
       "      <td>1.000000</td>\n",
       "      <td>5.000000</td>\n",
       "      <td>1776.000000</td>\n",
       "      <td>1779.000000</td>\n",
       "    </tr>\n",
       "    <tr>\n",
       "      <th>max</th>\n",
       "      <td>17.000000</td>\n",
       "      <td>13664.080000</td>\n",
       "      <td>21.000000</td>\n",
       "      <td>5.000000</td>\n",
       "      <td>8.000000</td>\n",
       "      <td>3.000000</td>\n",
       "      <td>7.000000</td>\n",
       "      <td>17.000000</td>\n",
       "      <td>5.000000</td>\n",
       "      <td>2151.000000</td>\n",
       "      <td>2151.000000</td>\n",
       "    </tr>\n",
       "  </tbody>\n",
       "</table>\n",
       "</div>"
      ],
      "text/plain": [
       "          nb_orders  mean_spent_per_order  mean_items_per_order  \\\n",
       "count  96096.000000          96096.000000          96096.000000   \n",
       "mean       1.034809            161.373125              1.131087   \n",
       "std        0.214384            222.291655              0.533585   \n",
       "min        1.000000              0.000000              0.000000   \n",
       "25%        1.000000             62.440000              1.000000   \n",
       "50%        1.000000            105.810000              1.000000   \n",
       "75%        1.000000            177.160000              1.000000   \n",
       "max       17.000000          13664.080000             21.000000   \n",
       "\n",
       "       mean_sellers_per_order  mean_unique_products_per_order  \\\n",
       "count            96096.000000                    96096.000000   \n",
       "mean                 1.006134                        1.029632   \n",
       "std                  0.145799                        0.235160   \n",
       "min                  0.000000                        0.000000   \n",
       "25%                  1.000000                        1.000000   \n",
       "50%                  1.000000                        1.000000   \n",
       "75%                  1.000000                        1.000000   \n",
       "max                  5.000000                        8.000000   \n",
       "\n",
       "       mean_unique_cat_per_order  num_review_comments   num_reviews  \\\n",
       "count               96096.000000         96096.000000  96096.000000   \n",
       "mean                    1.000757             0.426417      1.032551   \n",
       "std                     0.122040             0.524380      0.269283   \n",
       "min                     0.000000             0.000000      0.000000   \n",
       "25%                     1.000000             0.000000      1.000000   \n",
       "50%                     1.000000             0.000000      1.000000   \n",
       "75%                     1.000000             1.000000      1.000000   \n",
       "max                     3.000000             7.000000     17.000000   \n",
       "\n",
       "         mean_score       recency           age  \n",
       "count  96096.000000  96096.000000  96096.000000  \n",
       "mean       4.084677   1666.516515   1669.239334  \n",
       "std        1.336969    153.414688    153.903866  \n",
       "min        1.000000   1378.000000   1378.000000  \n",
       "25%        4.000000   1542.000000   1545.000000  \n",
       "50%        5.000000   1647.000000   1651.000000  \n",
       "75%        5.000000   1776.000000   1779.000000  \n",
       "max        5.000000   2151.000000   2151.000000  "
      ]
     },
     "execution_count": 77,
     "metadata": {},
     "output_type": "execute_result"
    }
   ],
   "source": [
    "clients.describe()"
   ]
  },
  {
   "cell_type": "code",
   "execution_count": 78,
   "id": "6139dffe",
   "metadata": {
    "scrolled": false
   },
   "outputs": [
    {
     "data": {
      "image/png": "[encoded data removed]",
      "text/plain": [
       "<Figure size 1152x2304 with 12 Axes>"
      ]
     },
     "metadata": {
      "needs_background": "light"
     },
     "output_type": "display_data"
    }
   ],
   "source": [
    "fig, ((ax1,ax2),(ax3,ax4),(ax5,ax6),(ax7,ax8),(ax9,ax10),(ax11,ax12)) = plt.subplots(6,2, figsize=(16,32))\n",
    "for ax, col in zip([ax1,ax2,ax3,ax4,ax5,ax6,ax7,ax8,ax9,ax10,ax11,ax12],clients.columns[1:13]):\n",
    "    sns.histplot(data=clients, x=col, stat='percent', ax=ax)"
   ]
  },
  {
   "cell_type": "markdown",
   "id": "2cebacb8",
   "metadata": {},
   "source": [
    "# Analyse des corrélations"
   ]
  },
  {
   "cell_type": "markdown",
   "id": "0a70ac8c",
   "metadata": {},
   "source": [
    "remplaçons la variable customer_state par des dummy variables"
   ]
  },
  {
   "cell_type": "code",
   "execution_count": 79,
   "id": "73d24415",
   "metadata": {
    "scrolled": true
   },
   "outputs": [],
   "source": [
    "dummy_states=pd.get_dummies(clients['customer_state']).copy()\n",
    "clients=pd.concat([clients,dummy_states], axis=1)"
   ]
  },
  {
   "cell_type": "code",
   "execution_count": 1,
   "id": "e17ee42a",
   "metadata": {},
   "outputs": [
    {
     "ename": "NameError",
     "evalue": "name 'plt' is not defined",
     "output_type": "error",
     "traceback": [
      "\u001b[1;31m---------------------------------------------------------------------------\u001b[0m",
      "\u001b[1;31mNameError\u001b[0m                                 Traceback (most recent call last)",
      "\u001b[1;32m~\\AppData\\Local\\Temp/ipykernel_23968/2037232330.py\u001b[0m in \u001b[0;36m<module>\u001b[1;34m\u001b[0m\n\u001b[1;32m----> 1\u001b[1;33m \u001b[0mfig\u001b[0m\u001b[1;33m,\u001b[0m \u001b[0max1\u001b[0m\u001b[1;33m=\u001b[0m \u001b[0mplt\u001b[0m\u001b[1;33m.\u001b[0m\u001b[0msubplots\u001b[0m\u001b[1;33m(\u001b[0m \u001b[0mfigsize\u001b[0m\u001b[1;33m=\u001b[0m\u001b[1;33m(\u001b[0m\u001b[1;36m16\u001b[0m\u001b[1;33m,\u001b[0m\u001b[1;36m10\u001b[0m\u001b[1;33m)\u001b[0m\u001b[1;33m)\u001b[0m\u001b[1;33m\u001b[0m\u001b[1;33m\u001b[0m\u001b[0m\n\u001b[0m\u001b[0;32m      2\u001b[0m \u001b[0msns\u001b[0m\u001b[1;33m.\u001b[0m\u001b[0mheatmap\u001b[0m\u001b[1;33m(\u001b[0m\u001b[0mclients\u001b[0m\u001b[1;33m.\u001b[0m\u001b[0mcorr\u001b[0m\u001b[1;33m(\u001b[0m\u001b[1;33m)\u001b[0m\u001b[1;33m,\u001b[0m \u001b[0mannot\u001b[0m\u001b[1;33m=\u001b[0m\u001b[1;32mTrue\u001b[0m\u001b[1;33m,\u001b[0m \u001b[0mcmap\u001b[0m\u001b[1;33m=\u001b[0m\u001b[1;34m\"YlGnBu\"\u001b[0m\u001b[1;33m)\u001b[0m\u001b[1;33m\u001b[0m\u001b[1;33m\u001b[0m\u001b[0m\n",
      "\u001b[1;31mNameError\u001b[0m: name 'plt' is not defined"
     ]
    }
   ],
   "source": [
    "fig, ax1= plt.subplots( figsize=(16,10))\n",
    "sns.heatmap(clients.corr(), annot=True, cmap=\"YlGnBu\")"
   ]
  },
  {
   "cell_type": "markdown",
   "id": "d6f697c3",
   "metadata": {},
   "source": [
    "# Dataframe final"
   ]
  },
  {
   "cell_type": "markdown",
   "id": "c2443a90",
   "metadata": {},
   "source": [
    "Nous allons supprimer les variables fortement corrélées à d'autres variables.\n",
    "\n",
    "Nous n'avons gardé une seule variable de localisation afin de simplifier et stabiliser notre modèle.\n"
   ]
  },
  {
   "cell_type": "code",
   "execution_count": 81,
   "id": "6539c6a9",
   "metadata": {},
   "outputs": [],
   "source": [
    "clients.drop(columns=['customer_state', 'Other','RJ','MG','num_reviews',\n",
    "                      'mean_sellers_per_order', 'mean_unique_products_per_order'], inplace=True)"
   ]
  },
  {
   "cell_type": "code",
   "execution_count": 82,
   "id": "8a69e841",
   "metadata": {},
   "outputs": [
    {
     "name": "stdout",
     "output_type": "stream",
     "text": [
      "<class 'pandas.core.frame.DataFrame'>\n",
      "RangeIndex: 96096 entries, 0 to 96095\n",
      "Data columns (total 11 columns):\n",
      " #   Column                     Non-Null Count  Dtype  \n",
      "---  ------                     --------------  -----  \n",
      " 0   customer_unique_id         96096 non-null  object \n",
      " 1   nb_orders                  96096 non-null  int64  \n",
      " 2   mean_spent_per_order       96096 non-null  float64\n",
      " 3   mean_items_per_order       96096 non-null  float64\n",
      " 4   mean_unique_cat_per_order  96096 non-null  float64\n",
      " 5   num_review_comments        96096 non-null  int64  \n",
      " 6   mean_score                 96096 non-null  float64\n",
      " 7   recency                    96096 non-null  int64  \n",
      " 8   age                        96096 non-null  int64  \n",
      " 9   year                       96096 non-null  object \n",
      " 10  SP                         96096 non-null  uint8  \n",
      "dtypes: float64(4), int64(4), object(2), uint8(1)\n",
      "memory usage: 7.4+ MB\n"
     ]
    }
   ],
   "source": [
    "clients.info()"
   ]
  },
  {
   "cell_type": "code",
   "execution_count": 83,
   "id": "f9c09b53",
   "metadata": {},
   "outputs": [],
   "source": [
    "#export file\n",
    "clients.to_csv('clients.csv', index=False)"
   ]
  },
  {
   "cell_type": "markdown",
   "id": "85004ffb",
   "metadata": {},
   "source": [
    "[Retour au sommaire](#0)<br>"
   ]
  }
 ],
 "metadata": {
  "kernelspec": {
   "display_name": "Python 3 (ipykernel)",
   "language": "python",
   "name": "python3"
  },
  "language_info": {
   "codemirror_mode": {
    "name": "ipython",
    "version": 3
   },
   "file_extension": ".py",
   "mimetype": "text/x-python",
   "name": "python",
   "nbconvert_exporter": "python",
   "pygments_lexer": "ipython3",
   "version": "3.9.7"
  }
 },
 "nbformat": 4,
 "nbformat_minor": 5
}
